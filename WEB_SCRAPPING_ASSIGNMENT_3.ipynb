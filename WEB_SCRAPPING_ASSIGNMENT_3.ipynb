{
 "cells": [
  {
   "cell_type": "code",
   "execution_count": null,
   "id": "e44c0eae",
   "metadata": {},
   "outputs": [],
   "source": []
  },
  {
   "cell_type": "code",
   "execution_count": 1,
   "id": "66edda22",
   "metadata": {},
   "outputs": [],
   "source": [
    "#\n",
    "import selenium\n",
    "import pandas as pd"
   ]
  },
  {
   "cell_type": "code",
   "execution_count": 2,
   "id": "809cf6f7",
   "metadata": {},
   "outputs": [],
   "source": [
    "from selenium import webdriver\n",
    "\n",
    "from selenium.webdriver.common.by import By\n",
    "from selenium.webdriver.common.keys import Keys"
   ]
  },
  {
   "cell_type": "code",
   "execution_count": 3,
   "id": "29dc23a5",
   "metadata": {},
   "outputs": [],
   "source": [
    "import warnings\n",
    "warnings.filterwarnings('ignore')"
   ]
  },
  {
   "cell_type": "code",
   "execution_count": null,
   "id": "a330b15d",
   "metadata": {},
   "outputs": [],
   "source": [
    "# driver = webdriver.Chrome(r'C:\\Users\\acer\\INTERNSHIP_WORSHEET\\chromedriver.exe')"
   ]
  },
  {
   "cell_type": "code",
   "execution_count": null,
   "id": "57a4be72",
   "metadata": {},
   "outputs": [],
   "source": []
  },
  {
   "cell_type": "code",
   "execution_count": 6,
   "id": "105a1f0a",
   "metadata": {},
   "outputs": [],
   "source": [
    "import requests\n",
    "\n",
    "import time"
   ]
  },
  {
   "cell_type": "code",
   "execution_count": null,
   "id": "b192ce9c",
   "metadata": {},
   "outputs": [],
   "source": []
  },
  {
   "cell_type": "raw",
   "id": "1a98511f",
   "metadata": {},
   "source": [
    "Q-1. Write a python program which searches all the product under a particular product from www.amazon.in. \n",
    "  The product to be searched will be taken as input from user. For e.g. If user input is ‘guitar’. Then search \n",
    "  for guitars."
   ]
  },
  {
   "cell_type": "code",
   "execution_count": 4,
   "id": "db161236",
   "metadata": {},
   "outputs": [],
   "source": [
    "driver = webdriver.Chrome(r'C:\\Users\\acer\\INTERNSHIP_WORSHEET\\chromedriver.exe')"
   ]
  },
  {
   "cell_type": "code",
   "execution_count": 5,
   "id": "992c78e1",
   "metadata": {},
   "outputs": [],
   "source": [
    "driver.get('https://www.amazon.in/')"
   ]
  },
  {
   "cell_type": "code",
   "execution_count": null,
   "id": "b3320c08",
   "metadata": {},
   "outputs": [],
   "source": []
  },
  {
   "cell_type": "code",
   "execution_count": 7,
   "id": "7f49701b",
   "metadata": {},
   "outputs": [
    {
     "name": "stdout",
     "output_type": "stream",
     "text": [
      "gaming laptop\n"
     ]
    }
   ],
   "source": [
    "# select search_bar \n",
    "\n",
    "search_bar= driver.find_element_by_xpath('/html/body/div[1]/header/div/div[1]/div[2]/div/form/div[2]/div[1]/input')\n",
    "\n",
    "search_bar.send_keys(input())  # type input into search bar by input() function\n",
    "\n",
    "search_bar.send_keys(Keys.ENTER)      # click on search"
   ]
  },
  {
   "cell_type": "code",
   "execution_count": 92,
   "id": "ba27c214",
   "metadata": {},
   "outputs": [],
   "source": []
  },
  {
   "cell_type": "raw",
   "id": "4803f217",
   "metadata": {},
   "source": [
    "Q-2. In the above question, now scrape the following details of each product listed in first 3 pages of your \n",
    "  search results and save it in a data frame and csv. In case if any product has less than 3 pages in search \n",
    "  results then scrape all the products available under that product name. Details to be scraped are: \"Brand \n",
    "  Name\", \"Name of the Product\", \"Price\", \"Return/Exchange\", \"Expected Delivery\", \"Availability\" and \n",
    "  “Product URL”. In case, if any of the details are missing for any of the product then replace it by “-“.\n"
   ]
  },
  {
   "cell_type": "code",
   "execution_count": 52,
   "id": "bf6ff2a8",
   "metadata": {},
   "outputs": [],
   "source": [
    "driver.find_element_by_xpath('//a[@class= \"s-pagination-item s-pagination-next s-pagination-button s-pagination-separator\"]').click()"
   ]
  },
  {
   "cell_type": "code",
   "execution_count": 118,
   "id": "7bebee5a",
   "metadata": {},
   "outputs": [],
   "source": [
    "# create empty list for save saving the scrapping data\n",
    "Brand= []\n",
    "product_name= []\n",
    "price= []\n",
    "Expected_delivery = []\n",
    "Availability= []\n",
    "product_url= []"
   ]
  },
  {
   "cell_type": "code",
   "execution_count": 119,
   "id": "8c476b07",
   "metadata": {},
   "outputs": [],
   "source": [
    "#\n",
    "\n",
    "for p in range(3):\n",
    "    product= driver.find_elements_by_xpath('//h2[@class= \"a-size-mini a-spacing-none a-color-base s-line-clamp-2\"]')\n",
    "\n",
    "    for i in product:\n",
    "#        print(i.text.split('\\n')[0].split(',')[0].split(' ')[0])\n",
    "        Brand.append(i.text.split('\\n')[0].split(',')[0].split(' ')[0])      # brand_name\n",
    "\n",
    "#        print(i.text.split('\\n')[0].split(',')[0].split(' ')[1:4])          \n",
    "        product_name.append(i.text.split('\\n')[0].split(',')[0].split(' ')[1:4])      # product_name\n",
    "    \n",
    "    driver.find_element_by_xpath('//a[@class= \"s-pagination-item s-pagination-next s-pagination-button s-pagination-separator\"]').click()\n",
    "    time.sleep(5)"
   ]
  },
  {
   "cell_type": "code",
   "execution_count": 120,
   "id": "2ffaab8c",
   "metadata": {},
   "outputs": [],
   "source": [
    "#  scrapping product price \n",
    "for p in range(3):\n",
    "    pric = driver.find_elements_by_xpath('//span[@class= \"a-price-whole\"]')\n",
    "\n",
    "    for i in pric:\n",
    "#        print(i.text)\n",
    "        price.append(i.text)   \n",
    "    #  go next page \n",
    "    driver.find_element_by_xpath('//a[@class= \"s-pagination-item s-pagination-next s-pagination-button s-pagination-separator\"]').click()\n",
    "    time.sleep(5)"
   ]
  },
  {
   "cell_type": "code",
   "execution_count": 130,
   "id": "73bcc247",
   "metadata": {},
   "outputs": [],
   "source": []
  },
  {
   "cell_type": "code",
   "execution_count": 133,
   "id": "b9466fa1",
   "metadata": {},
   "outputs": [],
   "source": [
    "# scrapping 'product_url'\n",
    "for p in range(3):\n",
    "    \n",
    "    url= driver.find_elements_by_xpath('//a[@class= \"a-link-normal s-underline-text s-underline-link-text s-link-style a-text-normal\"]')\n",
    "    for i in url:\n",
    "#        print(i.get_attribute('href'))\n",
    "        product_url.append(i.get_attribute('href'))\n",
    "    # go to the next page\n",
    "    driver.find_element_by_xpath('//a[@class= \"s-pagination-item s-pagination-next s-pagination-button s-pagination-separator\"]').click()\n",
    "    time.sleep(5)"
   ]
  },
  {
   "cell_type": "code",
   "execution_count": 137,
   "id": "8dbd519d",
   "metadata": {},
   "outputs": [],
   "source": [
    "# SCRAPPING EXPECTED_DELIVERY INFORMATION \n",
    "\n",
    "for p in range(3):\n",
    "    delivery= driver.find_elements_by_xpath('//span[@class= \"a-color-base a-text-bold\"]') # expected delivery\n",
    "    for i in delivery:\n",
    "#       print(i.text)\n",
    "        Expected_delivery.append(i.text)\n",
    "    driver.find_element_by_xpath('//a[@class= \"s-pagination-item s-pagination-next s-pagination-button s-pagination-separator\"]').click()\n",
    "    time.sleep(5)"
   ]
  },
  {
   "cell_type": "code",
   "execution_count": null,
   "id": "e0351a4e",
   "metadata": {},
   "outputs": [],
   "source": []
  },
  {
   "cell_type": "code",
   "execution_count": 171,
   "id": "57060e00",
   "metadata": {},
   "outputs": [],
   "source": [
    "laptop= pd.DataFrame({'Brand':Brand,'Product_name':product_name,'Price':price,'Expected_Delivery':Expected_delivery,\n",
    "              'Product_url':product_url,})"
   ]
  },
  {
   "cell_type": "code",
   "execution_count": 222,
   "id": "fa9730a7",
   "metadata": {},
   "outputs": [
    {
     "data": {
      "text/html": [
       "<div>\n",
       "<style scoped>\n",
       "    .dataframe tbody tr th:only-of-type {\n",
       "        vertical-align: middle;\n",
       "    }\n",
       "\n",
       "    .dataframe tbody tr th {\n",
       "        vertical-align: top;\n",
       "    }\n",
       "\n",
       "    .dataframe thead th {\n",
       "        text-align: right;\n",
       "    }\n",
       "</style>\n",
       "<table border=\"1\" class=\"dataframe\">\n",
       "  <thead>\n",
       "    <tr style=\"text-align: right;\">\n",
       "      <th></th>\n",
       "      <th>Brand</th>\n",
       "      <th>Product_name</th>\n",
       "      <th>Price</th>\n",
       "      <th>Expected_Delivery</th>\n",
       "      <th>Product_url</th>\n",
       "      <th>Availability</th>\n",
       "    </tr>\n",
       "  </thead>\n",
       "  <tbody>\n",
       "    <tr>\n",
       "      <th>0</th>\n",
       "      <td>ASUS</td>\n",
       "      <td>[TUF, Gaming, A15]</td>\n",
       "      <td>54,990</td>\n",
       "      <td>tomorrow, July 28</td>\n",
       "      <td>https://www.amazon.in/gp/slredirect/picassoRed...</td>\n",
       "      <td>deliverd by amazon</td>\n",
       "    </tr>\n",
       "    <tr>\n",
       "      <th>1</th>\n",
       "      <td>Lenovo</td>\n",
       "      <td>[Legion, 5, Pro]</td>\n",
       "      <td>70,990</td>\n",
       "      <td>tomorrow, July 28</td>\n",
       "      <td>https://www.amazon.in/gp/slredirect/picassoRed...</td>\n",
       "      <td>deliverd by amazon</td>\n",
       "    </tr>\n",
       "    <tr>\n",
       "      <th>2</th>\n",
       "      <td>ASUS</td>\n",
       "      <td>[TUF, Gaming, A15]</td>\n",
       "      <td>86,990</td>\n",
       "      <td>Monday, August 1</td>\n",
       "      <td>https://www.amazon.in/ASUS-15-6-inch-GeForce-G...</td>\n",
       "      <td>deliverd by amazon</td>\n",
       "    </tr>\n",
       "    <tr>\n",
       "      <th>3</th>\n",
       "      <td>ASUS</td>\n",
       "      <td>[ROG, Strix, G15]</td>\n",
       "      <td>74,990</td>\n",
       "      <td>Friday, July 29</td>\n",
       "      <td>https://www.amazon.in/ASUS-15-6-inch-RTX-3060-...</td>\n",
       "      <td>deliverd by amazon</td>\n",
       "    </tr>\n",
       "    <tr>\n",
       "      <th>4</th>\n",
       "      <td>Acer</td>\n",
       "      <td>[Nitro, 5, Gaming]</td>\n",
       "      <td>1,92,990</td>\n",
       "      <td>tomorrow, July 28</td>\n",
       "      <td>https://www.amazon.in/Acer-i7-12700H-Processor...</td>\n",
       "      <td>deliverd by amazon</td>\n",
       "    </tr>\n",
       "    <tr>\n",
       "      <th>...</th>\n",
       "      <td>...</td>\n",
       "      <td>...</td>\n",
       "      <td>...</td>\n",
       "      <td>...</td>\n",
       "      <td>...</td>\n",
       "      <td>...</td>\n",
       "    </tr>\n",
       "    <tr>\n",
       "      <th>64</th>\n",
       "      <td>Acer</td>\n",
       "      <td>[Predator, Helios, 300]</td>\n",
       "      <td>96,458</td>\n",
       "      <td>tomorrow, July 28</td>\n",
       "      <td>https://www.amazon.in/Acer-Predator-i9-11900H-...</td>\n",
       "      <td>deliverd by amazon</td>\n",
       "    </tr>\n",
       "    <tr>\n",
       "      <th>65</th>\n",
       "      <td>Hp</td>\n",
       "      <td>[Victus, Latest, AMD]</td>\n",
       "      <td>70,990</td>\n",
       "      <td>Tuesday, August 2</td>\n",
       "      <td>https://www.amazon.in/HP-16-1-inch-GeForce-Gra...</td>\n",
       "      <td>deliverd by amazon</td>\n",
       "    </tr>\n",
       "    <tr>\n",
       "      <th>66</th>\n",
       "      <td>ASUS</td>\n",
       "      <td>[TUF, Gaming, F15]</td>\n",
       "      <td>1,04,990</td>\n",
       "      <td>tomorrow, July 28</td>\n",
       "      <td>https://www.amazon.in/gp/slredirect/picassoRed...</td>\n",
       "      <td>deliverd by amazon</td>\n",
       "    </tr>\n",
       "    <tr>\n",
       "      <th>67</th>\n",
       "      <td>Mi</td>\n",
       "      <td>[Notebook, Pro, Qhd+]</td>\n",
       "      <td>32,990</td>\n",
       "      <td>Tuesday, August 2</td>\n",
       "      <td>https://www.amazon.in/gp/slredirect/picassoRed...</td>\n",
       "      <td>deliverd by amazon</td>\n",
       "    </tr>\n",
       "    <tr>\n",
       "      <th>68</th>\n",
       "      <td>Acer</td>\n",
       "      <td>[Nitro, 5, Gaming]</td>\n",
       "      <td>3,79,990.</td>\n",
       "      <td>tomorrow, July 28</td>\n",
       "      <td>https://www.amazon.in/ASUS-i7-11600H-RTX-3050-...</td>\n",
       "      <td>deliverd by amazon</td>\n",
       "    </tr>\n",
       "  </tbody>\n",
       "</table>\n",
       "<p>69 rows × 6 columns</p>\n",
       "</div>"
      ],
      "text/plain": [
       "     Brand             Product_name      Price  Expected_Delivery  \\\n",
       "0     ASUS       [TUF, Gaming, A15]     54,990  tomorrow, July 28   \n",
       "1   Lenovo         [Legion, 5, Pro]     70,990  tomorrow, July 28   \n",
       "2     ASUS       [TUF, Gaming, A15]     86,990   Monday, August 1   \n",
       "3     ASUS        [ROG, Strix, G15]     74,990    Friday, July 29   \n",
       "4     Acer       [Nitro, 5, Gaming]   1,92,990  tomorrow, July 28   \n",
       "..     ...                      ...        ...                ...   \n",
       "64    Acer  [Predator, Helios, 300]     96,458  tomorrow, July 28   \n",
       "65      Hp    [Victus, Latest, AMD]     70,990  Tuesday, August 2   \n",
       "66    ASUS       [TUF, Gaming, F15]   1,04,990  tomorrow, July 28   \n",
       "67      Mi    [Notebook, Pro, Qhd+]     32,990  Tuesday, August 2   \n",
       "68    Acer       [Nitro, 5, Gaming]  3,79,990.  tomorrow, July 28   \n",
       "\n",
       "                                          Product_url         Availability  \n",
       "0   https://www.amazon.in/gp/slredirect/picassoRed...  deliverd by amazon   \n",
       "1   https://www.amazon.in/gp/slredirect/picassoRed...  deliverd by amazon   \n",
       "2   https://www.amazon.in/ASUS-15-6-inch-GeForce-G...  deliverd by amazon   \n",
       "3   https://www.amazon.in/ASUS-15-6-inch-RTX-3060-...  deliverd by amazon   \n",
       "4   https://www.amazon.in/Acer-i7-12700H-Processor...  deliverd by amazon   \n",
       "..                                                ...                  ...  \n",
       "64  https://www.amazon.in/Acer-Predator-i9-11900H-...  deliverd by amazon   \n",
       "65  https://www.amazon.in/HP-16-1-inch-GeForce-Gra...  deliverd by amazon   \n",
       "66  https://www.amazon.in/gp/slredirect/picassoRed...  deliverd by amazon   \n",
       "67  https://www.amazon.in/gp/slredirect/picassoRed...  deliverd by amazon   \n",
       "68  https://www.amazon.in/ASUS-i7-11600H-RTX-3050-...  deliverd by amazon   \n",
       "\n",
       "[69 rows x 6 columns]"
      ]
     },
     "execution_count": 222,
     "metadata": {},
     "output_type": "execute_result"
    }
   ],
   "source": [
    "laptop"
   ]
  },
  {
   "cell_type": "code",
   "execution_count": 179,
   "id": "caf01c88",
   "metadata": {},
   "outputs": [
    {
     "data": {
      "text/plain": [
       "'https://www.amazon.in/gp/slredirect/picassoRedirect.html/ref=pa_sp_atf_aps_sr_pg1_1?ie=UTF8&adId=A038802813FTQR19QEKQO&url=%2FHP-Processor-16-1-inch-Graphics-16-e0361ax%2Fdp%2FB09RX3NP7H%2Fref%3Dsr_1_2_sspa%3Fcrid%3D2NN9MC51OPJX8%26keywords%3Dgaming%2Blaptop%26qid%3D1658912496%26sprefix%3D%252Caps%252C575%26sr%3D8-2-spons%26psc%3D1&qualifier=1658912496&id=6305498541193601&widgetName=sp_atf'"
      ]
     },
     "execution_count": 179,
     "metadata": {},
     "output_type": "execute_result"
    }
   ],
   "source": [
    "laptop['Product_url'][1]"
   ]
  },
  {
   "cell_type": "code",
   "execution_count": 8,
   "id": "be2b4a67",
   "metadata": {},
   "outputs": [],
   "source": [
    "driver.close()\n",
    "\n",
    "# Q1 & Q2. completed"
   ]
  },
  {
   "cell_type": "code",
   "execution_count": null,
   "id": "2b66c586",
   "metadata": {},
   "outputs": [],
   "source": []
  },
  {
   "cell_type": "code",
   "execution_count": null,
   "id": "9f691bb6",
   "metadata": {},
   "outputs": [],
   "source": []
  },
  {
   "cell_type": "raw",
   "id": "ac617357",
   "metadata": {},
   "source": [
    "Q-3. Write a python program to access the search bar and search button on images.google.com and scrape 10\n",
    "    images each for keywords ‘fruits’, ‘cars’ and ‘Machine Learning’, ‘Guitar’, ‘Cakes’.\n"
   ]
  },
  {
   "cell_type": "code",
   "execution_count": 14,
   "id": "e6885316",
   "metadata": {},
   "outputs": [],
   "source": [
    "import urllib.request\n",
    "import os"
   ]
  },
  {
   "cell_type": "code",
   "execution_count": 9,
   "id": "be9dfb81",
   "metadata": {},
   "outputs": [],
   "source": [
    "driver3 = webdriver.Chrome(r'C:\\Users\\acer\\INTERNSHIP_WORSHEET\\chromedriver.exe')"
   ]
  },
  {
   "cell_type": "code",
   "execution_count": 10,
   "id": "42031f95",
   "metadata": {},
   "outputs": [],
   "source": [
    "#\n",
    "driver3.get('https://images.google.com/')"
   ]
  },
  {
   "cell_type": "code",
   "execution_count": 11,
   "id": "c5870345",
   "metadata": {},
   "outputs": [],
   "source": [
    "#  search things in search bar\n",
    "f=driver3.find_element_by_xpath('/html/body/div[1]/div[3]/form/div[1]/div[1]/div[1]/div/div[2]/input')\n",
    "f.send_keys('machine learning')   \n",
    "\n",
    "f.send_keys(Keys.ENTER)   # click to search"
   ]
  },
  {
   "cell_type": "code",
   "execution_count": null,
   "id": "72534dd4",
   "metadata": {},
   "outputs": [],
   "source": []
  },
  {
   "cell_type": "raw",
   "id": "57260d1d",
   "metadata": {},
   "source": [
    "# \n",
    "sub= driver3.find_elements_by_tag_name('img')\n",
    "sub1= []\n",
    "for p in sub:\n",
    "    sub1.append(p.get_attribute('src'))\n",
    "    "
   ]
  },
  {
   "cell_type": "raw",
   "id": "690eac17",
   "metadata": {},
   "source": [
    "p=0\n",
    "#while p<=10:\n",
    "#    count= 0\n",
    "for i in sub:\n",
    "    if p<=10:\n",
    "        sr= i.get_attribute('src')\n",
    "        \n",
    "        urllib.request.urlretrieve(sr,os.path.join('E:\\download\\INTERNSHIP', 'image'+str(p)+'.jpg') )\n",
    "        p+=1"
   ]
  },
  {
   "cell_type": "code",
   "execution_count": 12,
   "id": "51ec27b5",
   "metadata": {},
   "outputs": [],
   "source": [
    "# 1 'MACHINE LEARING' IMAGE \n",
    "ml= driver3.find_elements_by_xpath('//img[@class=\"rg_i Q4LuWd\"]')  # 1 scrapping 'machine learning image'"
   ]
  },
  {
   "cell_type": "code",
   "execution_count": 15,
   "id": "ef332624",
   "metadata": {},
   "outputs": [
    {
     "name": "stdout",
     "output_type": "stream",
     "text": [
      "finished\n"
     ]
    }
   ],
   "source": [
    "p=0\n",
    "for n in ml:              # scrapping 'machine learning images'\n",
    "    sr= n.get_attribute('src')\n",
    "    if p<=10:\n",
    "        urllib.request.urlretrieve(sr,os.path.join('E:\\download\\INTERNSHIP', 'image'+str(p)+'.jpg') )#  store image in file\n",
    "        p+=1\n",
    "print('finished')"
   ]
  },
  {
   "cell_type": "code",
   "execution_count": null,
   "id": "11e7faaf",
   "metadata": {},
   "outputs": [],
   "source": []
  },
  {
   "cell_type": "code",
   "execution_count": 16,
   "id": "51a2cf8d",
   "metadata": {},
   "outputs": [],
   "source": [
    "# 2 search 'car' in search bar\n",
    "f=driver3.find_element_by_xpath('/html/body/div[1]/div[3]/form/div[1]/div[1]/div[1]/div/div[2]/input')\n",
    "f.send_keys('car')   # \n",
    "\n",
    "f.send_keys(Keys.ENTER)   # click to search"
   ]
  },
  {
   "cell_type": "code",
   "execution_count": 17,
   "id": "67f07cda",
   "metadata": {},
   "outputs": [],
   "source": [
    "car= driver3.find_elements_by_xpath('//img[@class=\"rg_i Q4LuWd\"]')  # 2 scrapping \"car \" image'"
   ]
  },
  {
   "cell_type": "code",
   "execution_count": 18,
   "id": "f28cb60d",
   "metadata": {},
   "outputs": [
    {
     "name": "stdout",
     "output_type": "stream",
     "text": [
      "finished scrapping CAR images\n"
     ]
    }
   ],
   "source": [
    "p=11\n",
    "for n in car:              # scrapping 'car images'\n",
    "    sr= n.get_attribute('src')\n",
    "    if p<=20:\n",
    "        urllib.request.urlretrieve(sr,os.path.join('E:\\download\\INTERNSHIP', 'image'+str(p)+'.jpg') )#  store image in file\n",
    "        p+=1\n",
    "print('finished scrapping CAR images')"
   ]
  },
  {
   "cell_type": "code",
   "execution_count": null,
   "id": "cdffeb5d",
   "metadata": {},
   "outputs": [],
   "source": []
  },
  {
   "cell_type": "code",
   "execution_count": 19,
   "id": "0351ac0f",
   "metadata": {},
   "outputs": [],
   "source": [
    "# 3 search 'guitar' in search bar\n",
    "\n",
    "f=driver3.find_element_by_xpath('/html/body/div[1]/div[3]/form/div[1]/div[1]/div[1]/div/div[2]/input')\n",
    "f.send_keys('guitar')   # \n",
    "\n",
    "f.send_keys(Keys.ENTER)   # click to search"
   ]
  },
  {
   "cell_type": "code",
   "execution_count": 20,
   "id": "09481442",
   "metadata": {},
   "outputs": [
    {
     "name": "stdout",
     "output_type": "stream",
     "text": [
      "finished scrapping GUITAR images\n"
     ]
    }
   ],
   "source": [
    "guitar= driver3.find_elements_by_xpath('//img[@class=\"rg_i Q4LuWd\"]')  # 3 scrapping ' guitar image'\n",
    "\n",
    "p=21\n",
    "for n in guitar:              # scrapping 'guitar images'\n",
    "    sr= n.get_attribute('src')\n",
    "    if p<=30:\n",
    "        urllib.request.urlretrieve(sr,os.path.join('E:\\download\\INTERNSHIP', 'image'+str(p)+'.jpg') )#  store image in file\n",
    "        p+=1\n",
    "print('finished scrapping GUITAR images')"
   ]
  },
  {
   "cell_type": "code",
   "execution_count": null,
   "id": "f35a3bfc",
   "metadata": {},
   "outputs": [],
   "source": []
  },
  {
   "cell_type": "code",
   "execution_count": 21,
   "id": "acf3ae5e",
   "metadata": {},
   "outputs": [],
   "source": [
    "# 4 search 'fruits' in search bar\n",
    "\n",
    "f=driver3.find_element_by_xpath('/html/body/div[1]/div[3]/form/div[1]/div[1]/div[1]/div/div[2]/input')\n",
    "f.send_keys('fruit')   # \n",
    "\n",
    "f.send_keys(Keys.ENTER)   # click to search"
   ]
  },
  {
   "cell_type": "code",
   "execution_count": 22,
   "id": "39cffc6f",
   "metadata": {},
   "outputs": [
    {
     "name": "stdout",
     "output_type": "stream",
     "text": [
      "finished scrapping FRUITS images\n"
     ]
    }
   ],
   "source": [
    "fruits= driver3.find_elements_by_xpath('//img[@class=\"rg_i Q4LuWd\"]')  # 4 scrapping ' fruits image'\n",
    "\n",
    "p=31\n",
    "for n in fruits:              # scrapping 'fruits images'\n",
    "    sr= n.get_attribute('src')\n",
    "    if p<=40:\n",
    "        urllib.request.urlretrieve(sr,os.path.join('E:\\download\\INTERNSHIP', 'image'+str(p)+'.jpg') )#  store image in file\n",
    "        p+=1\n",
    "print('finished scrapping FRUITS images')"
   ]
  },
  {
   "cell_type": "code",
   "execution_count": null,
   "id": "109f91df",
   "metadata": {},
   "outputs": [],
   "source": []
  },
  {
   "cell_type": "code",
   "execution_count": 23,
   "id": "7bfd958e",
   "metadata": {},
   "outputs": [],
   "source": [
    "# 4 search 'fruits' in search bar\n",
    "\n",
    "f=driver3.find_element_by_xpath('/html/body/div[1]/div[3]/form/div[1]/div[1]/div[1]/div/div[2]/input')\n",
    "f.send_keys('CAKES')   # \n",
    "\n",
    "f.send_keys(Keys.ENTER)   # click to search"
   ]
  },
  {
   "cell_type": "code",
   "execution_count": 24,
   "id": "f2ffb460",
   "metadata": {},
   "outputs": [
    {
     "name": "stdout",
     "output_type": "stream",
     "text": [
      "finished scrapping CAKES images\n"
     ]
    }
   ],
   "source": [
    "cake= driver3.find_elements_by_xpath('//img[@class=\"rg_i Q4LuWd\"]')  # 4 scrapping ' CAKES image'\n",
    "\n",
    "p=31\n",
    "for n in cake:              # scrapping 'CAKES images'\n",
    "    sr= n.get_attribute('src')\n",
    "    if p<=40:\n",
    "        urllib.request.urlretrieve(sr,os.path.join('E:\\download\\INTERNSHIP', 'image'+str(p)+'.jpg') )#  store image in file\n",
    "        p+=1\n",
    "print('finished scrapping CAKES images')"
   ]
  },
  {
   "cell_type": "code",
   "execution_count": 25,
   "id": "1a8f297d",
   "metadata": {},
   "outputs": [],
   "source": [
    "driver3.close()\n",
    "\n",
    "# Q3. completed"
   ]
  },
  {
   "cell_type": "code",
   "execution_count": null,
   "id": "1c4e3296",
   "metadata": {},
   "outputs": [],
   "source": []
  },
  {
   "cell_type": "raw",
   "id": "f8d049ce",
   "metadata": {},
   "source": [
    "Q4. Write a python program to search for a smartphone(e.g.: Oneplus Nord, pixel 4A, etc.) on\n",
    "  www.flipkart.com and scrape following details for all the search results displayed on 1st page. Details to be \n",
    "  scraped: “Brand Name”, “Smartphone name”, “Colour”, “RAM”, “Storage(ROM)”, “Primary Camera”, \n",
    "  “Secondary Camera”, “Display Size”, “Battery Capacity”, “Price”, “Product URL”. Incase if any of the \n",
    "  details is missing then replace it by “- “. Save your results in a dataframe and CSV.\n"
   ]
  },
  {
   "cell_type": "code",
   "execution_count": 28,
   "id": "da6bfe1a",
   "metadata": {},
   "outputs": [],
   "source": [
    "driver = webdriver.Chrome(r'C:\\Users\\acer\\INTERNSHIP_WORSHEET\\chromedriver.exe')"
   ]
  },
  {
   "cell_type": "code",
   "execution_count": 72,
   "id": "07dc6216",
   "metadata": {},
   "outputs": [],
   "source": [
    "driver.get('https://www.flipkart.com/')  #  fetching url"
   ]
  },
  {
   "cell_type": "code",
   "execution_count": 73,
   "id": "6888ddd2",
   "metadata": {},
   "outputs": [],
   "source": [
    "#\n",
    "search= driver.find_element(By.CLASS_NAME,'_3704LK') # SEARCH bar \n",
    "search.send_keys('oneplus nord')"
   ]
  },
  {
   "cell_type": "code",
   "execution_count": 74,
   "id": "4feb11b8",
   "metadata": {},
   "outputs": [],
   "source": [
    "search.send_keys(Keys.ENTER)    # click the search button"
   ]
  },
  {
   "cell_type": "code",
   "execution_count": null,
   "id": "c07060a6",
   "metadata": {},
   "outputs": [],
   "source": []
  },
  {
   "cell_type": "code",
   "execution_count": 175,
   "id": "d251fc9a",
   "metadata": {},
   "outputs": [],
   "source": [
    "h= driver.find_elements_by_xpath('//a[@class= \"_1fQZEK\"]')  # scrapping 'product url ' \n",
    "\n",
    "product_url= []\n",
    "for i in h:\n",
    "#    print(i.get_attribute('href'))\n",
    "    product_url.append(i.get_attribute('href'))\n",
    "\n",
    "pric= driver.find_elements_by_xpath('//div[@class= \"_30jeq3 _1_WHN1\"]')  # scrapping 'product PRICE ' \n",
    "price= []\n",
    "for i in pric:\n",
    "#    print(i.text)\n",
    "    price.append(i.text)"
   ]
  },
  {
   "cell_type": "code",
   "execution_count": null,
   "id": "d02e5f5d",
   "metadata": {},
   "outputs": [],
   "source": []
  },
  {
   "cell_type": "code",
   "execution_count": 158,
   "id": "78548fc7",
   "metadata": {},
   "outputs": [],
   "source": [
    "# scrapping 'brand', 'ROM', 'SMARTPHONE NAME', 'COLOR' \n",
    "\n",
    "b= driver.find_elements(By.XPATH,'//div[@class= \"col col-7-12\"]')\n",
    "\n",
    "brand= []\n",
    "ROM = []\n",
    "smartphone_name= []\n",
    "color = []\n",
    "\n",
    "for i in b:\n",
    "#    print(i.text.split('\\n'))\n",
    "    brand.append(i.text.split('\\n')[0][0:7])\n",
    "    ROM.append(i.text.split('\\n')[0][-7:-1])\n",
    "    smartphone_name.append(i.text.split('\\n')[0].split('(')[0][7:])\n",
    "    color.append(i.text.split('\\n')[0].split('(')[1][0:-7])\n"
   ]
  },
  {
   "cell_type": "code",
   "execution_count": 187,
   "id": "39eea886",
   "metadata": {},
   "outputs": [],
   "source": [
    "c = driver.find_elements(By.XPATH,'//ul[@class= \"_1xgFaf\"]')  # scrapping mobile specification from web_elements \n",
    "\n",
    "RAM = []                         \n",
    "Display = []\n",
    "Battery = []\n",
    "rear_camera= []\n",
    "front_camera= []\n",
    "\n",
    "for i in c:\n",
    "#    print(i.text.split('\\n')[2][13:])\n",
    "    RAM.append(i.text.split('\\n')[0].split('|')[0])\n",
    "    Display.append(i.text.split('\\n')[1])\n",
    "    Battery.append(i.text.split('\\n')[3])\n",
    "    rear_camera.append(i.text.split('\\n')[2].split('|')[0])\n",
    "    front_camera.append(i.text.split('\\n')[2][13:])\n"
   ]
  },
  {
   "cell_type": "code",
   "execution_count": null,
   "id": "55565e1c",
   "metadata": {},
   "outputs": [],
   "source": []
  },
  {
   "cell_type": "code",
   "execution_count": 189,
   "id": "a8659c76",
   "metadata": {},
   "outputs": [],
   "source": [
    "Mobile= pd.DataFrame({'Brand':brand,'Smartphone_name':smartphone_name, 'ROM':ROM,'RAM':RAM,'Color':color, 'Display':Display,\n",
    "             'Battery':Battery,'Rear_camera':rear_camera,'Front_camera':front_camera,'Price':price,'link':product_url})"
   ]
  },
  {
   "cell_type": "code",
   "execution_count": 191,
   "id": "24f4dcba",
   "metadata": {},
   "outputs": [],
   "source": [
    "Mobile['Front_camera'].replace({'era':'-'}, inplace=True)"
   ]
  },
  {
   "cell_type": "code",
   "execution_count": 198,
   "id": "aa0ce2f8",
   "metadata": {},
   "outputs": [
    {
     "data": {
      "text/html": [
       "<div>\n",
       "<style scoped>\n",
       "    .dataframe tbody tr th:only-of-type {\n",
       "        vertical-align: middle;\n",
       "    }\n",
       "\n",
       "    .dataframe tbody tr th {\n",
       "        vertical-align: top;\n",
       "    }\n",
       "\n",
       "    .dataframe thead th {\n",
       "        text-align: right;\n",
       "    }\n",
       "</style>\n",
       "<table border=\"1\" class=\"dataframe\">\n",
       "  <thead>\n",
       "    <tr style=\"text-align: right;\">\n",
       "      <th></th>\n",
       "      <th>Brand</th>\n",
       "      <th>Smartphone_name</th>\n",
       "      <th>ROM</th>\n",
       "      <th>RAM</th>\n",
       "      <th>Color</th>\n",
       "      <th>Display</th>\n",
       "      <th>Battery</th>\n",
       "      <th>Rear_camera</th>\n",
       "      <th>Front_camera</th>\n",
       "      <th>Price</th>\n",
       "      <th>link</th>\n",
       "    </tr>\n",
       "  </thead>\n",
       "  <tbody>\n",
       "    <tr>\n",
       "      <th>0</th>\n",
       "      <td>OnePlus</td>\n",
       "      <td>Nord CE 2 Lite 5G</td>\n",
       "      <td>128 GB</td>\n",
       "      <td>6 GB RAM</td>\n",
       "      <td>Blue Tide,</td>\n",
       "      <td>16.74 cm (6.59 inch) Display</td>\n",
       "      <td>5000 mAh Battery</td>\n",
       "      <td>64MP Rear Camera</td>\n",
       "      <td>era | 16MP Front Camera</td>\n",
       "      <td>₹19,880</td>\n",
       "      <td>https://www.flipkart.com/oneplus-nord-ce-2-lit...</td>\n",
       "    </tr>\n",
       "    <tr>\n",
       "      <th>1</th>\n",
       "      <td>OnePlus</td>\n",
       "      <td>Nord CE 2 Lite 5G</td>\n",
       "      <td>128 GB</td>\n",
       "      <td>8 GB RAM</td>\n",
       "      <td>Blue Tide,</td>\n",
       "      <td>16.74 cm (6.59 inch) Display</td>\n",
       "      <td>5000 mAh Battery</td>\n",
       "      <td>64MP Rear Camera</td>\n",
       "      <td>-</td>\n",
       "      <td>₹21,998</td>\n",
       "      <td>https://www.flipkart.com/oneplus-nord-ce-2-lit...</td>\n",
       "    </tr>\n",
       "    <tr>\n",
       "      <th>2</th>\n",
       "      <td>OnePlus</td>\n",
       "      <td>Nord 2T 5G</td>\n",
       "      <td>128 GB</td>\n",
       "      <td>8 GB RAM</td>\n",
       "      <td>Gray Shadow,</td>\n",
       "      <td>17.02 cm (6.7 inch) Display</td>\n",
       "      <td>4500 mAh Battery</td>\n",
       "      <td>50MP Rear Camera</td>\n",
       "      <td>-</td>\n",
       "      <td>₹28,990</td>\n",
       "      <td>https://www.flipkart.com/oneplus-nord-2t-5g-gr...</td>\n",
       "    </tr>\n",
       "    <tr>\n",
       "      <th>3</th>\n",
       "      <td>OnePlus</td>\n",
       "      <td>Nord CE 2 Lite 5G</td>\n",
       "      <td>128 GB</td>\n",
       "      <td>6 GB RAM</td>\n",
       "      <td>Black Dusk,</td>\n",
       "      <td>16.74 cm (6.59 inch) Display</td>\n",
       "      <td>5000 mAh Battery</td>\n",
       "      <td>64MP Rear Camera</td>\n",
       "      <td>-</td>\n",
       "      <td>₹19,790</td>\n",
       "      <td>https://www.flipkart.com/oneplus-nord-ce-2-lit...</td>\n",
       "    </tr>\n",
       "    <tr>\n",
       "      <th>4</th>\n",
       "      <td>OnePlus</td>\n",
       "      <td>Nord 2T 5G</td>\n",
       "      <td>256 GB</td>\n",
       "      <td>12 GB RAM</td>\n",
       "      <td>Jade Fog,</td>\n",
       "      <td>17.02 cm (6.7 inch) Display</td>\n",
       "      <td>4500 mAh Battery</td>\n",
       "      <td>50MP Rear Camera</td>\n",
       "      <td>-</td>\n",
       "      <td>₹33,999</td>\n",
       "      <td>https://www.flipkart.com/oneplus-nord-2t-5g-ja...</td>\n",
       "    </tr>\n",
       "    <tr>\n",
       "      <th>...</th>\n",
       "      <td>...</td>\n",
       "      <td>...</td>\n",
       "      <td>...</td>\n",
       "      <td>...</td>\n",
       "      <td>...</td>\n",
       "      <td>...</td>\n",
       "      <td>...</td>\n",
       "      <td>...</td>\n",
       "      <td>...</td>\n",
       "      <td>...</td>\n",
       "      <td>...</td>\n",
       "    </tr>\n",
       "    <tr>\n",
       "      <th>19</th>\n",
       "      <td>OnePlus</td>\n",
       "      <td>Nord CE 2 Lite 5G</td>\n",
       "      <td>128 GB</td>\n",
       "      <td>8 GB RAM</td>\n",
       "      <td>Black Dusk,</td>\n",
       "      <td>16.74 cm (6.59 inch) Display</td>\n",
       "      <td>5000 mAh Battery</td>\n",
       "      <td>64MP Rear Camera</td>\n",
       "      <td>-</td>\n",
       "      <td>₹21,880</td>\n",
       "      <td>https://www.flipkart.com/oneplus-nord-ce-2-lit...</td>\n",
       "    </tr>\n",
       "    <tr>\n",
       "      <th>20</th>\n",
       "      <td>OnePlus</td>\n",
       "      <td>Nord CE 5G</td>\n",
       "      <td>256 GB</td>\n",
       "      <td>12 GB RAM</td>\n",
       "      <td>Charcoal Ink,</td>\n",
       "      <td>16.33 cm (6.43 inch) Display</td>\n",
       "      <td>4500 mAh Battery</td>\n",
       "      <td>64MP Rear Camera</td>\n",
       "      <td>-</td>\n",
       "      <td>₹27,900</td>\n",
       "      <td>https://www.flipkart.com/oneplus-nord-ce-5g-ch...</td>\n",
       "    </tr>\n",
       "    <tr>\n",
       "      <th>21</th>\n",
       "      <td>OnePlus</td>\n",
       "      <td>Nord CE 5G</td>\n",
       "      <td>256 GB</td>\n",
       "      <td>12 GB RAM</td>\n",
       "      <td>Blue Void,</td>\n",
       "      <td>16.33 cm (6.43 inch) Display</td>\n",
       "      <td>4500 mAh Battery</td>\n",
       "      <td>64MP Rear Camera</td>\n",
       "      <td>-</td>\n",
       "      <td>₹27,999</td>\n",
       "      <td>https://www.flipkart.com/oneplus-nord-ce-5g-bl...</td>\n",
       "    </tr>\n",
       "    <tr>\n",
       "      <th>22</th>\n",
       "      <td>OnePlus</td>\n",
       "      <td>Nord CE 2 5G</td>\n",
       "      <td>128 GB</td>\n",
       "      <td>8 GB RAM</td>\n",
       "      <td>Gray Mirror,</td>\n",
       "      <td>16.33 cm (6.43 inch) Display</td>\n",
       "      <td>4500 mAh Battery</td>\n",
       "      <td>64MP Rear Camera</td>\n",
       "      <td>-</td>\n",
       "      <td>₹24,995</td>\n",
       "      <td>https://www.flipkart.com/oneplus-nord-ce-2-5g-...</td>\n",
       "    </tr>\n",
       "    <tr>\n",
       "      <th>23</th>\n",
       "      <td>OnePlus</td>\n",
       "      <td>Nord CE 2 5G</td>\n",
       "      <td>128 GB</td>\n",
       "      <td>6 GB RAM</td>\n",
       "      <td>Gray Mirror,</td>\n",
       "      <td>16.33 cm (6.43 inch) Display</td>\n",
       "      <td>4500 mAh Battery</td>\n",
       "      <td>64MP Rear Camera</td>\n",
       "      <td>-</td>\n",
       "      <td>₹23,990</td>\n",
       "      <td>https://www.flipkart.com/oneplus-nord-ce-2-5g-...</td>\n",
       "    </tr>\n",
       "  </tbody>\n",
       "</table>\n",
       "<p>24 rows × 11 columns</p>\n",
       "</div>"
      ],
      "text/plain": [
       "      Brand      Smartphone_name     ROM         RAM           Color  \\\n",
       "0   OnePlus   Nord CE 2 Lite 5G   128 GB   6 GB RAM      Blue Tide,    \n",
       "1   OnePlus   Nord CE 2 Lite 5G   128 GB   8 GB RAM      Blue Tide,    \n",
       "2   OnePlus          Nord 2T 5G   128 GB   8 GB RAM    Gray Shadow,    \n",
       "3   OnePlus   Nord CE 2 Lite 5G   128 GB   6 GB RAM     Black Dusk,    \n",
       "4   OnePlus          Nord 2T 5G   256 GB  12 GB RAM       Jade Fog,    \n",
       "..      ...                  ...     ...         ...             ...   \n",
       "19  OnePlus   Nord CE 2 Lite 5G   128 GB   8 GB RAM     Black Dusk,    \n",
       "20  OnePlus          Nord CE 5G   256 GB  12 GB RAM   Charcoal Ink,    \n",
       "21  OnePlus          Nord CE 5G   256 GB  12 GB RAM      Blue Void,    \n",
       "22  OnePlus        Nord CE 2 5G   128 GB   8 GB RAM    Gray Mirror,    \n",
       "23  OnePlus        Nord CE 2 5G   128 GB   6 GB RAM    Gray Mirror,    \n",
       "\n",
       "                         Display           Battery        Rear_camera  \\\n",
       "0   16.74 cm (6.59 inch) Display  5000 mAh Battery  64MP Rear Camera    \n",
       "1   16.74 cm (6.59 inch) Display  5000 mAh Battery   64MP Rear Camera   \n",
       "2    17.02 cm (6.7 inch) Display  4500 mAh Battery   50MP Rear Camera   \n",
       "3   16.74 cm (6.59 inch) Display  5000 mAh Battery   64MP Rear Camera   \n",
       "4    17.02 cm (6.7 inch) Display  4500 mAh Battery   50MP Rear Camera   \n",
       "..                           ...               ...                ...   \n",
       "19  16.74 cm (6.59 inch) Display  5000 mAh Battery   64MP Rear Camera   \n",
       "20  16.33 cm (6.43 inch) Display  4500 mAh Battery   64MP Rear Camera   \n",
       "21  16.33 cm (6.43 inch) Display  4500 mAh Battery   64MP Rear Camera   \n",
       "22  16.33 cm (6.43 inch) Display  4500 mAh Battery   64MP Rear Camera   \n",
       "23  16.33 cm (6.43 inch) Display  4500 mAh Battery   64MP Rear Camera   \n",
       "\n",
       "               Front_camera    Price  \\\n",
       "0   era | 16MP Front Camera  ₹19,880   \n",
       "1                         -  ₹21,998   \n",
       "2                         -  ₹28,990   \n",
       "3                         -  ₹19,790   \n",
       "4                         -  ₹33,999   \n",
       "..                      ...      ...   \n",
       "19                        -  ₹21,880   \n",
       "20                        -  ₹27,900   \n",
       "21                        -  ₹27,999   \n",
       "22                        -  ₹24,995   \n",
       "23                        -  ₹23,990   \n",
       "\n",
       "                                                 link  \n",
       "0   https://www.flipkart.com/oneplus-nord-ce-2-lit...  \n",
       "1   https://www.flipkart.com/oneplus-nord-ce-2-lit...  \n",
       "2   https://www.flipkart.com/oneplus-nord-2t-5g-gr...  \n",
       "3   https://www.flipkart.com/oneplus-nord-ce-2-lit...  \n",
       "4   https://www.flipkart.com/oneplus-nord-2t-5g-ja...  \n",
       "..                                                ...  \n",
       "19  https://www.flipkart.com/oneplus-nord-ce-2-lit...  \n",
       "20  https://www.flipkart.com/oneplus-nord-ce-5g-ch...  \n",
       "21  https://www.flipkart.com/oneplus-nord-ce-5g-bl...  \n",
       "22  https://www.flipkart.com/oneplus-nord-ce-2-5g-...  \n",
       "23  https://www.flipkart.com/oneplus-nord-ce-2-5g-...  \n",
       "\n",
       "[24 rows x 11 columns]"
      ]
     },
     "execution_count": 198,
     "metadata": {},
     "output_type": "execute_result"
    }
   ],
   "source": [
    "Mobile"
   ]
  },
  {
   "cell_type": "code",
   "execution_count": 199,
   "id": "efffad94",
   "metadata": {},
   "outputs": [],
   "source": [
    "Mobile.to_csv('Mobile.csv')"
   ]
  },
  {
   "cell_type": "code",
   "execution_count": 202,
   "id": "36b0b054",
   "metadata": {},
   "outputs": [],
   "source": [
    "driver.close()\n",
    "\n",
    "#       Q4. complete"
   ]
  },
  {
   "cell_type": "code",
   "execution_count": null,
   "id": "e3a165d0",
   "metadata": {},
   "outputs": [],
   "source": []
  },
  {
   "cell_type": "code",
   "execution_count": null,
   "id": "fd05c1c7",
   "metadata": {},
   "outputs": [],
   "source": []
  },
  {
   "cell_type": "raw",
   "id": "a95c8dee",
   "metadata": {},
   "source": [
    "Q-5. Write a program to scrap geospatial coordinates (latitude, longitude) of a city searched on google maps\n",
    "      "
   ]
  },
  {
   "cell_type": "code",
   "execution_count": 180,
   "id": "b2cbaa74",
   "metadata": {},
   "outputs": [],
   "source": [
    "drive1 = webdriver.Chrome(r'C:\\Users\\acer\\INTERNSHIP_WORSHEET\\chromedriver.exe')"
   ]
  },
  {
   "cell_type": "code",
   "execution_count": 181,
   "id": "ad1328fe",
   "metadata": {},
   "outputs": [],
   "source": [
    "drive1.get('https://www.google.com/maps/')"
   ]
  },
  {
   "cell_type": "code",
   "execution_count": 182,
   "id": "2af69d9f",
   "metadata": {},
   "outputs": [
    {
     "name": "stdout",
     "output_type": "stream",
     "text": [
      "new delhi dwarka\n"
     ]
    }
   ],
   "source": [
    "\n",
    "search=drive1.find_element_by_xpath('/html/body/div[3]/div[9]/div[3]/div[1]/div[1]/div[1]/div[2]/form/div[2]/div[3]/div/input[1]')\n",
    "\n",
    "search.send_keys(input())      # type  keyword for seach location into input function\n",
    "search.send_keys(Keys.ENTER)    # click to search"
   ]
  },
  {
   "cell_type": "code",
   "execution_count": null,
   "id": "bae2d345",
   "metadata": {},
   "outputs": [],
   "source": []
  },
  {
   "cell_type": "code",
   "execution_count": 219,
   "id": "98f4d104",
   "metadata": {},
   "outputs": [
    {
     "data": {
      "text/plain": [
       "'https://www.google.com/maps/place/Dwarka,+New+Delhi,+Delhi/@28.5733101,77.0450953,13z/data=!3m1!4b1!4m5!3m4!1s0x390d1a9c31eec4e1:0x39493976cba4c89a!8m2!3d28.5822999!4d77.0499762'"
      ]
     },
     "execution_count": 219,
     "metadata": {},
     "output_type": "execute_result"
    }
   ],
   "source": [
    "url"
   ]
  },
  {
   "cell_type": "code",
   "execution_count": 187,
   "id": "3a90d775",
   "metadata": {},
   "outputs": [],
   "source": [
    "url= drive1.current_url   # "
   ]
  },
  {
   "cell_type": "code",
   "execution_count": 218,
   "id": "47d7f60e",
   "metadata": {},
   "outputs": [
    {
     "name": "stdout",
     "output_type": "stream",
     "text": [
      "28.5733101\n"
     ]
    }
   ],
   "source": [
    "latitude= url.split(',')[2].split('@')[1]\n",
    "\n",
    "print(latitude)"
   ]
  },
  {
   "cell_type": "code",
   "execution_count": 217,
   "id": "4e707ce7",
   "metadata": {},
   "outputs": [
    {
     "name": "stdout",
     "output_type": "stream",
     "text": [
      "77.0450953\n"
     ]
    }
   ],
   "source": [
    "longitude= url.split(',')[3]\n",
    "\n",
    "print(longitude)"
   ]
  },
  {
   "cell_type": "code",
   "execution_count": null,
   "id": "63c3aaa1",
   "metadata": {},
   "outputs": [],
   "source": []
  },
  {
   "cell_type": "raw",
   "id": "707f0c59",
   "metadata": {},
   "source": [
    "Q5. COMPLETED"
   ]
  },
  {
   "cell_type": "code",
   "execution_count": null,
   "id": "b2b15ce1",
   "metadata": {},
   "outputs": [],
   "source": []
  },
  {
   "cell_type": "raw",
   "id": "44ae30ed",
   "metadata": {},
   "source": [
    "Q-6. Write a program to scrap details of all the funding deals for second quarter (i.e Jan 21 – March 21) \n",
    "     from   trak.in"
   ]
  },
  {
   "cell_type": "code",
   "execution_count": 4,
   "id": "94261636",
   "metadata": {},
   "outputs": [],
   "source": [
    "driver = webdriver.Chrome(r'C:\\Users\\acer\\INTERNSHIP_WORSHEET\\chromedriver.exe')"
   ]
  },
  {
   "cell_type": "code",
   "execution_count": 5,
   "id": "56671a42",
   "metadata": {},
   "outputs": [],
   "source": [
    "#\n",
    "driver.get('https://trak.in/')"
   ]
  },
  {
   "cell_type": "code",
   "execution_count": 7,
   "id": "e5816f95",
   "metadata": {},
   "outputs": [],
   "source": [
    "# SELECT THE 'FUNDING_DEALS' OPTION TO GO AHEAD\n",
    "\n",
    "driver.find_element_by_xpath('/html/body/div[1]/header/div[2]/div/div/div/div/nav/ul/li[9]/a').click()"
   ]
  },
  {
   "cell_type": "code",
   "execution_count": null,
   "id": "252dbfea",
   "metadata": {},
   "outputs": [],
   "source": []
  },
  {
   "cell_type": "code",
   "execution_count": 77,
   "id": "3287fa33",
   "metadata": {},
   "outputs": [],
   "source": [
    "# \n",
    "\n",
    "date= []\n",
    "startup_name = []\n",
    "industry= []\n",
    "sub_vertical= []\n",
    "city= []\n",
    "investors_name = []\n",
    "investment_type = []\n",
    "amount_USD = []"
   ]
  },
  {
   "cell_type": "code",
   "execution_count": null,
   "id": "2247db15",
   "metadata": {},
   "outputs": [],
   "source": []
  },
  {
   "cell_type": "code",
   "execution_count": 120,
   "id": "f80ce340",
   "metadata": {},
   "outputs": [],
   "source": [
    "###  scrapping 'amount $USD' of funding deals in ( 2020 2nd quaterly= April-June)\n",
    "\n",
    "amount = driver.find_elements_by_class_name(\"column-9\")\n",
    "\n",
    "for i in amount:\n",
    "#    print(i.text.split('\\n')[0])\n",
    "    amount_USD.append(i.text.split('\\n')[0])\n",
    "amount_USD = amount_USD[107:139]"
   ]
  },
  {
   "cell_type": "code",
   "execution_count": null,
   "id": "3961389c",
   "metadata": {},
   "outputs": [],
   "source": []
  },
  {
   "cell_type": "code",
   "execution_count": 116,
   "id": "780c0635",
   "metadata": {},
   "outputs": [],
   "source": [
    "###  scrapping 'investment type' of funding deals in ( 2020 2nd quaterly=  April-Jube)\n",
    "\n",
    "inves_type= driver.find_elements_by_class_name(\"column-8\")\n",
    "\n",
    "for i in inves_type:\n",
    "#    print(i.text.split('\\n')[0])\n",
    "    investment_type.append(i.text.split('\\n')[0])\n",
    "investment_type = investment_type[107:139]"
   ]
  },
  {
   "cell_type": "code",
   "execution_count": 112,
   "id": "e2daebf0",
   "metadata": {},
   "outputs": [],
   "source": [
    "###  scrapping 'investors_name' of funding deals in ( 2020 2nd quaterly= April-June)\n",
    "\n",
    "investor = driver.find_elements_by_class_name(\"column-7\")\n",
    "\n",
    "for i in investor:\n",
    "#    print(i.text.split('\\n')[0])\n",
    "    investors_name.append(i.text.split('\\n')[0])\n",
    "investors_name = investors_name[107:139]"
   ]
  },
  {
   "cell_type": "code",
   "execution_count": null,
   "id": "c6ce118a",
   "metadata": {},
   "outputs": [],
   "source": []
  },
  {
   "cell_type": "code",
   "execution_count": 108,
   "id": "0c57b232",
   "metadata": {},
   "outputs": [],
   "source": [
    "###  scrapping 'city' of funding deals in ( 2020 2nd quaterly= April-June)\n",
    "\n",
    "City= driver.find_elements_by_class_name(\"column-6\")\n",
    "\n",
    "for i in City:\n",
    "#    print(i.text.split('\\n')[0])\n",
    "    city.append(i.text.split('\\n')[0])\n",
    "city = city[107:139]"
   ]
  },
  {
   "cell_type": "code",
   "execution_count": null,
   "id": "e9c87ce1",
   "metadata": {},
   "outputs": [],
   "source": []
  },
  {
   "cell_type": "code",
   "execution_count": 99,
   "id": "aaabd41e",
   "metadata": {},
   "outputs": [],
   "source": [
    "##  scrapping 'sub_vertical' of funding deals in ( 2020 2nd quaterly= April-June)\n",
    "\n",
    "dc= driver.find_elements_by_class_name(\"column-5\")\n",
    "\n",
    "for i in dc:\n",
    "#    print(i.text.split('\\n')[0])\n",
    "    sub_vertical.append(i.text.split('\\n')[0])\n",
    "sub_vertical = sub_vertical[107:139]"
   ]
  },
  {
   "cell_type": "code",
   "execution_count": 94,
   "id": "05e2eb01",
   "metadata": {},
   "outputs": [],
   "source": [
    "##  scrapping 'industry name' of funding deal ( 2020 2nd quaterly=  April-June)\n",
    "\n",
    "dc= driver.find_elements_by_class_name(\"column-4\")\n",
    "\n",
    "for i in dc:\n",
    "#    print(i.text.split('\\n')[0])\n",
    "    industry.append(i.text.split('\\n')[0])\n",
    "industry= industry[107:139]"
   ]
  },
  {
   "cell_type": "code",
   "execution_count": 90,
   "id": "8f875f86",
   "metadata": {},
   "outputs": [],
   "source": [
    "##  scrapping 'startup name' of funding deal ( 2020 2nd quaterly=  April-June)\n",
    "\n",
    "s1= driver.find_elements_by_class_name(\"column-3\")\n",
    "\n",
    "for i in s1:\n",
    "#    print(i.text.split('\\n')[0])\n",
    "    startup_name.append(i.text.split('\\n')[0])\n",
    "startup_name= startup_name[107:139]"
   ]
  },
  {
   "cell_type": "code",
   "execution_count": 86,
   "id": "9d516608",
   "metadata": {},
   "outputs": [],
   "source": [
    "#  scrapping date of funding deal ( 2020 2nd quaterly= April-June)\n",
    "\n",
    "dc= driver.find_elements_by_class_name(\"column-2\")\n",
    "\n",
    "for i in dc:\n",
    "#    print(i.text.split('\\n')[0])   # row-hover\n",
    "    date.append(i.text.split('\\n')[0])\n",
    "date= date[107:139]"
   ]
  },
  {
   "cell_type": "code",
   "execution_count": null,
   "id": "254820c9",
   "metadata": {},
   "outputs": [],
   "source": []
  },
  {
   "cell_type": "code",
   "execution_count": null,
   "id": "6b88fa72",
   "metadata": {},
   "outputs": [],
   "source": [
    "# make a dataframe 2nd quaterly funding deals, April-June 2020"
   ]
  },
  {
   "cell_type": "code",
   "execution_count": 150,
   "id": "fc9b02cc",
   "metadata": {},
   "outputs": [],
   "source": [
    "funding_deals_data= pd.DataFrame({'Date':date, 'Startup_Name':startup_name,'Industry':industry,'Sub_Vertical':sub_vertical,'City':city,\n",
    "             'Investors Name':investors_name,'Investment Type':investment_type, 'Amount $USD':amount_USD})"
   ]
  },
  {
   "cell_type": "code",
   "execution_count": 159,
   "id": "cac641cb",
   "metadata": {},
   "outputs": [
    {
     "data": {
      "text/html": [
       "<div>\n",
       "<style scoped>\n",
       "    .dataframe tbody tr th:only-of-type {\n",
       "        vertical-align: middle;\n",
       "    }\n",
       "\n",
       "    .dataframe tbody tr th {\n",
       "        vertical-align: top;\n",
       "    }\n",
       "\n",
       "    .dataframe thead th {\n",
       "        text-align: right;\n",
       "    }\n",
       "</style>\n",
       "<table border=\"1\" class=\"dataframe\">\n",
       "  <thead>\n",
       "    <tr style=\"text-align: right;\">\n",
       "      <th></th>\n",
       "      <th>Date</th>\n",
       "      <th>Startup_Name</th>\n",
       "      <th>Industry</th>\n",
       "      <th>Sub_Vertical</th>\n",
       "      <th>City</th>\n",
       "      <th>Investors Name</th>\n",
       "      <th>Investment Type</th>\n",
       "      <th>Amount $USD</th>\n",
       "    </tr>\n",
       "  </thead>\n",
       "  <tbody>\n",
       "    <tr>\n",
       "      <th>0</th>\n",
       "      <td>02/04/2020</td>\n",
       "      <td>Recko</td>\n",
       "      <td>Digital Reconcilation and Financial Services</td>\n",
       "      <td>AI-powered Reconciliation of Digital Transactions</td>\n",
       "      <td>Bengaluru</td>\n",
       "      <td>Vertex Ventures Southeast Asia and India and P...</td>\n",
       "      <td>Series A</td>\n",
       "      <td>6,000,000</td>\n",
       "    </tr>\n",
       "    <tr>\n",
       "      <th>1</th>\n",
       "      <td>31/03/2020</td>\n",
       "      <td>Nykaa</td>\n",
       "      <td>E-commerce</td>\n",
       "      <td>Cosmetic and Beauty Products</td>\n",
       "      <td>Mumbai</td>\n",
       "      <td>Steadview Capital</td>\n",
       "      <td>Series F</td>\n",
       "      <td>13,000,000</td>\n",
       "    </tr>\n",
       "    <tr>\n",
       "      <th>2</th>\n",
       "      <td>08/04/2020</td>\n",
       "      <td>Fingerlix</td>\n",
       "      <td>Food Delivery</td>\n",
       "      <td>Ready-to-Cook Food</td>\n",
       "      <td>Mumbai</td>\n",
       "      <td>Accel, Zephyr Peacock, Swiggy, and RB Investments</td>\n",
       "      <td>Series C</td>\n",
       "      <td>1,800,000</td>\n",
       "    </tr>\n",
       "    <tr>\n",
       "      <th>3</th>\n",
       "      <td>15/04/2020</td>\n",
       "      <td>BigBasket</td>\n",
       "      <td>E-commerce</td>\n",
       "      <td>Online Grocery Delivery</td>\n",
       "      <td>Bengaluru</td>\n",
       "      <td>Alibaba Group</td>\n",
       "      <td>Debt Financing</td>\n",
       "      <td>50,000,000</td>\n",
       "    </tr>\n",
       "    <tr>\n",
       "      <th>4</th>\n",
       "      <td>07/04/2020</td>\n",
       "      <td>DeHaat</td>\n",
       "      <td>AgriTech</td>\n",
       "      <td>AgriTech</td>\n",
       "      <td>Patna</td>\n",
       "      <td>Sequoia Capital India, FMO, Omnivore and AgFun...</td>\n",
       "      <td>Series A</td>\n",
       "      <td>12,000,000</td>\n",
       "    </tr>\n",
       "    <tr>\n",
       "      <th>5</th>\n",
       "      <td>08/04/2020</td>\n",
       "      <td>Zupee</td>\n",
       "      <td>Gaming</td>\n",
       "      <td>Gaming</td>\n",
       "      <td>Gurugram</td>\n",
       "      <td>Matrix Partners India, Falcon Edge Capital, We...</td>\n",
       "      <td>Series A</td>\n",
       "      <td>8,000,000</td>\n",
       "    </tr>\n",
       "    <tr>\n",
       "      <th>6</th>\n",
       "      <td>06/04/2020</td>\n",
       "      <td>Swiggy</td>\n",
       "      <td>Online Food Delivery</td>\n",
       "      <td>Online Food Delivery</td>\n",
       "      <td>Bengaluru</td>\n",
       "      <td>Tencent, Ark Impact, Korea Investment Partners...</td>\n",
       "      <td>Series 1</td>\n",
       "      <td>43,000,000</td>\n",
       "    </tr>\n",
       "    <tr>\n",
       "      <th>7</th>\n",
       "      <td>09/04/2020</td>\n",
       "      <td>Vedantu</td>\n",
       "      <td>EduTech</td>\n",
       "      <td>Online Tutoring</td>\n",
       "      <td>Bengaluru</td>\n",
       "      <td>Legend Capital</td>\n",
       "      <td>Series C1</td>\n",
       "      <td>12,560,000</td>\n",
       "    </tr>\n",
       "    <tr>\n",
       "      <th>8</th>\n",
       "      <td>18/05/2020</td>\n",
       "      <td>LetsTransport</td>\n",
       "      <td>Logistics Solution Provider</td>\n",
       "      <td>Logistics, Transportation, Travel</td>\n",
       "      <td>Bangalore</td>\n",
       "      <td>InnoVen Capital</td>\n",
       "      <td>Venture - Series Unknown</td>\n",
       "      <td>1,700,000</td>\n",
       "    </tr>\n",
       "    <tr>\n",
       "      <th>9</th>\n",
       "      <td>13/05/2020</td>\n",
       "      <td>Magicpin</td>\n",
       "      <td>E-commerce</td>\n",
       "      <td>E-commerce</td>\n",
       "      <td>Gurugram</td>\n",
       "      <td>Lightspeed Venture Partners, along with the pa...</td>\n",
       "      <td>Series C</td>\n",
       "      <td>4,000,000</td>\n",
       "    </tr>\n",
       "    <tr>\n",
       "      <th>10</th>\n",
       "      <td>11/05/2020</td>\n",
       "      <td>Nykaa</td>\n",
       "      <td>E-commerce</td>\n",
       "      <td>Cosmetic and Beauty Products</td>\n",
       "      <td>Mumbai</td>\n",
       "      <td>Steadview Capital</td>\n",
       "      <td>Series F</td>\n",
       "      <td>8,800,000</td>\n",
       "    </tr>\n",
       "    <tr>\n",
       "      <th>11</th>\n",
       "      <td>05/05/2020</td>\n",
       "      <td>Classplus</td>\n",
       "      <td>EduTech</td>\n",
       "      <td>e-learning, education solutions.</td>\n",
       "      <td>Noida</td>\n",
       "      <td>RTP Global, lume Ventures, Sequoia Capital Ind...</td>\n",
       "      <td>Series A</td>\n",
       "      <td>9,000,000</td>\n",
       "    </tr>\n",
       "    <tr>\n",
       "      <th>12</th>\n",
       "      <td>21/05/2020</td>\n",
       "      <td>No Worry No Tension Healthcare (NWNT)</td>\n",
       "      <td>Healthcare</td>\n",
       "      <td>Emotional health and mental health wellness</td>\n",
       "      <td>New Delhi</td>\n",
       "      <td>Amit Burman, Chairman of Dabur India,</td>\n",
       "      <td>Pre Series A</td>\n",
       "      <td>NA</td>\n",
       "    </tr>\n",
       "    <tr>\n",
       "      <th>13</th>\n",
       "      <td>19/05/2020</td>\n",
       "      <td>Lendingkart</td>\n",
       "      <td>FinTech</td>\n",
       "      <td>Financial Services, Lending, Micro Lending.</td>\n",
       "      <td>Ahmedabad</td>\n",
       "      <td>Fullerton Financial Holdings Pte Ltd (FFH) and...</td>\n",
       "      <td>Series D</td>\n",
       "      <td>42,000,000</td>\n",
       "    </tr>\n",
       "    <tr>\n",
       "      <th>14</th>\n",
       "      <td>19/05/2020</td>\n",
       "      <td>Vakilsearch</td>\n",
       "      <td>LegalTech</td>\n",
       "      <td>Online professional services platform for lawy...</td>\n",
       "      <td>Chennai</td>\n",
       "      <td>Udaan co-founder, Sujeet Kumar</td>\n",
       "      <td>Series A</td>\n",
       "      <td>NA</td>\n",
       "    </tr>\n",
       "    <tr>\n",
       "      <th>15</th>\n",
       "      <td>20/05/2020</td>\n",
       "      <td>Khatabook</td>\n",
       "      <td>Utility Solutions Provider</td>\n",
       "      <td>Financial Services, Accounting, Payments.</td>\n",
       "      <td>Bangalore</td>\n",
       "      <td>B Capital Group, Sequoia India, Partners of DS...</td>\n",
       "      <td>Series B</td>\n",
       "      <td>60,000,000</td>\n",
       "    </tr>\n",
       "    <tr>\n",
       "      <th>16</th>\n",
       "      <td>20/05/2020</td>\n",
       "      <td>Tring</td>\n",
       "      <td>Advertising</td>\n",
       "      <td>Celebrity Engagement Platform</td>\n",
       "      <td>Mumbai</td>\n",
       "      <td>Tencent, Ark Impact, KoKalyan Krishnamurthy of...</td>\n",
       "      <td>Angel</td>\n",
       "      <td>NA</td>\n",
       "    </tr>\n",
       "    <tr>\n",
       "      <th>17</th>\n",
       "      <td>21/05/2020</td>\n",
       "      <td>leap.club</td>\n",
       "      <td>Professional Network for Women</td>\n",
       "      <td>Professional Network for Women</td>\n",
       "      <td>Gurugram</td>\n",
       "      <td>Whiteboard Capital (Sandeep Tandon’s VC fund),...</td>\n",
       "      <td>Pre Seed</td>\n",
       "      <td>340,000</td>\n",
       "    </tr>\n",
       "    <tr>\n",
       "      <th>18</th>\n",
       "      <td>10/06/2020</td>\n",
       "      <td>Hapramp</td>\n",
       "      <td>Block Chain, Cryptocurrency</td>\n",
       "      <td>Block Chain, Cryptocurrency</td>\n",
       "      <td>Gurugram</td>\n",
       "      <td>Anand Mahindra</td>\n",
       "      <td>Seed</td>\n",
       "      <td>1,000,000</td>\n",
       "    </tr>\n",
       "    <tr>\n",
       "      <th>19</th>\n",
       "      <td>11/06/2020</td>\n",
       "      <td>Myelin Foundry</td>\n",
       "      <td>Deep Tech AI</td>\n",
       "      <td>Artificial Intelligence</td>\n",
       "      <td>Bangalore</td>\n",
       "      <td>Kris Gopalakrishnan’s family office — Pratithi.</td>\n",
       "      <td>Seed</td>\n",
       "      <td>1,000,000</td>\n",
       "    </tr>\n",
       "    <tr>\n",
       "      <th>20</th>\n",
       "      <td>10/06/2020</td>\n",
       "      <td>WayCool Foods</td>\n",
       "      <td>AgriTech</td>\n",
       "      <td>Food and Beverage</td>\n",
       "      <td>Chennai</td>\n",
       "      <td>Indusland Bank</td>\n",
       "      <td>Series C</td>\n",
       "      <td>5,500,000</td>\n",
       "    </tr>\n",
       "    <tr>\n",
       "      <th>21</th>\n",
       "      <td>15/06/2020</td>\n",
       "      <td>LetsTransport</td>\n",
       "      <td>Logistics Solution Provider</td>\n",
       "      <td>Logistics, Transportation, Travel</td>\n",
       "      <td>Bangalore</td>\n",
       "      <td>Stride Ventures</td>\n",
       "      <td>Venture - Series Unknown</td>\n",
       "      <td>1,311,647</td>\n",
       "    </tr>\n",
       "    <tr>\n",
       "      <th>22</th>\n",
       "      <td>15/06/2020</td>\n",
       "      <td>Sai Estate Management and Skills Institute</td>\n",
       "      <td>EdTech</td>\n",
       "      <td>Education</td>\n",
       "      <td>Mumbai</td>\n",
       "      <td>Suniel Shetty</td>\n",
       "      <td>Angel</td>\n",
       "      <td>NA</td>\n",
       "    </tr>\n",
       "    <tr>\n",
       "      <th>23</th>\n",
       "      <td>16/06/2020</td>\n",
       "      <td>Biomoneta</td>\n",
       "      <td>BioTech</td>\n",
       "      <td>HealthTech, Biotechnology Research</td>\n",
       "      <td>Bangalore</td>\n",
       "      <td>Beyond Next Ventures, ArthaVida Ventures and D...</td>\n",
       "      <td>Seed</td>\n",
       "      <td>NA</td>\n",
       "    </tr>\n",
       "    <tr>\n",
       "      <th>24</th>\n",
       "      <td>16/06/2020</td>\n",
       "      <td>Jai Kisan</td>\n",
       "      <td>Rural FinTech</td>\n",
       "      <td>AgriTech, Financial Services</td>\n",
       "      <td>Mumbai</td>\n",
       "      <td>Arkam Ventures and NABVENTURES Fund I</td>\n",
       "      <td>Pre-Series A</td>\n",
       "      <td>3,934,941</td>\n",
       "    </tr>\n",
       "    <tr>\n",
       "      <th>25</th>\n",
       "      <td>17/06/2020</td>\n",
       "      <td>Peppermint</td>\n",
       "      <td>Industrial Robotics</td>\n",
       "      <td>Industrial Robotics</td>\n",
       "      <td>Mumbai</td>\n",
       "      <td>Venture Catalysts and Naveen Kshatriya</td>\n",
       "      <td>Seed</td>\n",
       "      <td>NA</td>\n",
       "    </tr>\n",
       "    <tr>\n",
       "      <th>26</th>\n",
       "      <td>17/06/2020</td>\n",
       "      <td>Stellaps</td>\n",
       "      <td>AgriTech</td>\n",
       "      <td>Farming, Dairy Management Apps</td>\n",
       "      <td>Bangalore</td>\n",
       "      <td>Stride Ventures</td>\n",
       "      <td>Debt Financing</td>\n",
       "      <td>NA</td>\n",
       "    </tr>\n",
       "    <tr>\n",
       "      <th>27</th>\n",
       "      <td>18/06/2020</td>\n",
       "      <td>Drishti Technologies</td>\n",
       "      <td>Technology</td>\n",
       "      <td>Artificial Intelligence, Video Analytics</td>\n",
       "      <td>Mumbai</td>\n",
       "      <td>Sozo Ventures</td>\n",
       "      <td>Series B</td>\n",
       "      <td>25,000,000</td>\n",
       "    </tr>\n",
       "  </tbody>\n",
       "</table>\n",
       "</div>"
      ],
      "text/plain": [
       "          Date                                Startup_Name  \\\n",
       "0   02/04/2020                                       Recko   \n",
       "1   31/03/2020                                       Nykaa   \n",
       "2   08/04/2020                                   Fingerlix   \n",
       "3   15/04/2020                                   BigBasket   \n",
       "4   07/04/2020                                      DeHaat   \n",
       "5   08/04/2020                                       Zupee   \n",
       "6   06/04/2020                                      Swiggy   \n",
       "7   09/04/2020                                     Vedantu   \n",
       "8   18/05/2020                               LetsTransport   \n",
       "9   13/05/2020                                    Magicpin   \n",
       "10  11/05/2020                                       Nykaa   \n",
       "11  05/05/2020                                   Classplus   \n",
       "12  21/05/2020       No Worry No Tension Healthcare (NWNT)   \n",
       "13  19/05/2020                                 Lendingkart   \n",
       "14  19/05/2020                                 Vakilsearch   \n",
       "15  20/05/2020                                   Khatabook   \n",
       "16  20/05/2020                                       Tring   \n",
       "17  21/05/2020                                   leap.club   \n",
       "18  10/06/2020                                     Hapramp   \n",
       "19  11/06/2020                              Myelin Foundry   \n",
       "20  10/06/2020                               WayCool Foods   \n",
       "21  15/06/2020                               LetsTransport   \n",
       "22  15/06/2020  Sai Estate Management and Skills Institute   \n",
       "23  16/06/2020                                   Biomoneta   \n",
       "24  16/06/2020                                   Jai Kisan   \n",
       "25  17/06/2020                                  Peppermint   \n",
       "26  17/06/2020                                    Stellaps   \n",
       "27  18/06/2020                        Drishti Technologies   \n",
       "\n",
       "                                        Industry  \\\n",
       "0   Digital Reconcilation and Financial Services   \n",
       "1                                     E-commerce   \n",
       "2                                  Food Delivery   \n",
       "3                                     E-commerce   \n",
       "4                                       AgriTech   \n",
       "5                                         Gaming   \n",
       "6                           Online Food Delivery   \n",
       "7                                        EduTech   \n",
       "8                    Logistics Solution Provider   \n",
       "9                                     E-commerce   \n",
       "10                                    E-commerce   \n",
       "11                                       EduTech   \n",
       "12                                    Healthcare   \n",
       "13                                       FinTech   \n",
       "14                                     LegalTech   \n",
       "15                    Utility Solutions Provider   \n",
       "16                                   Advertising   \n",
       "17                Professional Network for Women   \n",
       "18                   Block Chain, Cryptocurrency   \n",
       "19                                  Deep Tech AI   \n",
       "20                                      AgriTech   \n",
       "21                   Logistics Solution Provider   \n",
       "22                                        EdTech   \n",
       "23                                       BioTech   \n",
       "24                                 Rural FinTech   \n",
       "25                           Industrial Robotics   \n",
       "26                                      AgriTech   \n",
       "27                                    Technology   \n",
       "\n",
       "                                         Sub_Vertical       City  \\\n",
       "0   AI-powered Reconciliation of Digital Transactions  Bengaluru   \n",
       "1                        Cosmetic and Beauty Products     Mumbai   \n",
       "2                                  Ready-to-Cook Food     Mumbai   \n",
       "3                             Online Grocery Delivery  Bengaluru   \n",
       "4                                            AgriTech      Patna   \n",
       "5                                              Gaming   Gurugram   \n",
       "6                                Online Food Delivery  Bengaluru   \n",
       "7                                     Online Tutoring  Bengaluru   \n",
       "8                   Logistics, Transportation, Travel  Bangalore   \n",
       "9                                          E-commerce   Gurugram   \n",
       "10                       Cosmetic and Beauty Products     Mumbai   \n",
       "11                   e-learning, education solutions.      Noida   \n",
       "12        Emotional health and mental health wellness  New Delhi   \n",
       "13        Financial Services, Lending, Micro Lending.  Ahmedabad   \n",
       "14  Online professional services platform for lawy...    Chennai   \n",
       "15          Financial Services, Accounting, Payments.  Bangalore   \n",
       "16                      Celebrity Engagement Platform     Mumbai   \n",
       "17                     Professional Network for Women   Gurugram   \n",
       "18                        Block Chain, Cryptocurrency   Gurugram   \n",
       "19                            Artificial Intelligence  Bangalore   \n",
       "20                                  Food and Beverage    Chennai   \n",
       "21                  Logistics, Transportation, Travel  Bangalore   \n",
       "22                                          Education     Mumbai   \n",
       "23                 HealthTech, Biotechnology Research  Bangalore   \n",
       "24                       AgriTech, Financial Services     Mumbai   \n",
       "25                                Industrial Robotics     Mumbai   \n",
       "26                     Farming, Dairy Management Apps  Bangalore   \n",
       "27           Artificial Intelligence, Video Analytics     Mumbai   \n",
       "\n",
       "                                       Investors Name  \\\n",
       "0   Vertex Ventures Southeast Asia and India and P...   \n",
       "1                                   Steadview Capital   \n",
       "2   Accel, Zephyr Peacock, Swiggy, and RB Investments   \n",
       "3                                       Alibaba Group   \n",
       "4   Sequoia Capital India, FMO, Omnivore and AgFun...   \n",
       "5   Matrix Partners India, Falcon Edge Capital, We...   \n",
       "6   Tencent, Ark Impact, Korea Investment Partners...   \n",
       "7                                      Legend Capital   \n",
       "8                                     InnoVen Capital   \n",
       "9   Lightspeed Venture Partners, along with the pa...   \n",
       "10                                  Steadview Capital   \n",
       "11  RTP Global, lume Ventures, Sequoia Capital Ind...   \n",
       "12              Amit Burman, Chairman of Dabur India,   \n",
       "13  Fullerton Financial Holdings Pte Ltd (FFH) and...   \n",
       "14                     Udaan co-founder, Sujeet Kumar   \n",
       "15  B Capital Group, Sequoia India, Partners of DS...   \n",
       "16  Tencent, Ark Impact, KoKalyan Krishnamurthy of...   \n",
       "17  Whiteboard Capital (Sandeep Tandon’s VC fund),...   \n",
       "18                                     Anand Mahindra   \n",
       "19    Kris Gopalakrishnan’s family office — Pratithi.   \n",
       "20                                     Indusland Bank   \n",
       "21                                    Stride Ventures   \n",
       "22                                      Suniel Shetty   \n",
       "23  Beyond Next Ventures, ArthaVida Ventures and D...   \n",
       "24              Arkam Ventures and NABVENTURES Fund I   \n",
       "25             Venture Catalysts and Naveen Kshatriya   \n",
       "26                                    Stride Ventures   \n",
       "27                                      Sozo Ventures   \n",
       "\n",
       "             Investment Type Amount $USD  \n",
       "0                   Series A   6,000,000  \n",
       "1                   Series F  13,000,000  \n",
       "2                   Series C   1,800,000  \n",
       "3             Debt Financing  50,000,000  \n",
       "4                   Series A  12,000,000  \n",
       "5                   Series A   8,000,000  \n",
       "6                   Series 1  43,000,000  \n",
       "7                  Series C1  12,560,000  \n",
       "8   Venture - Series Unknown   1,700,000  \n",
       "9                   Series C   4,000,000  \n",
       "10                  Series F   8,800,000  \n",
       "11                  Series A   9,000,000  \n",
       "12              Pre Series A          NA  \n",
       "13                  Series D  42,000,000  \n",
       "14                  Series A          NA  \n",
       "15                  Series B  60,000,000  \n",
       "16                     Angel          NA  \n",
       "17                  Pre Seed     340,000  \n",
       "18                      Seed   1,000,000  \n",
       "19                      Seed   1,000,000  \n",
       "20                  Series C   5,500,000  \n",
       "21  Venture - Series Unknown   1,311,647  \n",
       "22                     Angel          NA  \n",
       "23                      Seed          NA  \n",
       "24              Pre-Series A   3,934,941  \n",
       "25                      Seed          NA  \n",
       "26            Debt Financing          NA  \n",
       "27                  Series B  25,000,000  "
      ]
     },
     "execution_count": 159,
     "metadata": {},
     "output_type": "execute_result"
    }
   ],
   "source": [
    "funding_deals_data"
   ]
  },
  {
   "cell_type": "code",
   "execution_count": 160,
   "id": "b1f0dc9a",
   "metadata": {},
   "outputs": [],
   "source": [
    "driver.close()\n",
    "\n",
    "#  Q6. completed "
   ]
  },
  {
   "cell_type": "code",
   "execution_count": null,
   "id": "314ac7b7",
   "metadata": {},
   "outputs": [],
   "source": []
  },
  {
   "cell_type": "code",
   "execution_count": null,
   "id": "ab1a3832",
   "metadata": {},
   "outputs": [],
   "source": []
  },
  {
   "cell_type": "raw",
   "id": "4d3ea2e5",
   "metadata": {},
   "source": [
    "Q-7. Write a program to scrap all the available details of best gaming laptops from digit.in.\n"
   ]
  },
  {
   "cell_type": "code",
   "execution_count": 153,
   "id": "461b1e73",
   "metadata": {},
   "outputs": [],
   "source": [
    "driver = webdriver.Chrome(r'C:\\Users\\acer\\INTERNSHIP_WORSHEET\\chromedriver.exe')"
   ]
  },
  {
   "cell_type": "code",
   "execution_count": 154,
   "id": "b3e5f045",
   "metadata": {},
   "outputs": [],
   "source": [
    "# \n",
    "driver.get('https://www.digit.in/')"
   ]
  },
  {
   "cell_type": "code",
   "execution_count": 155,
   "id": "6a96288e",
   "metadata": {},
   "outputs": [],
   "source": [
    "# select on  LAPTOP option\n",
    "\n",
    "driver.find_element_by_xpath('/html/body/div[1]/div/div[4]/ul/li[3]/a').click()"
   ]
  },
  {
   "cell_type": "code",
   "execution_count": 157,
   "id": "6e67e4f1",
   "metadata": {},
   "outputs": [],
   "source": [
    "# select best gaming laptop\n",
    "\n",
    "driver.find_element_by_xpath('/html/body/div[6]/div/div[2]/div[2]/ul/li[10]/a').click()"
   ]
  },
  {
   "cell_type": "code",
   "execution_count": 210,
   "id": "70277724",
   "metadata": {},
   "outputs": [],
   "source": [
    "# scrapping best 'GAMING LAPTOP' 'NAME' from (www.digit.in)\n",
    "\n",
    "l= driver.find_elements_by_tag_name('h3')\n",
    "\n",
    "Laptop= []\n",
    "\n",
    "for i in l:\n",
    "#    print(i.text)\n",
    "    Laptop.append(i.text)"
   ]
  },
  {
   "cell_type": "code",
   "execution_count": null,
   "id": "8f307a59",
   "metadata": {},
   "outputs": [],
   "source": []
  },
  {
   "cell_type": "code",
   "execution_count": 211,
   "id": "62ff869d",
   "metadata": {},
   "outputs": [],
   "source": [
    "# scraping gaming laptop 'specification' from web elements\n",
    "\n",
    "specification= driver.find_elements(By.XPATH,'//div[@class= \"Spcs-details\"]')\n",
    "\n",
    "Processor = []\n",
    "Display= []\n",
    "OS = []\n",
    "Memory = []\n",
    "Graphics_Processor= []\n",
    "Body = []\n",
    "\n",
    "for i in specification:\n",
    "#    print(i.text.split('\\n')[2])\n",
    "    Processor.append(i.text.split('\\n')[1])\n",
    "    Display.append(i.text.split('\\n')[2])\n",
    "    OS.append(i.text.split('\\n')[3][5:])\n",
    "\n",
    "    Memory.append(i.text.split('\\n')[4][8:])\n",
    "    Graphics_Processor.append(i.text.split('\\n')[5][21:])\n",
    "    Body.append(i.text.split('\\n')[6][7:])\n"
   ]
  },
  {
   "cell_type": "code",
   "execution_count": 214,
   "id": "f68fb968",
   "metadata": {},
   "outputs": [
    {
     "data": {
      "text/html": [
       "<div>\n",
       "<style scoped>\n",
       "    .dataframe tbody tr th:only-of-type {\n",
       "        vertical-align: middle;\n",
       "    }\n",
       "\n",
       "    .dataframe tbody tr th {\n",
       "        vertical-align: top;\n",
       "    }\n",
       "\n",
       "    .dataframe thead th {\n",
       "        text-align: right;\n",
       "    }\n",
       "</style>\n",
       "<table border=\"1\" class=\"dataframe\">\n",
       "  <thead>\n",
       "    <tr style=\"text-align: right;\">\n",
       "      <th></th>\n",
       "      <th>Processor</th>\n",
       "      <th>Display</th>\n",
       "      <th>OS</th>\n",
       "      <th>Memory</th>\n",
       "      <th>Graphics_Processor</th>\n",
       "      <th>Body</th>\n",
       "    </tr>\n",
       "  </thead>\n",
       "  <tbody>\n",
       "    <tr>\n",
       "      <th>MSI TITAN GT77-12UHS</th>\n",
       "      <td>Processor : 12th Gen Intel Core i9-12900HX 16 ...</td>\n",
       "      <td>Display : 17.3″ (3840 x 2160) screen, 120 Hz r...</td>\n",
       "      <td>Windows 11 Home</td>\n",
       "      <td>64 GB DDR5 RAM &amp; 2 TB SSD</td>\n",
       "      <td>16 GB DDR6 NVIDIA GeForce RTX 3080 Ti Graphics...</td>\n",
       "      <td>397 x 330 x 23 mm dimension &amp; 3.3 kg weight</td>\n",
       "    </tr>\n",
       "    <tr>\n",
       "      <th>ALIENWARE X17 R2</th>\n",
       "      <td>Processor : 12th Gen Intel Core i9-12900HK 14 ...</td>\n",
       "      <td>Display : 17.3″ (1920x1080) screen, 360 Hz ref...</td>\n",
       "      <td>Windows 11 Home</td>\n",
       "      <td>32 GB DDR5 RAM &amp; 1 TB SSD</td>\n",
       "      <td>16 GB DDR6 NVIDIA GeForce RTX 3080 Ti, Graphic...</td>\n",
       "      <td>399.23 x 299.57 x 14.75 mm dimension &amp; 3.02 kg...</td>\n",
       "    </tr>\n",
       "    <tr>\n",
       "      <th>ACER PREDATOR TRITON 500 SE PT516-52S</th>\n",
       "      <td>Processor : 12th Gen Intel Core i7-12700H 14 c...</td>\n",
       "      <td>Display : 16″ (2560 x 1600) screen, 240 Hz ref...</td>\n",
       "      <td>Windows 11 Home</td>\n",
       "      <td>32 GB DDR5 RAM &amp; 2 TB SSD</td>\n",
       "      <td>8 GB DDR6 NVIDIA GeForce RTXTM 3070 Ti Graphic...</td>\n",
       "      <td>358 x 262 x 19.9 mm dimension &amp; 2.4 kg weight</td>\n",
       "    </tr>\n",
       "    <tr>\n",
       "      <th>OMEN BY HP (16-B1371TX)</th>\n",
       "      <td>Processor : 12th Gen Intel Core i7-12700H 14 c...</td>\n",
       "      <td>Display : 16.1″ (2560 x 1440) screen</td>\n",
       "      <td>Windows 11 Home</td>\n",
       "      <td>8 GB DDR5 RAM &amp; 1 TB SSD</td>\n",
       "      <td>8 GB GDDR6 NVIDIA GeForce RTX 3070 Graphics card</td>\n",
       "      <td>369 x 248 x 23 mm dimension &amp; 2.32 kg weight</td>\n",
       "    </tr>\n",
       "    <tr>\n",
       "      <th>ACER PREDATOR HELIOS 300 AN515-45 (NH.QBRSI.0</th>\n",
       "      <td>Processor : AMD Ryzen 9-5900HX 8 core processor</td>\n",
       "      <td>Display : 15.6″ (2560 x 1440) screen, 165 Hz r...</td>\n",
       "      <td>Windows 11 Home</td>\n",
       "      <td>16 GB DDR4 RAM &amp; 512 GB SSD</td>\n",
       "      <td>8 GB DDR6 NVIDIA GeForce RTX 3070 Graphics card</td>\n",
       "      <td>363 x 255 x 23.9 mm dimension &amp; 2.4 kg weight</td>\n",
       "    </tr>\n",
       "    <tr>\n",
       "      <th>MSI DELTA 15 (A5EFK-083IN)</th>\n",
       "      <td>Processor : AMD 5th Gen Ryzen 9-5900HX 8 core ...</td>\n",
       "      <td>Display : 15.6″ (1920 x 1080) screen, 240Hz re...</td>\n",
       "      <td>Windows 11 Home</td>\n",
       "      <td>16 GB DDR4 RAM &amp; 1 TB SSD</td>\n",
       "      <td>10 GB DDR6 AMD Radeon RX 6700M Graphics card</td>\n",
       "      <td>357 x 247 x 19 mm dimension &amp; 1.9 kg weight</td>\n",
       "    </tr>\n",
       "    <tr>\n",
       "      <th>OMEN BY HP (16-C0141AX)</th>\n",
       "      <td>Processor : AMD Ryzen™ 9 5900HX 8 core process...</td>\n",
       "      <td>Display : 16.1″ (2560 x 1440) screen</td>\n",
       "      <td>Windows 11 Home</td>\n",
       "      <td>16 GB DDR4 RAM &amp; 1 TB NVMe</td>\n",
       "      <td>8 GB GDDR6 AMD Radeon™ RX 6600M Graphics card</td>\n",
       "      <td>36.92 x 24.8 x 2.3 mm dimension &amp; 2.3 kg weight</td>\n",
       "    </tr>\n",
       "    <tr>\n",
       "      <th>LENOVO LEGION 5I PRO (82RF00MGIN)</th>\n",
       "      <td>Processor : 12th Gen Intel Core i7-12700H 14 c...</td>\n",
       "      <td>Display : 16″ (2560 x 1600) screen, 165 Hz ref...</td>\n",
       "      <td>Windows 11 Home</td>\n",
       "      <td>16 GB DDR5 RAM &amp; 1 TB SSD</td>\n",
       "      <td>6 GB DDR6 NVIDIA GeForce RTX 3060 Graphics card</td>\n",
       "      <td>359.9 x 264.4 x 19.9 mm dimension &amp; 2.5 kg weight</td>\n",
       "    </tr>\n",
       "    <tr>\n",
       "      <th>ALIENWARE M15 R5 RYZEN EDITION ICC-C780001WIN</th>\n",
       "      <td>Processor : AMD Ryzen R7-5800H 8 core processo...</td>\n",
       "      <td>Display : 15.6″ (1920 x 1080) screen, 165Hz re...</td>\n",
       "      <td>Windows 11 Home</td>\n",
       "      <td>16 GB DDR4 RAM &amp; 512 GB SSD</td>\n",
       "      <td>6 GB DDR6 NVIDIA GeForce RTX 3060 Graphics card</td>\n",
       "      <td>356.2 x 272.5 x 22.85 mm dimension &amp; 2.69 kg w...</td>\n",
       "    </tr>\n",
       "    <tr>\n",
       "      <th>LENOVO SLIM 7 GEN 6 (82K8002JIN)</th>\n",
       "      <td>Processor : Lenovo Ryzen 7-5800H processor wit...</td>\n",
       "      <td>Display : 15.6″ screen, 165 Hz refresh rate</td>\n",
       "      <td>Windows 11 Home</td>\n",
       "      <td>16 GB DDR4 RAM &amp; 1 TB SSD</td>\n",
       "      <td>6 GB DDR6 NVIDIA GeForce 3060 Max-Q Graphics card</td>\n",
       "      <td>356 x 252 x 16 mm dimension &amp; 1.9 kg weight</td>\n",
       "    </tr>\n",
       "  </tbody>\n",
       "</table>\n",
       "</div>"
      ],
      "text/plain": [
       "                                                                                       Processor  \\\n",
       "MSI TITAN GT77-12UHS                           Processor : 12th Gen Intel Core i9-12900HX 16 ...   \n",
       "ALIENWARE X17 R2                               Processor : 12th Gen Intel Core i9-12900HK 14 ...   \n",
       "ACER PREDATOR TRITON 500 SE PT516-52S          Processor : 12th Gen Intel Core i7-12700H 14 c...   \n",
       "OMEN BY HP (16-B1371TX)                        Processor : 12th Gen Intel Core i7-12700H 14 c...   \n",
       "ACER PREDATOR HELIOS 300 AN515-45 (NH.QBRSI.0    Processor : AMD Ryzen 9-5900HX 8 core processor   \n",
       "MSI DELTA 15 (A5EFK-083IN)                     Processor : AMD 5th Gen Ryzen 9-5900HX 8 core ...   \n",
       "OMEN BY HP (16-C0141AX)                        Processor : AMD Ryzen™ 9 5900HX 8 core process...   \n",
       "LENOVO LEGION 5I PRO (82RF00MGIN)              Processor : 12th Gen Intel Core i7-12700H 14 c...   \n",
       "ALIENWARE M15 R5 RYZEN EDITION ICC-C780001WIN  Processor : AMD Ryzen R7-5800H 8 core processo...   \n",
       "LENOVO SLIM 7 GEN 6 (82K8002JIN)               Processor : Lenovo Ryzen 7-5800H processor wit...   \n",
       "\n",
       "                                                                                         Display  \\\n",
       "MSI TITAN GT77-12UHS                           Display : 17.3″ (3840 x 2160) screen, 120 Hz r...   \n",
       "ALIENWARE X17 R2                               Display : 17.3″ (1920x1080) screen, 360 Hz ref...   \n",
       "ACER PREDATOR TRITON 500 SE PT516-52S          Display : 16″ (2560 x 1600) screen, 240 Hz ref...   \n",
       "OMEN BY HP (16-B1371TX)                                     Display : 16.1″ (2560 x 1440) screen   \n",
       "ACER PREDATOR HELIOS 300 AN515-45 (NH.QBRSI.0  Display : 15.6″ (2560 x 1440) screen, 165 Hz r...   \n",
       "MSI DELTA 15 (A5EFK-083IN)                     Display : 15.6″ (1920 x 1080) screen, 240Hz re...   \n",
       "OMEN BY HP (16-C0141AX)                                     Display : 16.1″ (2560 x 1440) screen   \n",
       "LENOVO LEGION 5I PRO (82RF00MGIN)              Display : 16″ (2560 x 1600) screen, 165 Hz ref...   \n",
       "ALIENWARE M15 R5 RYZEN EDITION ICC-C780001WIN  Display : 15.6″ (1920 x 1080) screen, 165Hz re...   \n",
       "LENOVO SLIM 7 GEN 6 (82K8002JIN)                     Display : 15.6″ screen, 165 Hz refresh rate   \n",
       "\n",
       "                                                            OS  \\\n",
       "MSI TITAN GT77-12UHS                           Windows 11 Home   \n",
       "ALIENWARE X17 R2                               Windows 11 Home   \n",
       "ACER PREDATOR TRITON 500 SE PT516-52S          Windows 11 Home   \n",
       "OMEN BY HP (16-B1371TX)                        Windows 11 Home   \n",
       "ACER PREDATOR HELIOS 300 AN515-45 (NH.QBRSI.0  Windows 11 Home   \n",
       "MSI DELTA 15 (A5EFK-083IN)                     Windows 11 Home   \n",
       "OMEN BY HP (16-C0141AX)                        Windows 11 Home   \n",
       "LENOVO LEGION 5I PRO (82RF00MGIN)              Windows 11 Home   \n",
       "ALIENWARE M15 R5 RYZEN EDITION ICC-C780001WIN  Windows 11 Home   \n",
       "LENOVO SLIM 7 GEN 6 (82K8002JIN)               Windows 11 Home   \n",
       "\n",
       "                                                                     Memory  \\\n",
       "MSI TITAN GT77-12UHS                              64 GB DDR5 RAM & 2 TB SSD   \n",
       "ALIENWARE X17 R2                                  32 GB DDR5 RAM & 1 TB SSD   \n",
       "ACER PREDATOR TRITON 500 SE PT516-52S             32 GB DDR5 RAM & 2 TB SSD   \n",
       "OMEN BY HP (16-B1371TX)                            8 GB DDR5 RAM & 1 TB SSD   \n",
       "ACER PREDATOR HELIOS 300 AN515-45 (NH.QBRSI.0   16 GB DDR4 RAM & 512 GB SSD   \n",
       "MSI DELTA 15 (A5EFK-083IN)                        16 GB DDR4 RAM & 1 TB SSD   \n",
       "OMEN BY HP (16-C0141AX)                          16 GB DDR4 RAM & 1 TB NVMe   \n",
       "LENOVO LEGION 5I PRO (82RF00MGIN)                 16 GB DDR5 RAM & 1 TB SSD   \n",
       "ALIENWARE M15 R5 RYZEN EDITION ICC-C780001WIN   16 GB DDR4 RAM & 512 GB SSD   \n",
       "LENOVO SLIM 7 GEN 6 (82K8002JIN)                  16 GB DDR4 RAM & 1 TB SSD   \n",
       "\n",
       "                                                                              Graphics_Processor  \\\n",
       "MSI TITAN GT77-12UHS                           16 GB DDR6 NVIDIA GeForce RTX 3080 Ti Graphics...   \n",
       "ALIENWARE X17 R2                               16 GB DDR6 NVIDIA GeForce RTX 3080 Ti, Graphic...   \n",
       "ACER PREDATOR TRITON 500 SE PT516-52S          8 GB DDR6 NVIDIA GeForce RTXTM 3070 Ti Graphic...   \n",
       "OMEN BY HP (16-B1371TX)                         8 GB GDDR6 NVIDIA GeForce RTX 3070 Graphics card   \n",
       "ACER PREDATOR HELIOS 300 AN515-45 (NH.QBRSI.0    8 GB DDR6 NVIDIA GeForce RTX 3070 Graphics card   \n",
       "MSI DELTA 15 (A5EFK-083IN)                          10 GB DDR6 AMD Radeon RX 6700M Graphics card   \n",
       "OMEN BY HP (16-C0141AX)                            8 GB GDDR6 AMD Radeon™ RX 6600M Graphics card   \n",
       "LENOVO LEGION 5I PRO (82RF00MGIN)                6 GB DDR6 NVIDIA GeForce RTX 3060 Graphics card   \n",
       "ALIENWARE M15 R5 RYZEN EDITION ICC-C780001WIN    6 GB DDR6 NVIDIA GeForce RTX 3060 Graphics card   \n",
       "LENOVO SLIM 7 GEN 6 (82K8002JIN)               6 GB DDR6 NVIDIA GeForce 3060 Max-Q Graphics card   \n",
       "\n",
       "                                                                                            Body  \n",
       "MSI TITAN GT77-12UHS                                 397 x 330 x 23 mm dimension & 3.3 kg weight  \n",
       "ALIENWARE X17 R2                               399.23 x 299.57 x 14.75 mm dimension & 3.02 kg...  \n",
       "ACER PREDATOR TRITON 500 SE PT516-52S              358 x 262 x 19.9 mm dimension & 2.4 kg weight  \n",
       "OMEN BY HP (16-B1371TX)                             369 x 248 x 23 mm dimension & 2.32 kg weight  \n",
       "ACER PREDATOR HELIOS 300 AN515-45 (NH.QBRSI.0      363 x 255 x 23.9 mm dimension & 2.4 kg weight  \n",
       "MSI DELTA 15 (A5EFK-083IN)                           357 x 247 x 19 mm dimension & 1.9 kg weight  \n",
       "OMEN BY HP (16-C0141AX)                          36.92 x 24.8 x 2.3 mm dimension & 2.3 kg weight  \n",
       "LENOVO LEGION 5I PRO (82RF00MGIN)              359.9 x 264.4 x 19.9 mm dimension & 2.5 kg weight  \n",
       "ALIENWARE M15 R5 RYZEN EDITION ICC-C780001WIN  356.2 x 272.5 x 22.85 mm dimension & 2.69 kg w...  \n",
       "LENOVO SLIM 7 GEN 6 (82K8002JIN)                     356 x 252 x 16 mm dimension & 1.9 kg weight  "
      ]
     },
     "execution_count": 214,
     "metadata": {},
     "output_type": "execute_result"
    }
   ],
   "source": [
    "gaming= pd.DataFrame({'Processor':Processor,'Display':Display,'OS':OS,'Memory':Memory, \n",
    "                      'Graphics_Processor':Graphics_Processor, 'Body':Body}, index= Laptop)\n",
    "gaming\n"
   ]
  },
  {
   "cell_type": "code",
   "execution_count": 216,
   "id": "35558374",
   "metadata": {},
   "outputs": [],
   "source": [
    "driver.close()\n",
    "\n",
    "#  Q-7. compelete"
   ]
  },
  {
   "cell_type": "code",
   "execution_count": null,
   "id": "bbdfe370",
   "metadata": {},
   "outputs": [],
   "source": []
  },
  {
   "cell_type": "code",
   "execution_count": null,
   "id": "a9d1570f",
   "metadata": {},
   "outputs": [],
   "source": []
  },
  {
   "cell_type": "raw",
   "id": "6e7926c2",
   "metadata": {},
   "source": [
    "Q-8. Write a python program to scrape the details for all billionaires from www.forbes.com. Details to be \n",
    "  scrapped: “Rank”, “Name”, “Net worth”, “Age”, “Citizenship”, “Source”, “Industry”.\n"
   ]
  },
  {
   "cell_type": "code",
   "execution_count": 92,
   "id": "2758a8fb",
   "metadata": {},
   "outputs": [],
   "source": [
    "driver8 = webdriver.Chrome(r'C:\\Users\\acer\\INTERNSHIP_WORSHEET\\chromedriver.exe')"
   ]
  },
  {
   "cell_type": "code",
   "execution_count": 96,
   "id": "39b6cd1f",
   "metadata": {},
   "outputs": [],
   "source": [
    "driver8.get('https://www.forbes.com/')"
   ]
  },
  {
   "cell_type": "code",
   "execution_count": 99,
   "id": "960978f5",
   "metadata": {},
   "outputs": [],
   "source": [
    "# click option for selecting billionaires\n",
    "\n",
    "driver8.find_element_by_xpath('/html/body/div[1]/header/nav/div[1]/button[1]').click()"
   ]
  },
  {
   "cell_type": "code",
   "execution_count": 104,
   "id": "91573cef",
   "metadata": {},
   "outputs": [],
   "source": [
    "# selecting billionaires option \n",
    "\n",
    "driver8.find_element_by_xpath('/html/body/div[1]/header/nav/div[3]/ul/li[1]').click()"
   ]
  },
  {
   "cell_type": "code",
   "execution_count": 105,
   "id": "73d26c24",
   "metadata": {},
   "outputs": [],
   "source": [
    "# selectiong world-bilionaires \n",
    "\n",
    "driver8.find_element_by_xpath('/html/body/div[1]/header/nav/div[3]/ul/li[1]/div[2]/ul/li[2]/a').click()"
   ]
  },
  {
   "cell_type": "code",
   "execution_count": 135,
   "id": "a4bb4dab",
   "metadata": {},
   "outputs": [],
   "source": [
    "# scrapping data of WORLD-BILLIONAIRES INFORMATION, eg- 'rank', 'name','age', 'country', 'source', 'industry', 'networth'\n",
    "    #\n",
    "b = driver8.find_elements_by_xpath('//div[@class= \"table-row expanded\"]')  # \n",
    "\n",
    "Rank = []\n",
    "Name = []\n",
    "NetWorth = []\n",
    "Age = []\n",
    "Country= []\n",
    "Source = []\n",
    "Industry = []\n",
    "\n",
    "for i in b:\n",
    "#    print(i.text.split('\\n')[0])\n",
    "    Rank.append(i.text.split('\\n')[0])\n",
    "#    print(i.text.split('\\n')[1])\n",
    "    Name.append(i.text.split('\\n')[1])\n",
    "#    print(i.text.split('\\n')[2])\n",
    "    NetWorth.append(i.text.split('\\n')[2])\n",
    "#    print(i.text.split('\\n')[3])\n",
    "    Age.append(i.text.split('\\n')[3])\n",
    "\n",
    "#    print(i.text.split('\\n')[4])\n",
    "    Country.append(i.text.split('\\n')[4])\n",
    "\n",
    "#    print(i.text.split('\\n')[5])\n",
    "    Source.append(i.text.split('\\n')[5])\n",
    "\n",
    "#    print(i.text.split('\\n')[6])\n",
    "    Industry.append(i.text.split('\\n')[6])"
   ]
  },
  {
   "cell_type": "code",
   "execution_count": 147,
   "id": "4192bd28",
   "metadata": {
    "scrolled": true
   },
   "outputs": [],
   "source": [
    "#  scrapping WORLD_BILLIONAIRES 'NAME', 'RANK', 'AGE',' COUNTRY','SOURCE', ..  DATA FROM WEB ELEMENTS\n",
    "\n",
    "r = driver8.find_elements_by_xpath('//div[@class= \"table-row \"]')  # \n",
    "\n",
    "for i in r:\n",
    "#    print(i.text.split('\\n')[6])\n",
    "    Rank.append(i.text.split('\\n')[0])   # world billionaires Rank \n",
    "    Name.append(i.text.split('\\n')[1])        # world  billionaires  name\n",
    "    \n",
    "    NetWorth.append(i.text.split('\\n')[2])\n",
    "    Age.append(i.text.split('\\n')[3])\n",
    "    Country.append(i.text.split('\\n')[4])\n",
    "    Source.append(i.text.split('\\n')[5])\n",
    "    Industry.append(i.text.split('\\n')[6])\n"
   ]
  },
  {
   "cell_type": "code",
   "execution_count": 150,
   "id": "630a06bb",
   "metadata": {},
   "outputs": [
    {
     "data": {
      "text/html": [
       "<div>\n",
       "<style scoped>\n",
       "    .dataframe tbody tr th:only-of-type {\n",
       "        vertical-align: middle;\n",
       "    }\n",
       "\n",
       "    .dataframe tbody tr th {\n",
       "        vertical-align: top;\n",
       "    }\n",
       "\n",
       "    .dataframe thead th {\n",
       "        text-align: right;\n",
       "    }\n",
       "</style>\n",
       "<table border=\"1\" class=\"dataframe\">\n",
       "  <thead>\n",
       "    <tr style=\"text-align: right;\">\n",
       "      <th></th>\n",
       "      <th>Rank</th>\n",
       "      <th>Namke</th>\n",
       "      <th>NetWorth</th>\n",
       "      <th>Age</th>\n",
       "      <th>Counrty</th>\n",
       "      <th>Source</th>\n",
       "      <th>Industry</th>\n",
       "    </tr>\n",
       "  </thead>\n",
       "  <tbody>\n",
       "    <tr>\n",
       "      <th>0</th>\n",
       "      <td>1.</td>\n",
       "      <td>Elon Musk</td>\n",
       "      <td>$219 B</td>\n",
       "      <td>50</td>\n",
       "      <td>United States</td>\n",
       "      <td>Tesla, SpaceX</td>\n",
       "      <td>Automotive</td>\n",
       "    </tr>\n",
       "    <tr>\n",
       "      <th>1</th>\n",
       "      <td>2.</td>\n",
       "      <td>Jeff Bezos</td>\n",
       "      <td>$171 B</td>\n",
       "      <td>58</td>\n",
       "      <td>United States</td>\n",
       "      <td>Amazon</td>\n",
       "      <td>Technology</td>\n",
       "    </tr>\n",
       "    <tr>\n",
       "      <th>2</th>\n",
       "      <td>3.</td>\n",
       "      <td>Bernard Arnault &amp; family</td>\n",
       "      <td>$158 B</td>\n",
       "      <td>73</td>\n",
       "      <td>France</td>\n",
       "      <td>LVMH</td>\n",
       "      <td>Fashion &amp; Retail</td>\n",
       "    </tr>\n",
       "    <tr>\n",
       "      <th>3</th>\n",
       "      <td>4.</td>\n",
       "      <td>Bill Gates</td>\n",
       "      <td>$129 B</td>\n",
       "      <td>66</td>\n",
       "      <td>United States</td>\n",
       "      <td>Microsoft</td>\n",
       "      <td>Technology</td>\n",
       "    </tr>\n",
       "    <tr>\n",
       "      <th>4</th>\n",
       "      <td>5.</td>\n",
       "      <td>Warren Buffett</td>\n",
       "      <td>$118 B</td>\n",
       "      <td>91</td>\n",
       "      <td>United States</td>\n",
       "      <td>Berkshire Hathaway</td>\n",
       "      <td>Finance &amp; Investments</td>\n",
       "    </tr>\n",
       "  </tbody>\n",
       "</table>\n",
       "</div>"
      ],
      "text/plain": [
       "  Rank                     Namke NetWorth Age        Counrty  \\\n",
       "0   1.                 Elon Musk   $219 B  50  United States   \n",
       "1   2.                Jeff Bezos   $171 B  58  United States   \n",
       "2   3.  Bernard Arnault & family   $158 B  73         France   \n",
       "3   4.                Bill Gates   $129 B  66  United States   \n",
       "4   5.            Warren Buffett   $118 B  91  United States   \n",
       "\n",
       "               Source               Industry  \n",
       "0       Tesla, SpaceX             Automotive  \n",
       "1              Amazon             Technology  \n",
       "2                LVMH       Fashion & Retail  \n",
       "3           Microsoft             Technology  \n",
       "4  Berkshire Hathaway  Finance & Investments  "
      ]
     },
     "execution_count": 150,
     "metadata": {},
     "output_type": "execute_result"
    }
   ],
   "source": [
    "world_billionaires= pd.DataFrame({'Rank':Rank,'Namke':Name,'NetWorth':NetWorth,'Age':Age,'Counrty':Country,'Source':Source,'Industry':Industry})\n",
    "\n",
    "world_billionaires.head()"
   ]
  },
  {
   "cell_type": "code",
   "execution_count": 151,
   "id": "e32fb74e",
   "metadata": {},
   "outputs": [],
   "source": [
    "driver8.close()\n",
    "\n",
    "#  Q-8. COMPELETE"
   ]
  },
  {
   "cell_type": "code",
   "execution_count": null,
   "id": "e36f0d77",
   "metadata": {},
   "outputs": [],
   "source": []
  },
  {
   "cell_type": "code",
   "execution_count": null,
   "id": "ed9379fe",
   "metadata": {},
   "outputs": [],
   "source": []
  },
  {
   "cell_type": "raw",
   "id": "19bab0ec",
   "metadata": {},
   "source": [
    "Q-9. Write a program to extract at least 500 Comments, Comment upvote and time when comment was posted \n",
    "    from any YouTube Video.\n"
   ]
  },
  {
   "cell_type": "code",
   "execution_count": 42,
   "id": "b46c3dd9",
   "metadata": {},
   "outputs": [],
   "source": [
    "driver9 = webdriver.Chrome(r'C:\\Users\\acer\\INTERNSHIP_WORSHEET\\chromedriver.exe')"
   ]
  },
  {
   "cell_type": "code",
   "execution_count": 43,
   "id": "803b60e1",
   "metadata": {},
   "outputs": [],
   "source": [
    "#\n",
    "driver9.get('https://www.youtube.com/')"
   ]
  },
  {
   "cell_type": "code",
   "execution_count": 44,
   "id": "1252e10a",
   "metadata": {},
   "outputs": [],
   "source": [
    "# selecting youtuve video \n",
    "\n",
    "driver9.find_element_by_xpath('/html/body/ytd-app/div[1]/ytd-page-manager/ytd-browse/ytd-two-column-browse-results-renderer/div[1]/ytd-rich-grid-renderer/div[6]/ytd-rich-grid-row[71]/div/ytd-rich-item-renderer[1]/div/ytd-rich-grid-media/div[1]/div[2]/div[1]/h3/a/yt-formatted-string').click()"
   ]
  },
  {
   "cell_type": "code",
   "execution_count": 72,
   "id": "f0560df9",
   "metadata": {},
   "outputs": [],
   "source": [
    "# scrapping  'TIME' When comment posted from youtube video\n",
    "\n",
    "t= driver9.find_elements_by_xpath('//a[@class= \"yt-simple-endpoint style-scope yt-formatted-string\"]')\n",
    "\n",
    "time= []\n",
    "for i in t:\n",
    "#    print(i.text.split('\\n'))\n",
    "    time.append(i.text.split('\\n'))\n",
    "    \n",
    "COMMENT_TIME= time[250:]"
   ]
  },
  {
   "cell_type": "code",
   "execution_count": 73,
   "id": "6dfa057a",
   "metadata": {},
   "outputs": [
    {
     "name": "stdout",
     "output_type": "stream",
     "text": [
      "770\n",
      "\n",
      "[['6 hours ago'], ['7 hours ago'], ['9 hours ago'], ['12 hours ago'], ['13 hours ago'], ['16 hours ago'], ['17 hours ago'], ['18 hours ago'], ['18 hours ago'], ['18 hours ago']]\n"
     ]
    }
   ],
   "source": [
    "print(len(COMMENT_TIME))\n",
    "print()\n",
    "print(COMMENT_TIME[0:10])"
   ]
  },
  {
   "cell_type": "code",
   "execution_count": 79,
   "id": "a48b6cb7",
   "metadata": {},
   "outputs": [],
   "source": [
    "#   scrapping COMMENT \n",
    "\n",
    "com = driver9.find_elements_by_xpath('//span[@class= \"style-scope yt-formatted-string\"]')\n",
    "\n",
    "comments= []\n",
    "for i in com:\n",
    "#    print(i.text.split('\\n'))\n",
    "    comments.append(i.text.split('\\n'))"
   ]
  },
  {
   "cell_type": "code",
   "execution_count": 91,
   "id": "44e1fb17",
   "metadata": {},
   "outputs": [
    {
     "name": "stdout",
     "output_type": "stream",
     "text": [
      "[['The trauma and agony of loosing someone like this is beyond anyone’s comprehension.'], [''], ['And the worst part of this feeling is… it gets even worse with each day..'], [''], [''], [''], [''], [''], [''], [''], ['Bro. '], ['So nice g '], ['Nice '], [' song '], ['Love song'], ['Love song'], ['12 saal ho gae usnu dekhe hoe...oh apni family ch hai te ma apni... '], [''], [''], ['But eh movie dekh k usdi yaad aa gai...poori raat neend nahi aai...roya v c..pata v nahi k oh kithe viahi hai....hun dil di icha hai k kadi te usnu mila apni family naal, usdi family nu...'], ['My'], ['Very very very very heart touching movie sabhi dekho bhai very heart touching '], [' '], ['️ '], ['️ '], [' '], [' '], [' '], [' very heart touching movie'], ['Loved this movie ']]\n"
     ]
    }
   ],
   "source": [
    "Comments= comments[70:]\n",
    "\n",
    "print(Comments[0:30])"
   ]
  },
  {
   "cell_type": "code",
   "execution_count": 152,
   "id": "73b754ad",
   "metadata": {},
   "outputs": [],
   "source": [
    "\n",
    "driver9.close()"
   ]
  },
  {
   "cell_type": "code",
   "execution_count": null,
   "id": "01839fbf",
   "metadata": {},
   "outputs": [],
   "source": []
  },
  {
   "cell_type": "code",
   "execution_count": null,
   "id": "e199abd8",
   "metadata": {},
   "outputs": [],
   "source": []
  },
  {
   "cell_type": "raw",
   "id": "bc95323a",
   "metadata": {},
   "source": [
    "Q-10.  Write a python program to scrape a data for all available Hostels from https://www.hostelworld.com/ in \n",
    "   “London” location. You have to scrape hostel name, distance from city centre, ratings, total reviews, \n",
    "   overall reviews, privates from price, dorms from price, facilities and property description."
   ]
  },
  {
   "cell_type": "code",
   "execution_count": 4,
   "id": "9ac4b5d6",
   "metadata": {},
   "outputs": [],
   "source": [
    "driver = webdriver.Chrome(r'C:\\Users\\acer\\INTERNSHIP_WORSHEET\\chromedriver.exe')"
   ]
  },
  {
   "cell_type": "code",
   "execution_count": 5,
   "id": "9bca4640",
   "metadata": {},
   "outputs": [],
   "source": [
    "driver.get('https://www.hostelworld.com/')"
   ]
  },
  {
   "cell_type": "code",
   "execution_count": null,
   "id": "5166fc24",
   "metadata": {},
   "outputs": [],
   "source": [
    "# https://www.hostelworld.com/"
   ]
  },
  {
   "cell_type": "code",
   "execution_count": 7,
   "id": "c87df26b",
   "metadata": {},
   "outputs": [],
   "source": [
    "# SEARCH LONDON LOCATION FOR 'HOSTEL' \n",
    "\n",
    "driver.find_element(By.CLASS_NAME,'search-input').send_keys('England')\n"
   ]
  },
  {
   "cell_type": "code",
   "execution_count": 8,
   "id": "ed559388",
   "metadata": {},
   "outputs": [],
   "source": [
    "# SELECT LONDON_ENGLAND LOCATION\n",
    "\n",
    "driver.find_element_by_xpath('/html/body/div[3]/div[2]/div/div[1]/div[1]/div/div[2]/div[4]/div/div[2]/div/div[1]/div/div/ul/li[2]/div').click()"
   ]
  },
  {
   "cell_type": "code",
   "execution_count": 9,
   "id": "e8dcb1a9",
   "metadata": {},
   "outputs": [],
   "source": [
    "#  NOW SEARCH LOCATION\n",
    "\n",
    "driver.find_element_by_xpath('/html/body/div[3]/div/div/div[1]/div[1]/div/div[2]/div[4]/div/div[2]/div/div[5]/button').click()"
   ]
  },
  {
   "cell_type": "code",
   "execution_count": 12,
   "id": "9a9da1a1",
   "metadata": {},
   "outputs": [
    {
     "data": {
      "text/plain": [
       "[\"St Christopher's Village\", 'Selina Camden', 'Palmers Lodge - Swiss Cottage']"
      ]
     },
     "execution_count": 12,
     "metadata": {},
     "output_type": "execute_result"
    }
   ],
   "source": [
    "# scraping HOSTEL'S NAME FROM WEB ELEMENTS\n",
    "\n",
    "hostel= driver.find_elements_by_xpath('//h2[@class= \"title title-6\"]')\n",
    "\n",
    "HOSTEL= []\n",
    "for i in hostel:\n",
    "#    print(i.text)\n",
    "    HOSTEL.append(i.text)\n",
    "HOSTEL[0:3]"
   ]
  },
  {
   "cell_type": "code",
   "execution_count": 36,
   "id": "d459b76d",
   "metadata": {},
   "outputs": [
    {
     "data": {
      "text/plain": [
       "['8.1', '8.6', '8.8', '9.1', '7.7']"
      ]
     },
     "execution_count": 36,
     "metadata": {},
     "output_type": "execute_result"
    }
   ],
   "source": [
    "#   scrapping  'RATING ' data from web elements\n",
    "\n",
    "rate= driver.find_elements_by_xpath('//div[@class= \"score orange big\"]')\n",
    "rating= []\n",
    "for i in rate:\n",
    "#    print(i.text)\n",
    "    rating.append(i.text)\n",
    "    \n",
    "rating[0:5]"
   ]
  },
  {
   "cell_type": "code",
   "execution_count": 37,
   "id": "060f3635",
   "metadata": {},
   "outputs": [
    {
     "data": {
      "text/plain": [
       "['Fabulous',\n",
       " 'Fabulous',\n",
       " 'Fabulous',\n",
       " 'Fabulous',\n",
       " 'Fabulous',\n",
       " 'Fabulous',\n",
       " 'Superb']"
      ]
     },
     "execution_count": 37,
     "metadata": {},
     "output_type": "execute_result"
    }
   ],
   "source": [
    "#  scrapping  data of  'OVERALL-REVIEWS' from  web elements\n",
    "\n",
    "overall= driver.find_elements_by_xpath('//div[@class= \"keyword\"]')\n",
    "\n",
    "overall_review= []\n",
    "for i in overall:\n",
    "#    print(i.text)\n",
    "    overall_review.append(i.text)\n",
    "    \n",
    "overall_review[0:7]"
   ]
  },
  {
   "cell_type": "code",
   "execution_count": 38,
   "id": "3215f25e",
   "metadata": {},
   "outputs": [
    {
     "data": {
      "text/plain": [
       "['11372 Total Reviews',\n",
       " '33 Total Reviews',\n",
       " '15463 Total Reviews',\n",
       " '13835 Total Reviews']"
      ]
     },
     "execution_count": 38,
     "metadata": {},
     "output_type": "execute_result"
    }
   ],
   "source": [
    "# scrapping  data of  'TOTAL RATING' from web elements\n",
    "\n",
    "total_R= driver.find_elements_by_xpath('//div[@class= \"reviews\"]')\n",
    "\n",
    "total_rating= []\n",
    "for i in total_R:\n",
    "#    print(i.text)\n",
    "    total_rating.append(i.text)\n",
    "total_rating[0:4]"
   ]
  },
  {
   "cell_type": "code",
   "execution_count": 69,
   "id": "e7e6d72d",
   "metadata": {},
   "outputs": [
    {
     "data": {
      "text/plain": [
       "['Rs2373.18 Rs2136', 'Rs34947', 'Rs10925.73 Rs9287']"
      ]
     },
     "execution_count": 69,
     "metadata": {},
     "output_type": "execute_result"
    }
   ],
   "source": [
    "# scraping data of private_from_price,   london's hostel\n",
    "\n",
    "private= driver.find_elements_by_xpath('//div[@class= \"price title-5\"]')\n",
    "\n",
    "\n",
    "private_from_price= []\n",
    "for i in private:\n",
    "#    print(i.text)\n",
    "    private_from_price.append(i.text)\n",
    "private_from_price[0:3]"
   ]
  },
  {
   "cell_type": "code",
   "execution_count": 71,
   "id": "619232b8",
   "metadata": {},
   "outputs": [
    {
     "data": {
      "text/plain": [
       "['Rs3217', 'Rs24035.98 Rs19950', 'Rs5021.87 Rs3766']"
      ]
     },
     "execution_count": 71,
     "metadata": {},
     "output_type": "execute_result"
    }
   ],
   "source": [
    "# scraping data of dorms_from_price  , london's hostel\n",
    "\n",
    "private= driver.find_elements_by_xpath('//div[@class= \"price title-5\"]')\n",
    "\n",
    "\n",
    "dorms_from_price= []\n",
    "for i in private:\n",
    "#    print(i.text)\n",
    "    dorms_from_price.append(i.text)\n",
    "dorms_from_price[3:6]"
   ]
  },
  {
   "cell_type": "code",
   "execution_count": 39,
   "id": "abe68d95",
   "metadata": {},
   "outputs": [
    {
     "name": "stdout",
     "output_type": "stream",
     "text": [
      "facilities_description\n",
      " [['Free WiFi', 'Follows Covid-19 sanitation guidance', 'Perfect Location', 'Superb Staff', 'Excellent Cleanliness'], ['Free WiFi', 'Perfect Location', 'Superb Staff', 'Fantastic Cleanliness', '8.6'], ['Free WiFi', 'Follows Covid-19 sanitation guidance', 'Perfect Location', 'Superb Staff', 'Fantastic Cleanliness']]\n",
      "\n",
      " distance_city_centre\n",
      " ['Hostel - 5.5km from city centre', 'Hostel - 6.5km from city centre', 'Hostel - 1.8km from city centre']\n"
     ]
    }
   ],
   "source": [
    "# scrapping data of 'facilities & description' from london's hostel\n",
    "#          scrapping 'distant_from_city-centre' data from web elements \n",
    "\n",
    "prop= driver.find_elements_by_xpath('//div[@class= \"property\"]')\n",
    "\n",
    "facilities_description= []\n",
    "f=[]\n",
    "\n",
    "distance_city_centre= []\n",
    "\n",
    "for i in prop:\n",
    "#    print(i.text.split('\\n'))\n",
    "    distance_city_centre.append(i.text.split('\\n')[1][0:31])\n",
    "    f.append(i.text.split('\\n')[2:7])\n",
    "    \n",
    "facilities_description= f[3:]\n",
    "print('facilities_description\\n',facilities_description[0:3])\n",
    "print('\\n distance_city_centre\\n', distance_city_centre[1:4])"
   ]
  },
  {
   "cell_type": "code",
   "execution_count": null,
   "id": "a04145bd",
   "metadata": {},
   "outputs": [],
   "source": []
  },
  {
   "cell_type": "raw",
   "id": "5474a29b",
   "metadata": {},
   "source": [
    "Q10. complete  'hotel name', 'rating', 'overall-reviews', 'total-reviews', 'propery-description', 'private price'\n",
    "                 'dorms from price', 'hotel distance from city centre'"
   ]
  },
  {
   "cell_type": "code",
   "execution_count": 40,
   "id": "ba34499a",
   "metadata": {},
   "outputs": [],
   "source": [
    "driver.close()"
   ]
  },
  {
   "cell_type": "code",
   "execution_count": null,
   "id": "bb3081d1",
   "metadata": {},
   "outputs": [],
   "source": []
  },
  {
   "cell_type": "code",
   "execution_count": null,
   "id": "919c1765",
   "metadata": {},
   "outputs": [],
   "source": []
  }
 ],
 "metadata": {
  "kernelspec": {
   "display_name": "Python 3 (ipykernel)",
   "language": "python",
   "name": "python3"
  },
  "language_info": {
   "codemirror_mode": {
    "name": "ipython",
    "version": 3
   },
   "file_extension": ".py",
   "mimetype": "text/x-python",
   "name": "python",
   "nbconvert_exporter": "python",
   "pygments_lexer": "ipython3",
   "version": "3.10.2"
  }
 },
 "nbformat": 4,
 "nbformat_minor": 5
}
