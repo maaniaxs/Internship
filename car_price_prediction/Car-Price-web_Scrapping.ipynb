{
 "cells": [
  {
   "cell_type": "code",
   "execution_count": null,
   "id": "7f621251",
   "metadata": {},
   "outputs": [],
   "source": []
  },
  {
   "cell_type": "code",
   "execution_count": 1,
   "id": "20ef7305",
   "metadata": {},
   "outputs": [],
   "source": [
    "#\n",
    "import selenium\n",
    "import pandas as pd\n",
    "from selenium import webdriver\n",
    "\n",
    "from selenium.webdriver.common.by import By\n",
    "from selenium.webdriver.common.keys import Keys\n",
    "import warnings\n",
    "warnings.filterwarnings('ignore')"
   ]
  },
  {
   "cell_type": "code",
   "execution_count": 2,
   "id": "610cb407",
   "metadata": {},
   "outputs": [],
   "source": [
    "import time"
   ]
  },
  {
   "cell_type": "code",
   "execution_count": 3,
   "id": "2f4febe2",
   "metadata": {},
   "outputs": [],
   "source": [
    "driver = webdriver.Chrome(r'C:\\Users\\acer\\INTERNSHIP_WORSHEET\\chromedriver.exe')"
   ]
  },
  {
   "cell_type": "code",
   "execution_count": 5,
   "id": "f9ddb6c1",
   "metadata": {},
   "outputs": [],
   "source": [
    "driver.get('https://www.cardekho.com/used-cars+in+new-delhi')\n",
    "time.sleep(4)"
   ]
  },
  {
   "cell_type": "code",
   "execution_count": 85,
   "id": "3718139c",
   "metadata": {},
   "outputs": [],
   "source": [
    "pric4= driver.find_elements(By.XPATH,'//div[@class= \"gsc_col-xs-7  carsName\"]//a')\n",
    "suv_name= []\n",
    "p=1\n",
    "if p <= 400:\n",
    "    for i in pric4:\n",
    "        suv_name.append(i.text)\n",
    "    p+=1\n",
    "time.sleep(10)"
   ]
  },
  {
   "cell_type": "code",
   "execution_count": 89,
   "id": "9ac05c52",
   "metadata": {
    "scrolled": true
   },
   "outputs": [],
   "source": [
    "pric = driver.find_elements(By.XPATH,'//div[@class= \"truncate dotlist-2\"]//div[1]')\n",
    "\n",
    "suv_dis = []\n",
    "p=1\n",
    "for i in pric:\n",
    "    if p <= 800:\n",
    "        suv_dis.append(i.text)\n",
    "    p+=1\n",
    "time.sleep(10)"
   ]
  },
  {
   "cell_type": "code",
   "execution_count": 95,
   "id": "0d9a43f1",
   "metadata": {},
   "outputs": [
    {
     "data": {
      "text/plain": [
       "800"
      ]
     },
     "execution_count": 95,
     "metadata": {},
     "output_type": "execute_result"
    }
   ],
   "source": []
  },
  {
   "cell_type": "code",
   "execution_count": 91,
   "id": "05f3d5b5",
   "metadata": {
    "scrolled": true
   },
   "outputs": [],
   "source": [
    "pric1 = driver.find_elements(By.XPATH,'//div[@class= \"truncate dotlist-2\"]//div[2]')\n",
    "\n",
    "suv_fuel = []\n",
    "p=1\n",
    "for i in pric1:\n",
    "    if p <= 800:\n",
    "        suv_fuel.append(i.text)\n",
    "    p+=1\n",
    "time.sleep(10)"
   ]
  },
  {
   "cell_type": "code",
   "execution_count": 94,
   "id": "7b2d7224",
   "metadata": {},
   "outputs": [],
   "source": [
    "pric2 = driver.find_elements(By.XPATH,'//div[@class= \"truncate dotlist-2\"]//div[3]')\n",
    "\n",
    "suv_type = []\n",
    "p=1\n",
    "for i in pric2:\n",
    "    if p <= 800:\n",
    "        suv_type.append(i.text)\n",
    "    p+=1\n",
    "time.sleep(10)"
   ]
  },
  {
   "cell_type": "code",
   "execution_count": 99,
   "id": "0783b69d",
   "metadata": {},
   "outputs": [],
   "source": [
    "pric5 = driver.find_elements(By.XPATH,'//div[@class= \"gsc_col-xs-7  carsName\"]//div[3]//span[2]')\n",
    "suv_price = []\n",
    "p=1\n",
    "for i in pric5:\n",
    "    if p <= 800:\n",
    "        suv_price.append(i.text)\n",
    "    p+=1\n",
    "time.sleep(10)"
   ]
  },
  {
   "cell_type": "code",
   "execution_count": 103,
   "id": "c20fe9ff",
   "metadata": {},
   "outputs": [],
   "source": [
    "suv_name1= suv_name[0:800]"
   ]
  },
  {
   "cell_type": "code",
   "execution_count": 117,
   "id": "e416b336",
   "metadata": {},
   "outputs": [],
   "source": [
    "\n",
    "\n",
    "sedan = []\n",
    "sedan_fuel= []\n",
    "sedan_type= []\n",
    "sedan_dis = []\n",
    "sedan_price= []\n",
    "\n",
    "\n",
    "s1 = driver.find_elements(By.XPATH,'//div[@class= \"gsc_col-xs-7  carsName\"]//a')\n",
    "for nam in s1:\n",
    "    sedan.append(nam.text)\n",
    "time.sleep(5) \n",
    "s2= driver.find_elements(By.XPATH,'//div[@class= \"truncate dotlist-2\"]//div[1]')\n",
    "for i2 in s2:\n",
    "    sedan_dis.append(i2.text)\n",
    "time.sleep(5)\n",
    "s3 = driver.find_elements(By.XPATH,'//div[@class= \"truncate dotlist-2\"]//div[2]')\n",
    "for i3 in s3:\n",
    "    sedan_fuel.append(i3.text)\n",
    "time.sleep(5)\n",
    "s4=  driver.find_elements(By.XPATH,'//div[@class= \"truncate dotlist-2\"]//div[3]')\n",
    "for typ in s4:\n",
    "    sedan_type.append(typ.text)\n",
    "time.sleep(5)\n",
    "s5= driver.find_elements(By.XPATH,'//div[@class= \"gsc_col-xs-7  carsName\"]//div[3]//span[2]')\n",
    "for pri in s5:\n",
    "    sedan_price.append(pri.text)\n",
    "time.sleep(5)"
   ]
  },
  {
   "cell_type": "code",
   "execution_count": 142,
   "id": "67d01083",
   "metadata": {},
   "outputs": [],
   "source": [
    "len(sedan_price)\n",
    "sedan_price1 = sedan_price[0:860]\n",
    "sedan_dis1 = sedan_dis[0:860]\n",
    "sedan_type1 = sedan_type[0:860]\n",
    "sedan_fuel1 = sedan_fuel[0:860]"
   ]
  },
  {
   "cell_type": "code",
   "execution_count": 148,
   "id": "86379c00",
   "metadata": {},
   "outputs": [
    {
     "data": {
      "text/plain": [
       "['4.18 Lakh', '8.33 Lakh', '5.34 Lakh']"
      ]
     },
     "execution_count": 148,
     "metadata": {},
     "output_type": "execute_result"
    }
   ],
   "source": [
    "sedan_price1[0:3]"
   ]
  },
  {
   "cell_type": "code",
   "execution_count": null,
   "id": "d24083df",
   "metadata": {},
   "outputs": [],
   "source": []
  },
  {
   "cell_type": "code",
   "execution_count": 152,
   "id": "507a8fdf",
   "metadata": {
    "collapsed": true
   },
   "outputs": [
    {
     "name": "stdout",
     "output_type": "stream",
     "text": [
      "2021 Mercedes-Benz AMG C 43\n",
      "2020 Mercedes-Benz AMG C 43\n",
      "2016 Ford Mustang\n",
      "2022 Mercedes-Benz GLC Coupe\n",
      "2015 BMW M Series\n",
      "2020 Mercedes-Benz C-Class\n",
      "2019 Ford Mustang\n",
      "2021 Mercedes-Benz GLC Coupe\n",
      "2014 BMW 6 Series\n",
      "2021 Porsche Cayenne Coupe\n",
      "2017 Ford Mustang\n",
      "2017 Porsche Cayman\n",
      "1,500 kms\n",
      "1,500 kms\n",
      "16,000 kms\n",
      "8,000 kms\n",
      "29,000 kms\n",
      "9,800 kms\n",
      "14,300 kms\n",
      "10,000 kms\n",
      "93,000 kms\n",
      "6,000 kms\n",
      "20,000 kms\n",
      "30,000 kms\n",
      "Petrol\n",
      "Petrol\n",
      "Petrol\n",
      "Diesel\n",
      "Petrol\n",
      "Petrol\n",
      "Petrol\n",
      "Diesel\n",
      "Diesel\n",
      "Petrol\n",
      "Petrol\n",
      "Petrol\n",
      "Automatic\n",
      "Automatic\n",
      "Automatic\n",
      "Automatic\n",
      "Automatic\n",
      "Automatic\n",
      "Automatic\n",
      "Automatic\n",
      "Automatic\n",
      "Automatic\n",
      "Automatic\n",
      "Manual\n",
      "79.00 Lakh\n",
      "79.00 Lakh\n",
      "68.50 Lakh\n",
      "77.00 Lakh\n",
      "64.90 Lakh\n",
      "69.00 Lakh\n",
      "67.00 Lakh\n",
      "77.00 Lakh\n",
      "24.50 Lakh\n",
      "1.67 Cr\n",
      "68.00 Lakh\n",
      "83.00 Lakh\n"
     ]
    }
   ],
   "source": [
    "#sedan = []\n",
    "#sedan_fuel= []\n",
    "#sedan_type= []\n",
    "#sedan_dis = []\n",
    "#sedan_price= []\n",
    "\n",
    "\n",
    "c1 = driver.find_elements(By.XPATH,'//div[@class= \"gsc_col-xs-7  carsName\"]//a')\n",
    "for nam in c1:\n",
    "    print(nam.text)\n",
    "time.sleep(5) \n",
    "c2= driver.find_elements(By.XPATH,'//div[@class= \"truncate dotlist-2\"]//div[1]')\n",
    "for i2 in c2:\n",
    "    print(i2.text)\n",
    "time.sleep(5)\n",
    "c3 = driver.find_elements(By.XPATH,'//div[@class= \"truncate dotlist-2\"]//div[2]')\n",
    "for i3 in c3:\n",
    "    print(i3.text)\n",
    "time.sleep(5)\n",
    "c4=  driver.find_elements(By.XPATH,'//div[@class= \"truncate dotlist-2\"]//div[3]')\n",
    "for typ in c4:\n",
    "    print(typ.text)\n",
    "time.sleep(5)\n",
    "c5= driver.find_elements(By.XPATH,'//div[@class= \"gsc_col-xs-7  carsName\"]//div[3]//span[2]')\n",
    "for pri in c5:\n",
    "    print(pri.text)\n",
    "time.sleep(5)"
   ]
  },
  {
   "cell_type": "code",
   "execution_count": null,
   "id": "4be7a78a",
   "metadata": {},
   "outputs": [],
   "source": []
  },
  {
   "cell_type": "code",
   "execution_count": null,
   "id": "40851cb2",
   "metadata": {},
   "outputs": [],
   "source": []
  },
  {
   "cell_type": "code",
   "execution_count": 156,
   "id": "36303ce6",
   "metadata": {},
   "outputs": [],
   "source": [
    "muv_name = []\n",
    "muv_fuel= []\n",
    "muv_type= []\n",
    "muv_dis = []\n",
    "muv_price= []\n",
    "\n",
    "\n",
    "M1 = driver.find_elements(By.XPATH,'//div[@class= \"gsc_col-xs-7  carsName\"]//a')\n",
    "for nam in M1:\n",
    "    muv_name.append(nam.text)\n",
    "time.sleep(5) \n",
    "M2= driver.find_elements(By.XPATH,'//div[@class= \"truncate dotlist-2\"]//div[1]')\n",
    "for dis in M2:\n",
    "    muv_dis.append(dis.text)\n",
    "time.sleep(5)\n",
    "M3 = driver.find_elements(By.XPATH,'//div[@class= \"truncate dotlist-2\"]//div[2]')\n",
    "for i3 in M3:\n",
    "    muv_fuel.append(i3.text)\n",
    "time.sleep(5)\n",
    "M4=  driver.find_elements(By.XPATH,'//div[@class= \"truncate dotlist-2\"]//div[3]')\n",
    "for typ in M4:\n",
    "    muv_type.append(typ.text)\n",
    "time.sleep(5)\n",
    "M5= driver.find_elements(By.XPATH,'//div[@class= \"gsc_col-xs-7  carsName\"]//div[3]//span[2]')\n",
    "for pri in M5:\n",
    "    muv_price.append(pri.text)\n",
    "time.sleep(5)"
   ]
  },
  {
   "cell_type": "code",
   "execution_count": 160,
   "id": "055caaf4",
   "metadata": {},
   "outputs": [
    {
     "data": {
      "text/plain": [
       "155"
      ]
     },
     "execution_count": 160,
     "metadata": {},
     "output_type": "execute_result"
    }
   ],
   "source": [
    "len(muv_type)"
   ]
  },
  {
   "cell_type": "code",
   "execution_count": null,
   "id": "02c98e33",
   "metadata": {},
   "outputs": [],
   "source": []
  },
  {
   "cell_type": "code",
   "execution_count": 171,
   "id": "6d1e9388",
   "metadata": {},
   "outputs": [],
   "source": [
    "hb_name = []\n",
    "hb_fuel= []\n",
    "hb_type= []\n",
    "hb_dis = []\n",
    "hb_price= []\n",
    "\n",
    "\n",
    "H1 = driver.find_elements(By.XPATH,'//div[@class= \"gsc_col-xs-7  carsName\"]//a')\n",
    "for nam in H1:\n",
    "    hb_name.append(nam.text)\n",
    "time.sleep(5) \n",
    "H2= driver.find_elements(By.XPATH,'//div[@class= \"truncate dotlist-2\"]//div[1]')\n",
    "for dis in H2:\n",
    "    hb_dis.append(dis.text)\n",
    "time.sleep(5)\n",
    "H3 = driver.find_elements(By.XPATH,'//div[@class= \"truncate dotlist-2\"]//div[2]')\n",
    "for i3 in H3:\n",
    "    hb_fuel.append(i3.text)\n",
    "time.sleep(5)\n",
    "H4=  driver.find_elements(By.XPATH,'//div[@class= \"truncate dotlist-2\"]//div[3]')\n",
    "for typ in H4:\n",
    "    hb_type.append(typ.text)\n",
    "time.sleep(5)\n",
    "H5= driver.find_elements(By.XPATH,'//div[@class= \"gsc_col-xs-7  carsName\"]//div[3]//span[2]')\n",
    "for pri in H5:\n",
    "    hb_price.append(pri.text)\n",
    "time.sleep(5)"
   ]
  },
  {
   "cell_type": "code",
   "execution_count": 174,
   "id": "82e21979",
   "metadata": {},
   "outputs": [
    {
     "data": {
      "text/plain": [
       "945"
      ]
     },
     "execution_count": 174,
     "metadata": {},
     "output_type": "execute_result"
    }
   ],
   "source": [
    "len(hb_fuel)"
   ]
  },
  {
   "cell_type": "code",
   "execution_count": 184,
   "id": "76386d6e",
   "metadata": {},
   "outputs": [],
   "source": [
    "hbb_name = []\n",
    "hbb_fuel= []\n",
    "hbb_type= []\n",
    "hbb_dis = []\n",
    "hbb_price= []\n",
    "\n",
    "\n",
    "B1 = driver.find_elements(By.XPATH,'//div[@class= \"gsc_col-xs-7  carsName\"]//a')\n",
    "for nam in B1:\n",
    "    hbb_name.append(nam.text)\n",
    "time.sleep(5) \n",
    "B2= driver.find_elements(By.XPATH,'//div[@class= \"truncate dotlist-2\"]//div[1]')\n",
    "for dis in B2:\n",
    "    hbb_dis.append(dis.text)\n",
    "time.sleep(5)\n",
    "B3 = driver.find_elements(By.XPATH,'//div[@class= \"truncate dotlist-2\"]//div[2]')\n",
    "for i3 in B3:\n",
    "    hbb_fuel.append(i3.text)\n",
    "time.sleep(5)\n",
    "B4=  driver.find_elements(By.XPATH,'//div[@class= \"truncate dotlist-2\"]//div[3]')\n",
    "for typ in B4:\n",
    "    hbb_type.append(typ.text)\n",
    "time.sleep(5)\n",
    "B5= driver.find_elements(By.XPATH,'//div[@class= \"gsc_col-xs-7  carsName\"]//div[3]//span[2]')\n",
    "for pri in B5:\n",
    "    hbb_price.append(pri.text)\n",
    "time.sleep(5)"
   ]
  },
  {
   "cell_type": "code",
   "execution_count": 188,
   "id": "a414fb1f",
   "metadata": {},
   "outputs": [
    {
     "data": {
      "text/plain": [
       "576"
      ]
     },
     "execution_count": 188,
     "metadata": {},
     "output_type": "execute_result"
    }
   ],
   "source": [
    "len(hbb_dis)"
   ]
  },
  {
   "cell_type": "code",
   "execution_count": 197,
   "id": "04ee2ed8",
   "metadata": {},
   "outputs": [],
   "source": [
    "df_hb_B =pd.DataFrame({'car_name':hbb_name,'distanced':hbb_dis,'fuel':hbb_fuel,'type':hbb_type, 'price':hbb_price})"
   ]
  },
  {
   "cell_type": "code",
   "execution_count": 214,
   "id": "430a4690",
   "metadata": {},
   "outputs": [
    {
     "data": {
      "text/plain": [
       "(576, 6)"
      ]
     },
     "execution_count": 214,
     "metadata": {},
     "output_type": "execute_result"
    }
   ],
   "source": [
    "df_hb_B.shape"
   ]
  },
  {
   "cell_type": "code",
   "execution_count": 201,
   "id": "30236a72",
   "metadata": {},
   "outputs": [],
   "source": [
    "df_hb_B.to_csv('Hatchback_Banglore.csv', index=False)\n"
   ]
  },
  {
   "cell_type": "code",
   "execution_count": 196,
   "id": "f555b93b",
   "metadata": {},
   "outputs": [],
   "source": [
    "suvb_name = []\n",
    "suvb_fuel= []\n",
    "suvb_type= []\n",
    "suvb_dis = []\n",
    "suvb_price= []\n",
    "\n",
    "\n",
    "SB1 = driver.find_elements(By.XPATH,'//div[@class= \"gsc_col-xs-7  carsName\"]//a')\n",
    "for nam in SB1:\n",
    "    suvb_name.append(nam.text)\n",
    "time.sleep(5) \n",
    "SB2= driver.find_elements(By.XPATH,'//div[@class= \"truncate dotlist-2\"]//div[1]')\n",
    "for dis in SB2:\n",
    "    suvb_dis.append(dis.text)\n",
    "time.sleep(5)\n",
    "SB3 = driver.find_elements(By.XPATH,'//div[@class= \"truncate dotlist-2\"]//div[2]')\n",
    "for i3 in SB3:\n",
    "    suvb_fuel.append(i3.text)\n",
    "time.sleep(5)\n",
    "SB4=  driver.find_elements(By.XPATH,'//div[@class= \"truncate dotlist-2\"]//div[3]')\n",
    "for typ in SB4:\n",
    "    suvb_type.append(typ.text)\n",
    "time.sleep(5)\n",
    "SB5= driver.find_elements(By.XPATH,'//div[@class= \"gsc_col-xs-7  carsName\"]//div[3]//span[2]')\n",
    "for pri in SB5:\n",
    "    suvb_price.append(pri.text)\n",
    "time.sleep(5)"
   ]
  },
  {
   "cell_type": "code",
   "execution_count": 204,
   "id": "a3f4c2f7",
   "metadata": {},
   "outputs": [
    {
     "data": {
      "text/plain": [
       "537"
      ]
     },
     "execution_count": 204,
     "metadata": {},
     "output_type": "execute_result"
    }
   ],
   "source": [
    "len(suvb_fuel)"
   ]
  },
  {
   "cell_type": "code",
   "execution_count": 262,
   "id": "799eaf20",
   "metadata": {},
   "outputs": [],
   "source": [
    "sa_name = []\n",
    "sa_fuel= []\n",
    "sa_type= []\n",
    "sa_dis = []\n",
    "sa_price= []\n",
    "\n",
    "\n",
    "SB1 = driver.find_elements(By.XPATH,'//div[@class= \"gsc_col-xs-7  carsName\"]//a')\n",
    "for nam in SB1:\n",
    "    sa_name.append(nam.text)\n",
    "time.sleep(5) \n",
    "SB2= driver.find_elements(By.XPATH,'//div[@class= \"truncate dotlist-2\"]//div[1]')\n",
    "for dis in SB2:\n",
    "    sa_dis.append(dis.text)\n",
    "time.sleep(5)\n",
    "SB3 = driver.find_elements(By.XPATH,'//div[@class= \"truncate dotlist-2\"]//div[2]')\n",
    "for i3 in SB3:\n",
    "    sa_fuel.append(i3.text)\n",
    "time.sleep(5)\n",
    "SB4=  driver.find_elements(By.XPATH,'//div[@class= \"truncate dotlist-2\"]//div[3]')\n",
    "for typ in SB4:\n",
    "    sa_type.append(typ.text)\n",
    "time.sleep(5)\n",
    "SB5= driver.find_elements(By.XPATH,'//div[@class= \"gsc_col-xs-7  carsName\"]//div[3]//span[2]')\n",
    "for pri in SB5:\n",
    "    sa_price.append(pri.text)\n",
    "time.sleep(5)"
   ]
  },
  {
   "cell_type": "code",
   "execution_count": 264,
   "id": "c63dcc4d",
   "metadata": {},
   "outputs": [
    {
     "data": {
      "text/plain": [
       "325"
      ]
     },
     "execution_count": 264,
     "metadata": {},
     "output_type": "execute_result"
    }
   ],
   "source": [
    "len(sa_price)"
   ]
  },
  {
   "cell_type": "code",
   "execution_count": 265,
   "id": "bf09e79e",
   "metadata": {},
   "outputs": [],
   "source": [
    "Sedan_Pune =pd.DataFrame({'car_name':sa_name,'distanced':sa_dis,'fuel':sa_fuel,'type':sa_type, 'price':sa_price})"
   ]
  },
  {
   "cell_type": "code",
   "execution_count": 268,
   "id": "cb8570f9",
   "metadata": {},
   "outputs": [
    {
     "data": {
      "text/plain": [
       "(325, 6)"
      ]
     },
     "execution_count": 268,
     "metadata": {},
     "output_type": "execute_result"
    }
   ],
   "source": [
    "Sedan_Pune.shape"
   ]
  },
  {
   "cell_type": "code",
   "execution_count": 269,
   "id": "7556c691",
   "metadata": {},
   "outputs": [],
   "source": [
    "Sedan_Pune.to_csv('Sedan_Pune.csv', index=False)\n"
   ]
  },
  {
   "cell_type": "code",
   "execution_count": null,
   "id": "01bf3cb9",
   "metadata": {},
   "outputs": [],
   "source": []
  },
  {
   "cell_type": "code",
   "execution_count": 255,
   "id": "145128c5",
   "metadata": {},
   "outputs": [],
   "source": [
    "Suv_Pune =pd.DataFrame({'car_name':sa_name,'distanced':sa_dis,'fuel':sa_fuel,'type':sa_type, 'price':sa_price})"
   ]
  },
  {
   "cell_type": "code",
   "execution_count": 258,
   "id": "b4a15cd3",
   "metadata": {},
   "outputs": [
    {
     "data": {
      "text/plain": [
       "(200, 6)"
      ]
     },
     "execution_count": 258,
     "metadata": {},
     "output_type": "execute_result"
    }
   ],
   "source": [
    "Suv_Pune.shape"
   ]
  },
  {
   "cell_type": "code",
   "execution_count": 259,
   "id": "ee668d07",
   "metadata": {},
   "outputs": [],
   "source": [
    "Suv_Pune.to_csv('SUV_Pune.csv', index=False)\n"
   ]
  },
  {
   "cell_type": "code",
   "execution_count": 246,
   "id": "06d93bda",
   "metadata": {},
   "outputs": [],
   "source": [
    "Suv_Ahemdabad =pd.DataFrame({'car_name':sa_name,'distanced':sa_dis,'fuel':sa_fuel,'type':sa_type, 'price':sa_price})"
   ]
  },
  {
   "cell_type": "code",
   "execution_count": 249,
   "id": "5a525dfa",
   "metadata": {},
   "outputs": [
    {
     "data": {
      "text/plain": [
       "(216, 6)"
      ]
     },
     "execution_count": 249,
     "metadata": {},
     "output_type": "execute_result"
    }
   ],
   "source": [
    "Suv_Ahemdabad.shape"
   ]
  },
  {
   "cell_type": "code",
   "execution_count": 250,
   "id": "fa1c0710",
   "metadata": {},
   "outputs": [],
   "source": [
    "Suv_Ahemdabad.to_csv('SUV_Ahemdabad.csv', index=False)\n"
   ]
  },
  {
   "cell_type": "code",
   "execution_count": 235,
   "id": "f86593a6",
   "metadata": {},
   "outputs": [],
   "source": [
    "sedan_Ahemdabad =pd.DataFrame({'car_name':sa_name,'distanced':sa_dis,'fuel':sa_fuel,'type':sa_type, 'price':sa_price})"
   ]
  },
  {
   "cell_type": "code",
   "execution_count": 239,
   "id": "ca804576",
   "metadata": {},
   "outputs": [
    {
     "data": {
      "text/plain": [
       "(274, 6)"
      ]
     },
     "execution_count": 239,
     "metadata": {},
     "output_type": "execute_result"
    }
   ],
   "source": [
    "sedan_Ahemdabad.shape"
   ]
  },
  {
   "cell_type": "code",
   "execution_count": 240,
   "id": "33b34b55",
   "metadata": {},
   "outputs": [],
   "source": [
    "sedan_Ahemdabad.to_csv('sedan_Ahemdabad.csv', index=False)\n"
   ]
  },
  {
   "cell_type": "code",
   "execution_count": 225,
   "id": "639ee2f2",
   "metadata": {},
   "outputs": [],
   "source": [
    "sedan_banglore =pd.DataFrame({'car_name':sedB_name,'distanced':sedB_dis,'fuel':sedB_fuel,'type':sedB_type, 'price':sedB_price})"
   ]
  },
  {
   "cell_type": "code",
   "execution_count": 230,
   "id": "dd09b4de",
   "metadata": {},
   "outputs": [
    {
     "data": {
      "text/plain": [
       "(471, 6)"
      ]
     },
     "execution_count": 230,
     "metadata": {},
     "output_type": "execute_result"
    }
   ],
   "source": [
    "sedan_banglore.shape"
   ]
  },
  {
   "cell_type": "code",
   "execution_count": 229,
   "id": "30fef3c8",
   "metadata": {},
   "outputs": [],
   "source": [
    "sedan_banglore.to_csv('Sedan_Banglore.csv', index=False)"
   ]
  },
  {
   "cell_type": "code",
   "execution_count": 205,
   "id": "92c9e1ad",
   "metadata": {},
   "outputs": [],
   "source": [
    "suv_banglore =pd.DataFrame({'car_name':suvb_name,'distanced':suvb_dis,'fuel':suvb_fuel,'type':suvb_type, 'price':suvb_price})"
   ]
  },
  {
   "cell_type": "code",
   "execution_count": 208,
   "id": "3ed03574",
   "metadata": {},
   "outputs": [],
   "source": [
    "suv_banglore.to_csv('SUV_Banglore.csv', index=False)"
   ]
  },
  {
   "cell_type": "code",
   "execution_count": 213,
   "id": "570ae2c1",
   "metadata": {},
   "outputs": [
    {
     "data": {
      "text/plain": [
       "(537, 6)"
      ]
     },
     "execution_count": 213,
     "metadata": {},
     "output_type": "execute_result"
    }
   ],
   "source": [
    "suv_banglore.shape"
   ]
  },
  {
   "cell_type": "code",
   "execution_count": 175,
   "id": "189d27a1",
   "metadata": {},
   "outputs": [],
   "source": [
    "df_hb =pd.DataFrame({'car_name':hb_name,'distanced':hb_dis,'fuel':hb_fuel,'type':hb_type, 'price':hb_price})"
   ]
  },
  {
   "cell_type": "code",
   "execution_count": 212,
   "id": "38c729a2",
   "metadata": {},
   "outputs": [
    {
     "data": {
      "text/plain": [
       "(945, 6)"
      ]
     },
     "execution_count": 212,
     "metadata": {},
     "output_type": "execute_result"
    }
   ],
   "source": [
    "df_hb.shape"
   ]
  },
  {
   "cell_type": "code",
   "execution_count": 181,
   "id": "642ff457",
   "metadata": {},
   "outputs": [],
   "source": [
    "df_hb.to_csv('Hatchback.csv', index=False)"
   ]
  },
  {
   "cell_type": "code",
   "execution_count": 161,
   "id": "1686ded7",
   "metadata": {},
   "outputs": [],
   "source": [
    "df_muv =pd.DataFrame({'car_name':muv_name,'distanced':muv_dis,'fuel':muv_fuel,'type':muv_type, 'price':muv_price})"
   ]
  },
  {
   "cell_type": "code",
   "execution_count": 211,
   "id": "6c39b7ba",
   "metadata": {},
   "outputs": [
    {
     "data": {
      "text/plain": [
       "(155, 6)"
      ]
     },
     "execution_count": 211,
     "metadata": {},
     "output_type": "execute_result"
    }
   ],
   "source": [
    "df_muv.shape"
   ]
  },
  {
   "cell_type": "code",
   "execution_count": 167,
   "id": "c5b93d51",
   "metadata": {},
   "outputs": [],
   "source": [
    "df_muv.to_csv('MUV.csv', index=False)"
   ]
  },
  {
   "cell_type": "code",
   "execution_count": 149,
   "id": "97ec8243",
   "metadata": {},
   "outputs": [],
   "source": [
    "df_sedan =pd.DataFrame({'car_name':sedan,'distanced':sedan_dis1,'fuel':sedan_fuel1,'type':sedan_type1, 'price':sedan_price1})"
   ]
  },
  {
   "cell_type": "code",
   "execution_count": 168,
   "id": "e3fa8bb5",
   "metadata": {},
   "outputs": [],
   "source": [
    "df_sedan.to_csv('Sedan.csv',index=False)"
   ]
  },
  {
   "cell_type": "code",
   "execution_count": 210,
   "id": "42eba791",
   "metadata": {},
   "outputs": [
    {
     "data": {
      "text/plain": [
       "(860, 6)"
      ]
     },
     "execution_count": 210,
     "metadata": {},
     "output_type": "execute_result"
    }
   ],
   "source": [
    "df_sedan.shape"
   ]
  },
  {
   "cell_type": "code",
   "execution_count": 127,
   "id": "a2cd3368",
   "metadata": {},
   "outputs": [],
   "source": [
    "df_suv =pd.DataFrame({'car_name':suv_name1,'distanced':suv_dis,'fuel':suv_fuel,'type':suv_type, 'price':suv_price})"
   ]
  },
  {
   "cell_type": "code",
   "execution_count": 209,
   "id": "65feca4a",
   "metadata": {},
   "outputs": [
    {
     "data": {
      "text/plain": [
       "(800, 6)"
      ]
     },
     "execution_count": 209,
     "metadata": {},
     "output_type": "execute_result"
    }
   ],
   "source": [
    "df_suv.shape"
   ]
  },
  {
   "cell_type": "code",
   "execution_count": 169,
   "id": "daa6a41c",
   "metadata": {},
   "outputs": [],
   "source": [
    "df_suv.to_csv('SUV.csv', index=False)"
   ]
  },
  {
   "cell_type": "code",
   "execution_count": 131,
   "id": "f0041ebf",
   "metadata": {},
   "outputs": [
    {
     "data": {
      "text/html": [
       "<div>\n",
       "<style scoped>\n",
       "    .dataframe tbody tr th:only-of-type {\n",
       "        vertical-align: middle;\n",
       "    }\n",
       "\n",
       "    .dataframe tbody tr th {\n",
       "        vertical-align: top;\n",
       "    }\n",
       "\n",
       "    .dataframe thead th {\n",
       "        text-align: right;\n",
       "    }\n",
       "</style>\n",
       "<table border=\"1\" class=\"dataframe\">\n",
       "  <thead>\n",
       "    <tr style=\"text-align: right;\">\n",
       "      <th></th>\n",
       "      <th>car_name</th>\n",
       "      <th>distanced</th>\n",
       "      <th>fuel</th>\n",
       "      <th>type</th>\n",
       "      <th>price</th>\n",
       "      <th>body</th>\n",
       "    </tr>\n",
       "  </thead>\n",
       "  <tbody>\n",
       "    <tr>\n",
       "      <th>0</th>\n",
       "      <td>2018 Renault Captur</td>\n",
       "      <td>15,769 kms</td>\n",
       "      <td>Petrol</td>\n",
       "      <td>Manual</td>\n",
       "      <td>7.59 Lakh</td>\n",
       "      <td>suv</td>\n",
       "    </tr>\n",
       "    <tr>\n",
       "      <th>1</th>\n",
       "      <td>2021 Tata Nexon</td>\n",
       "      <td>34,960 kms</td>\n",
       "      <td>Diesel</td>\n",
       "      <td>Automatic</td>\n",
       "      <td>12.17 Lakh</td>\n",
       "      <td>suv</td>\n",
       "    </tr>\n",
       "    <tr>\n",
       "      <th>2</th>\n",
       "      <td>2016 Hyundai Creta</td>\n",
       "      <td>42,940 kms</td>\n",
       "      <td>Petrol</td>\n",
       "      <td>Manual</td>\n",
       "      <td>9.21 Lakh</td>\n",
       "      <td>suv</td>\n",
       "    </tr>\n",
       "    <tr>\n",
       "      <th>3</th>\n",
       "      <td>2018 Honda WR-V</td>\n",
       "      <td>30,135 kms</td>\n",
       "      <td>Petrol</td>\n",
       "      <td>Manual</td>\n",
       "      <td>7.87 Lakh</td>\n",
       "      <td>suv</td>\n",
       "    </tr>\n",
       "    <tr>\n",
       "      <th>4</th>\n",
       "      <td>2021 Tata Nexon</td>\n",
       "      <td>15,277 kms</td>\n",
       "      <td>Petrol</td>\n",
       "      <td>Manual</td>\n",
       "      <td>10.38 Lakh</td>\n",
       "      <td>suv</td>\n",
       "    </tr>\n",
       "    <tr>\n",
       "      <th>...</th>\n",
       "      <td>...</td>\n",
       "      <td>...</td>\n",
       "      <td>...</td>\n",
       "      <td>...</td>\n",
       "      <td>...</td>\n",
       "      <td>...</td>\n",
       "    </tr>\n",
       "    <tr>\n",
       "      <th>795</th>\n",
       "      <td>2014 Hyundai Santa Fe</td>\n",
       "      <td>1,05,000 kms</td>\n",
       "      <td>Diesel</td>\n",
       "      <td>Automatic</td>\n",
       "      <td>8.00 Lakh</td>\n",
       "      <td>suv</td>\n",
       "    </tr>\n",
       "    <tr>\n",
       "      <th>796</th>\n",
       "      <td>2018 Ford Endeavour</td>\n",
       "      <td>59,000 kms</td>\n",
       "      <td>Diesel</td>\n",
       "      <td>Automatic</td>\n",
       "      <td>29.75 Lakh</td>\n",
       "      <td>suv</td>\n",
       "    </tr>\n",
       "    <tr>\n",
       "      <th>797</th>\n",
       "      <td>2015 Audi Q3</td>\n",
       "      <td>30,000 kms</td>\n",
       "      <td>Diesel</td>\n",
       "      <td>Automatic</td>\n",
       "      <td>17.50 Lakh</td>\n",
       "      <td>suv</td>\n",
       "    </tr>\n",
       "    <tr>\n",
       "      <th>798</th>\n",
       "      <td>2021 Mahindra XUV500</td>\n",
       "      <td>9,900 kms</td>\n",
       "      <td>Diesel</td>\n",
       "      <td>Manual</td>\n",
       "      <td>15.95 Lakh</td>\n",
       "      <td>suv</td>\n",
       "    </tr>\n",
       "    <tr>\n",
       "      <th>799</th>\n",
       "      <td>2017 Mahindra XUV500</td>\n",
       "      <td>49,000 kms</td>\n",
       "      <td>Diesel</td>\n",
       "      <td>Manual</td>\n",
       "      <td>10.35 Lakh</td>\n",
       "      <td>suv</td>\n",
       "    </tr>\n",
       "  </tbody>\n",
       "</table>\n",
       "<p>800 rows × 6 columns</p>\n",
       "</div>"
      ],
      "text/plain": [
       "                  car_name     distanced    fuel       type       price body\n",
       "0      2018 Renault Captur    15,769 kms  Petrol     Manual   7.59 Lakh  suv\n",
       "1          2021 Tata Nexon    34,960 kms  Diesel  Automatic  12.17 Lakh  suv\n",
       "2       2016 Hyundai Creta    42,940 kms  Petrol     Manual   9.21 Lakh  suv\n",
       "3          2018 Honda WR-V    30,135 kms  Petrol     Manual   7.87 Lakh  suv\n",
       "4          2021 Tata Nexon    15,277 kms  Petrol     Manual  10.38 Lakh  suv\n",
       "..                     ...           ...     ...        ...         ...  ...\n",
       "795  2014 Hyundai Santa Fe  1,05,000 kms  Diesel  Automatic   8.00 Lakh  suv\n",
       "796    2018 Ford Endeavour    59,000 kms  Diesel  Automatic  29.75 Lakh  suv\n",
       "797           2015 Audi Q3    30,000 kms  Diesel  Automatic  17.50 Lakh  suv\n",
       "798   2021 Mahindra XUV500     9,900 kms  Diesel     Manual  15.95 Lakh  suv\n",
       "799   2017 Mahindra XUV500    49,000 kms  Diesel     Manual  10.35 Lakh  suv\n",
       "\n",
       "[800 rows x 6 columns]"
      ]
     },
     "execution_count": 131,
     "metadata": {},
     "output_type": "execute_result"
    }
   ],
   "source": [
    "df_suv"
   ]
  },
  {
   "cell_type": "code",
   "execution_count": null,
   "id": "ab707227",
   "metadata": {},
   "outputs": [],
   "source": []
  }
 ],
 "metadata": {
  "kernelspec": {
   "display_name": "Python 3 (ipykernel)",
   "language": "python",
   "name": "python3"
  },
  "language_info": {
   "codemirror_mode": {
    "name": "ipython",
    "version": 3
   },
   "file_extension": ".py",
   "mimetype": "text/x-python",
   "name": "python",
   "nbconvert_exporter": "python",
   "pygments_lexer": "ipython3",
   "version": "3.10.2"
  }
 },
 "nbformat": 4,
 "nbformat_minor": 5
}
