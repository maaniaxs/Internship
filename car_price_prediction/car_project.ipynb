{
 "cells": [
  {
   "cell_type": "code",
   "execution_count": null,
   "id": "3352026c",
   "metadata": {},
   "outputs": [],
   "source": []
  },
  {
   "cell_type": "code",
   "execution_count": null,
   "id": "195b096a",
   "metadata": {},
   "outputs": [],
   "source": []
  },
  {
   "cell_type": "code",
   "execution_count": 142,
   "id": "5c1d749b",
   "metadata": {},
   "outputs": [],
   "source": [
    "import pandas as pd\n",
    "import numpy as np\n",
    "import matplotlib.pyplot as plt\n",
    "import seaborn as sns\n"
   ]
  },
  {
   "cell_type": "raw",
   "id": "21b8d94d",
   "metadata": {},
   "source": [
    "\n",
    "##   LET'S START DATA CLEANING PART\n"
   ]
  },
  {
   "cell_type": "code",
   "execution_count": 154,
   "id": "677f5129",
   "metadata": {},
   "outputs": [],
   "source": [
    "car_1= pd.read_csv('delhi_car.csv')       #we load the webscraping data "
   ]
  },
  {
   "cell_type": "code",
   "execution_count": 155,
   "id": "d2fb1480",
   "metadata": {},
   "outputs": [],
   "source": [
    "car_2= pd.read_csv('other_car.csv')"
   ]
  },
  {
   "cell_type": "code",
   "execution_count": null,
   "id": "a4ff5368",
   "metadata": {},
   "outputs": [],
   "source": []
  },
  {
   "cell_type": "code",
   "execution_count": 145,
   "id": "cf4a5652",
   "metadata": {},
   "outputs": [
    {
     "data": {
      "text/html": [
       "<div>\n",
       "<style scoped>\n",
       "    .dataframe tbody tr th:only-of-type {\n",
       "        vertical-align: middle;\n",
       "    }\n",
       "\n",
       "    .dataframe tbody tr th {\n",
       "        vertical-align: top;\n",
       "    }\n",
       "\n",
       "    .dataframe thead th {\n",
       "        text-align: right;\n",
       "    }\n",
       "</style>\n",
       "<table border=\"1\" class=\"dataframe\">\n",
       "  <thead>\n",
       "    <tr style=\"text-align: right;\">\n",
       "      <th></th>\n",
       "      <th>car_name</th>\n",
       "      <th>distanced</th>\n",
       "      <th>fuel</th>\n",
       "      <th>type</th>\n",
       "      <th>price</th>\n",
       "      <th>body</th>\n",
       "    </tr>\n",
       "  </thead>\n",
       "  <tbody>\n",
       "    <tr>\n",
       "      <th>0</th>\n",
       "      <td>2018 Renault Captur</td>\n",
       "      <td>15,769 kms</td>\n",
       "      <td>Petrol</td>\n",
       "      <td>Manual</td>\n",
       "      <td>7.59 Lakh</td>\n",
       "      <td>suv</td>\n",
       "    </tr>\n",
       "    <tr>\n",
       "      <th>1</th>\n",
       "      <td>2021 Tata Nexon</td>\n",
       "      <td>34,960 kms</td>\n",
       "      <td>Diesel</td>\n",
       "      <td>Automatic</td>\n",
       "      <td>12.17 Lakh</td>\n",
       "      <td>suv</td>\n",
       "    </tr>\n",
       "    <tr>\n",
       "      <th>2</th>\n",
       "      <td>2016 Hyundai Creta</td>\n",
       "      <td>42,940 kms</td>\n",
       "      <td>Petrol</td>\n",
       "      <td>Manual</td>\n",
       "      <td>9.21 Lakh</td>\n",
       "      <td>suv</td>\n",
       "    </tr>\n",
       "    <tr>\n",
       "      <th>3</th>\n",
       "      <td>2018 Honda WR-V</td>\n",
       "      <td>30,135 kms</td>\n",
       "      <td>Petrol</td>\n",
       "      <td>Manual</td>\n",
       "      <td>7.87 Lakh</td>\n",
       "      <td>suv</td>\n",
       "    </tr>\n",
       "    <tr>\n",
       "      <th>4</th>\n",
       "      <td>2021 Tata Nexon</td>\n",
       "      <td>15,277 kms</td>\n",
       "      <td>Petrol</td>\n",
       "      <td>Manual</td>\n",
       "      <td>10.38 Lakh</td>\n",
       "      <td>suv</td>\n",
       "    </tr>\n",
       "  </tbody>\n",
       "</table>\n",
       "</div>"
      ],
      "text/plain": [
       "              car_name   distanced    fuel       type       price body\n",
       "0  2018 Renault Captur  15,769 kms  Petrol     Manual   7.59 Lakh  suv\n",
       "1      2021 Tata Nexon  34,960 kms  Diesel  Automatic  12.17 Lakh  suv\n",
       "2   2016 Hyundai Creta  42,940 kms  Petrol     Manual   9.21 Lakh  suv\n",
       "3      2018 Honda WR-V  30,135 kms  Petrol     Manual   7.87 Lakh  suv\n",
       "4      2021 Tata Nexon  15,277 kms  Petrol     Manual  10.38 Lakh  suv"
      ]
     },
     "execution_count": 145,
     "metadata": {},
     "output_type": "execute_result"
    }
   ],
   "source": [
    "car_1.head()"
   ]
  },
  {
   "cell_type": "code",
   "execution_count": 158,
   "id": "d877dd00",
   "metadata": {},
   "outputs": [
    {
     "data": {
      "text/html": [
       "<div>\n",
       "<style scoped>\n",
       "    .dataframe tbody tr th:only-of-type {\n",
       "        vertical-align: middle;\n",
       "    }\n",
       "\n",
       "    .dataframe tbody tr th {\n",
       "        vertical-align: top;\n",
       "    }\n",
       "\n",
       "    .dataframe thead th {\n",
       "        text-align: right;\n",
       "    }\n",
       "</style>\n",
       "<table border=\"1\" class=\"dataframe\">\n",
       "  <thead>\n",
       "    <tr style=\"text-align: right;\">\n",
       "      <th></th>\n",
       "      <th>car_name</th>\n",
       "      <th>distanced</th>\n",
       "      <th>fuel</th>\n",
       "      <th>type</th>\n",
       "      <th>price</th>\n",
       "      <th>body</th>\n",
       "    </tr>\n",
       "  </thead>\n",
       "  <tbody>\n",
       "    <tr>\n",
       "      <th>0</th>\n",
       "      <td>2017 Jeep Compass</td>\n",
       "      <td>58,463 kms</td>\n",
       "      <td>Diesel</td>\n",
       "      <td>Manual</td>\n",
       "      <td>12.30 Lakh</td>\n",
       "      <td>SUV</td>\n",
       "    </tr>\n",
       "    <tr>\n",
       "      <th>1</th>\n",
       "      <td>2015 Mahindra XUV500</td>\n",
       "      <td>90,281 kms</td>\n",
       "      <td>Diesel</td>\n",
       "      <td>Manual</td>\n",
       "      <td>8.20 Lakh</td>\n",
       "      <td>SUV</td>\n",
       "    </tr>\n",
       "    <tr>\n",
       "      <th>2</th>\n",
       "      <td>2017 Renault Duster</td>\n",
       "      <td>31,525 kms</td>\n",
       "      <td>Petrol</td>\n",
       "      <td>Automatic</td>\n",
       "      <td>7.53 Lakh</td>\n",
       "      <td>SUV</td>\n",
       "    </tr>\n",
       "    <tr>\n",
       "      <th>3</th>\n",
       "      <td>2019 Jeep Compass</td>\n",
       "      <td>15,414 kms</td>\n",
       "      <td>Diesel</td>\n",
       "      <td>Manual</td>\n",
       "      <td>15.78 Lakh</td>\n",
       "      <td>SUV</td>\n",
       "    </tr>\n",
       "    <tr>\n",
       "      <th>4</th>\n",
       "      <td>2018 Renault Duster</td>\n",
       "      <td>33,139 kms</td>\n",
       "      <td>Petrol</td>\n",
       "      <td>Automatic</td>\n",
       "      <td>7.11 Lakh</td>\n",
       "      <td>SUV</td>\n",
       "    </tr>\n",
       "  </tbody>\n",
       "</table>\n",
       "</div>"
      ],
      "text/plain": [
       "               car_name   distanced    fuel       type       price body\n",
       "0     2017 Jeep Compass  58,463 kms  Diesel     Manual  12.30 Lakh  SUV\n",
       "1  2015 Mahindra XUV500  90,281 kms  Diesel     Manual   8.20 Lakh  SUV\n",
       "2   2017 Renault Duster  31,525 kms  Petrol  Automatic   7.53 Lakh  SUV\n",
       "3     2019 Jeep Compass  15,414 kms  Diesel     Manual  15.78 Lakh  SUV\n",
       "4   2018 Renault Duster  33,139 kms  Petrol  Automatic   7.11 Lakh  SUV"
      ]
     },
     "execution_count": 158,
     "metadata": {},
     "output_type": "execute_result"
    }
   ],
   "source": [
    "\n",
    "\n",
    "car_2.head()"
   ]
  },
  {
   "cell_type": "code",
   "execution_count": 159,
   "id": "c221cdcd",
   "metadata": {},
   "outputs": [
    {
     "name": "stdout",
     "output_type": "stream",
     "text": [
      "(2760, 6)\n",
      "(2599, 6)\n"
     ]
    }
   ],
   "source": [
    "\n",
    "\n",
    "print(car_1.shape)\n",
    "print(car_2.shape)"
   ]
  },
  {
   "cell_type": "code",
   "execution_count": 160,
   "id": "c8b169ac",
   "metadata": {},
   "outputs": [],
   "source": [
    "\n",
    "car_data = pd.concat([car_1, car_2], axis=0, ignore_index=True)"
   ]
  },
  {
   "cell_type": "code",
   "execution_count": 162,
   "id": "fa8321a3",
   "metadata": {},
   "outputs": [
    {
     "data": {
      "text/html": [
       "<div>\n",
       "<style scoped>\n",
       "    .dataframe tbody tr th:only-of-type {\n",
       "        vertical-align: middle;\n",
       "    }\n",
       "\n",
       "    .dataframe tbody tr th {\n",
       "        vertical-align: top;\n",
       "    }\n",
       "\n",
       "    .dataframe thead th {\n",
       "        text-align: right;\n",
       "    }\n",
       "</style>\n",
       "<table border=\"1\" class=\"dataframe\">\n",
       "  <thead>\n",
       "    <tr style=\"text-align: right;\">\n",
       "      <th></th>\n",
       "      <th>car_name</th>\n",
       "      <th>distanced</th>\n",
       "      <th>fuel</th>\n",
       "      <th>type</th>\n",
       "      <th>price</th>\n",
       "      <th>body</th>\n",
       "    </tr>\n",
       "  </thead>\n",
       "  <tbody>\n",
       "    <tr>\n",
       "      <th>5354</th>\n",
       "      <td>2012 Fiat Linea</td>\n",
       "      <td>75,000 kms</td>\n",
       "      <td>Diesel</td>\n",
       "      <td>Manual</td>\n",
       "      <td>2.80 Lakh</td>\n",
       "      <td>Sedan</td>\n",
       "    </tr>\n",
       "    <tr>\n",
       "      <th>5355</th>\n",
       "      <td>2016 Maruti Swift Dzire</td>\n",
       "      <td>1,10,000 kms</td>\n",
       "      <td>Diesel</td>\n",
       "      <td>Manual</td>\n",
       "      <td>4.84 Lakh</td>\n",
       "      <td>Sedan</td>\n",
       "    </tr>\n",
       "    <tr>\n",
       "      <th>5356</th>\n",
       "      <td>2013 BMW 7 Series</td>\n",
       "      <td>45,700 kms</td>\n",
       "      <td>Diesel</td>\n",
       "      <td>Automatic</td>\n",
       "      <td>31.00 Lakh</td>\n",
       "      <td>Sedan</td>\n",
       "    </tr>\n",
       "    <tr>\n",
       "      <th>5357</th>\n",
       "      <td>2013 Volkswagen Vento</td>\n",
       "      <td>55,000 kms</td>\n",
       "      <td>Diesel</td>\n",
       "      <td>Automatic</td>\n",
       "      <td>5.00 Lakh</td>\n",
       "      <td>Sedan</td>\n",
       "    </tr>\n",
       "    <tr>\n",
       "      <th>5358</th>\n",
       "      <td>2019 Toyota Yaris</td>\n",
       "      <td>10,000 kms</td>\n",
       "      <td>Petrol</td>\n",
       "      <td>Automatic</td>\n",
       "      <td>9.25 Lakh</td>\n",
       "      <td>Sedan</td>\n",
       "    </tr>\n",
       "  </tbody>\n",
       "</table>\n",
       "</div>"
      ],
      "text/plain": [
       "                     car_name     distanced    fuel       type       price  \\\n",
       "5354          2012 Fiat Linea    75,000 kms  Diesel     Manual   2.80 Lakh   \n",
       "5355  2016 Maruti Swift Dzire  1,10,000 kms  Diesel     Manual   4.84 Lakh   \n",
       "5356        2013 BMW 7 Series    45,700 kms  Diesel  Automatic  31.00 Lakh   \n",
       "5357    2013 Volkswagen Vento    55,000 kms  Diesel  Automatic   5.00 Lakh   \n",
       "5358        2019 Toyota Yaris    10,000 kms  Petrol  Automatic   9.25 Lakh   \n",
       "\n",
       "       body  \n",
       "5354  Sedan  \n",
       "5355  Sedan  \n",
       "5356  Sedan  \n",
       "5357  Sedan  \n",
       "5358  Sedan  "
      ]
     },
     "execution_count": 162,
     "metadata": {},
     "output_type": "execute_result"
    }
   ],
   "source": [
    "car_data.tail()"
   ]
  },
  {
   "cell_type": "code",
   "execution_count": null,
   "id": "620d497e",
   "metadata": {},
   "outputs": [],
   "source": []
  },
  {
   "cell_type": "code",
   "execution_count": 163,
   "id": "86a44e14",
   "metadata": {},
   "outputs": [],
   "source": [
    "\n",
    "year=[]\n",
    "for i in car_data['car_name']:\n",
    "#    print(i.split()[0])\n",
    "    year.append(i.split()[0])"
   ]
  },
  {
   "cell_type": "code",
   "execution_count": 164,
   "id": "cb664234",
   "metadata": {},
   "outputs": [],
   "source": [
    "car_brand = []\n",
    "for i in car_data['car_name']:\n",
    "\n",
    "    if 'Land' and 'Rover' not in i:\n",
    "        car_brand.append(i.split()[1])\n",
    "    if 'Land' and 'Rover' in i:\n",
    "        car_brand.append('-'.join(i.split()[1:3]))"
   ]
  },
  {
   "cell_type": "code",
   "execution_count": 165,
   "id": "7f75d4c3",
   "metadata": {},
   "outputs": [],
   "source": [
    "\n",
    "model=[]\n",
    "for n in car_data['car_name']:\n",
    "\n",
    "    if len(n.split()[2:])>=1 and 'Land' and 'Rover' not in n:\n",
    "        model.append('-'.join(n.split()[2:]))\n",
    "    if len(n.split()[3:])>=1 and 'Land' and 'Rover' in n:\n",
    "        model.append('-'.join(n.split()[3:]))"
   ]
  },
  {
   "cell_type": "code",
   "execution_count": 166,
   "id": "1ea23dbe",
   "metadata": {},
   "outputs": [],
   "source": [
    "\n",
    "car_data['model']= model\n",
    "car_data['year'] = year\n",
    "car_data['car_brand'] = car_brand"
   ]
  },
  {
   "cell_type": "code",
   "execution_count": 168,
   "id": "7d4941b1",
   "metadata": {},
   "outputs": [
    {
     "data": {
      "text/html": [
       "<div>\n",
       "<style scoped>\n",
       "    .dataframe tbody tr th:only-of-type {\n",
       "        vertical-align: middle;\n",
       "    }\n",
       "\n",
       "    .dataframe tbody tr th {\n",
       "        vertical-align: top;\n",
       "    }\n",
       "\n",
       "    .dataframe thead th {\n",
       "        text-align: right;\n",
       "    }\n",
       "</style>\n",
       "<table border=\"1\" class=\"dataframe\">\n",
       "  <thead>\n",
       "    <tr style=\"text-align: right;\">\n",
       "      <th></th>\n",
       "      <th>car_name</th>\n",
       "      <th>distanced</th>\n",
       "      <th>fuel</th>\n",
       "      <th>type</th>\n",
       "      <th>price</th>\n",
       "      <th>body</th>\n",
       "      <th>model</th>\n",
       "      <th>year</th>\n",
       "      <th>car_brand</th>\n",
       "    </tr>\n",
       "  </thead>\n",
       "  <tbody>\n",
       "    <tr>\n",
       "      <th>0</th>\n",
       "      <td>2018 Renault Captur</td>\n",
       "      <td>15,769 kms</td>\n",
       "      <td>Petrol</td>\n",
       "      <td>Manual</td>\n",
       "      <td>7.59 Lakh</td>\n",
       "      <td>suv</td>\n",
       "      <td>Captur</td>\n",
       "      <td>2018</td>\n",
       "      <td>Renault</td>\n",
       "    </tr>\n",
       "    <tr>\n",
       "      <th>1</th>\n",
       "      <td>2021 Tata Nexon</td>\n",
       "      <td>34,960 kms</td>\n",
       "      <td>Diesel</td>\n",
       "      <td>Automatic</td>\n",
       "      <td>12.17 Lakh</td>\n",
       "      <td>suv</td>\n",
       "      <td>Nexon</td>\n",
       "      <td>2021</td>\n",
       "      <td>Tata</td>\n",
       "    </tr>\n",
       "    <tr>\n",
       "      <th>2</th>\n",
       "      <td>2016 Hyundai Creta</td>\n",
       "      <td>42,940 kms</td>\n",
       "      <td>Petrol</td>\n",
       "      <td>Manual</td>\n",
       "      <td>9.21 Lakh</td>\n",
       "      <td>suv</td>\n",
       "      <td>Creta</td>\n",
       "      <td>2016</td>\n",
       "      <td>Hyundai</td>\n",
       "    </tr>\n",
       "    <tr>\n",
       "      <th>3</th>\n",
       "      <td>2018 Honda WR-V</td>\n",
       "      <td>30,135 kms</td>\n",
       "      <td>Petrol</td>\n",
       "      <td>Manual</td>\n",
       "      <td>7.87 Lakh</td>\n",
       "      <td>suv</td>\n",
       "      <td>WR-V</td>\n",
       "      <td>2018</td>\n",
       "      <td>Honda</td>\n",
       "    </tr>\n",
       "    <tr>\n",
       "      <th>4</th>\n",
       "      <td>2021 Tata Nexon</td>\n",
       "      <td>15,277 kms</td>\n",
       "      <td>Petrol</td>\n",
       "      <td>Manual</td>\n",
       "      <td>10.38 Lakh</td>\n",
       "      <td>suv</td>\n",
       "      <td>Nexon</td>\n",
       "      <td>2021</td>\n",
       "      <td>Tata</td>\n",
       "    </tr>\n",
       "  </tbody>\n",
       "</table>\n",
       "</div>"
      ],
      "text/plain": [
       "              car_name   distanced    fuel       type       price body  \\\n",
       "0  2018 Renault Captur  15,769 kms  Petrol     Manual   7.59 Lakh  suv   \n",
       "1      2021 Tata Nexon  34,960 kms  Diesel  Automatic  12.17 Lakh  suv   \n",
       "2   2016 Hyundai Creta  42,940 kms  Petrol     Manual   9.21 Lakh  suv   \n",
       "3      2018 Honda WR-V  30,135 kms  Petrol     Manual   7.87 Lakh  suv   \n",
       "4      2021 Tata Nexon  15,277 kms  Petrol     Manual  10.38 Lakh  suv   \n",
       "\n",
       "    model  year car_brand  \n",
       "0  Captur  2018   Renault  \n",
       "1   Nexon  2021      Tata  \n",
       "2   Creta  2016   Hyundai  \n",
       "3    WR-V  2018     Honda  \n",
       "4   Nexon  2021      Tata  "
      ]
     },
     "execution_count": 168,
     "metadata": {},
     "output_type": "execute_result"
    }
   ],
   "source": [
    "\n",
    "car_data.head()"
   ]
  },
  {
   "cell_type": "code",
   "execution_count": 203,
   "id": "a3747fae",
   "metadata": {},
   "outputs": [
    {
     "data": {
      "text/html": [
       "<div>\n",
       "<style scoped>\n",
       "    .dataframe tbody tr th:only-of-type {\n",
       "        vertical-align: middle;\n",
       "    }\n",
       "\n",
       "    .dataframe tbody tr th {\n",
       "        vertical-align: top;\n",
       "    }\n",
       "\n",
       "    .dataframe thead th {\n",
       "        text-align: right;\n",
       "    }\n",
       "</style>\n",
       "<table border=\"1\" class=\"dataframe\">\n",
       "  <thead>\n",
       "    <tr style=\"text-align: right;\">\n",
       "      <th></th>\n",
       "      <th>car_name</th>\n",
       "      <th>distanced</th>\n",
       "      <th>fuel</th>\n",
       "      <th>type</th>\n",
       "      <th>price</th>\n",
       "      <th>body</th>\n",
       "      <th>model</th>\n",
       "      <th>year</th>\n",
       "      <th>car_brand</th>\n",
       "    </tr>\n",
       "  </thead>\n",
       "  <tbody>\n",
       "    <tr>\n",
       "      <th>4578</th>\n",
       "      <td>2010 Rolls-Royce Ghost</td>\n",
       "      <td>28,000 kms</td>\n",
       "      <td>Petrol</td>\n",
       "      <td>Automatic</td>\n",
       "      <td>1.80 Cr</td>\n",
       "      <td>Sedan</td>\n",
       "      <td>Ghost</td>\n",
       "      <td>2010</td>\n",
       "      <td>Rolls-Royce</td>\n",
       "    </tr>\n",
       "  </tbody>\n",
       "</table>\n",
       "</div>"
      ],
      "text/plain": [
       "                    car_name   distanced    fuel       type    price   body  \\\n",
       "4578  2010 Rolls-Royce Ghost  28,000 kms  Petrol  Automatic  1.80 Cr  Sedan   \n",
       "\n",
       "      model  year    car_brand  \n",
       "4578  Ghost  2010  Rolls-Royce  "
      ]
     },
     "execution_count": 203,
     "metadata": {},
     "output_type": "execute_result"
    }
   ],
   "source": [
    "\n",
    "car_data[car_data['model']=='Ghost']   # we have to changed the price(crore) value into lakh "
   ]
  },
  {
   "cell_type": "code",
   "execution_count": 205,
   "id": "8fda414f",
   "metadata": {},
   "outputs": [],
   "source": [
    "price= []\n",
    "for n in car_data['price'].str.split():\n",
    "    if 'Lakh' in n:\n",
    "        price.append(n[0])\n",
    "    if len(n)==1 :\n",
    "        price.append(n[0])\n",
    "    if 'Cr' in n :\n",
    "        price.append(float(n[0])*100)"
   ]
  },
  {
   "cell_type": "code",
   "execution_count": 206,
   "id": "f845a328",
   "metadata": {},
   "outputs": [],
   "source": [
    "car_data['price']= price"
   ]
  },
  {
   "cell_type": "code",
   "execution_count": 207,
   "id": "4c40f917",
   "metadata": {},
   "outputs": [
    {
     "data": {
      "text/html": [
       "<div>\n",
       "<style scoped>\n",
       "    .dataframe tbody tr th:only-of-type {\n",
       "        vertical-align: middle;\n",
       "    }\n",
       "\n",
       "    .dataframe tbody tr th {\n",
       "        vertical-align: top;\n",
       "    }\n",
       "\n",
       "    .dataframe thead th {\n",
       "        text-align: right;\n",
       "    }\n",
       "</style>\n",
       "<table border=\"1\" class=\"dataframe\">\n",
       "  <thead>\n",
       "    <tr style=\"text-align: right;\">\n",
       "      <th></th>\n",
       "      <th>car_name</th>\n",
       "      <th>distanced</th>\n",
       "      <th>fuel</th>\n",
       "      <th>type</th>\n",
       "      <th>price</th>\n",
       "      <th>body</th>\n",
       "      <th>model</th>\n",
       "      <th>year</th>\n",
       "      <th>car_brand</th>\n",
       "    </tr>\n",
       "  </thead>\n",
       "  <tbody>\n",
       "    <tr>\n",
       "      <th>4578</th>\n",
       "      <td>2010 Rolls-Royce Ghost</td>\n",
       "      <td>28,000 kms</td>\n",
       "      <td>Petrol</td>\n",
       "      <td>Automatic</td>\n",
       "      <td>180.0</td>\n",
       "      <td>Sedan</td>\n",
       "      <td>Ghost</td>\n",
       "      <td>2010</td>\n",
       "      <td>Rolls-Royce</td>\n",
       "    </tr>\n",
       "  </tbody>\n",
       "</table>\n",
       "</div>"
      ],
      "text/plain": [
       "                    car_name   distanced    fuel       type  price   body  \\\n",
       "4578  2010 Rolls-Royce Ghost  28,000 kms  Petrol  Automatic  180.0  Sedan   \n",
       "\n",
       "      model  year    car_brand  \n",
       "4578  Ghost  2010  Rolls-Royce  "
      ]
     },
     "execution_count": 207,
     "metadata": {},
     "output_type": "execute_result"
    }
   ],
   "source": [
    "car_data[car_data['model']=='Ghost']    # price which value in crore converrt into lakh  "
   ]
  },
  {
   "cell_type": "code",
   "execution_count": null,
   "id": "510efdd7",
   "metadata": {},
   "outputs": [],
   "source": []
  },
  {
   "cell_type": "code",
   "execution_count": 211,
   "id": "6c3f68c3",
   "metadata": {},
   "outputs": [
    {
     "data": {
      "text/plain": [
       "5359"
      ]
     },
     "execution_count": 211,
     "metadata": {},
     "output_type": "execute_result"
    }
   ],
   "source": [
    "kilometer= []\n",
    "for i in car_data['distanced']:         # \n",
    "#    print(i.split()[0])\n",
    "    kilometer.append(i.split()[0])\n",
    "len(kilometer)"
   ]
  },
  {
   "cell_type": "code",
   "execution_count": 213,
   "id": "5b2015b3",
   "metadata": {},
   "outputs": [],
   "source": [
    "car_data['kilometer']= kilometer"
   ]
  },
  {
   "cell_type": "code",
   "execution_count": null,
   "id": "f8bb6524",
   "metadata": {},
   "outputs": [],
   "source": []
  },
  {
   "cell_type": "code",
   "execution_count": 216,
   "id": "294d4f02",
   "metadata": {},
   "outputs": [],
   "source": [
    "### we removed ' , ' from kilometer column  , \n",
    "km= []\n",
    "for i in car_data['kilometer'].str.split(','):\n",
    "    if len(i)>=2:\n",
    "        km.append(i[0]+i[1])\n",
    "    if len(i)==1:\n",
    "        km.append(i[0])"
   ]
  },
  {
   "cell_type": "code",
   "execution_count": 218,
   "id": "e3d7f9fd",
   "metadata": {},
   "outputs": [],
   "source": [
    "car_data['kilometer']= km"
   ]
  },
  {
   "cell_type": "code",
   "execution_count": 219,
   "id": "215bdc3e",
   "metadata": {},
   "outputs": [
    {
     "data": {
      "text/html": [
       "<div>\n",
       "<style scoped>\n",
       "    .dataframe tbody tr th:only-of-type {\n",
       "        vertical-align: middle;\n",
       "    }\n",
       "\n",
       "    .dataframe tbody tr th {\n",
       "        vertical-align: top;\n",
       "    }\n",
       "\n",
       "    .dataframe thead th {\n",
       "        text-align: right;\n",
       "    }\n",
       "</style>\n",
       "<table border=\"1\" class=\"dataframe\">\n",
       "  <thead>\n",
       "    <tr style=\"text-align: right;\">\n",
       "      <th></th>\n",
       "      <th>car_name</th>\n",
       "      <th>distanced</th>\n",
       "      <th>fuel</th>\n",
       "      <th>type</th>\n",
       "      <th>price</th>\n",
       "      <th>body</th>\n",
       "      <th>model</th>\n",
       "      <th>year</th>\n",
       "      <th>car_brand</th>\n",
       "      <th>kilometer</th>\n",
       "    </tr>\n",
       "  </thead>\n",
       "  <tbody>\n",
       "    <tr>\n",
       "      <th>0</th>\n",
       "      <td>2018 Renault Captur</td>\n",
       "      <td>15,769 kms</td>\n",
       "      <td>Petrol</td>\n",
       "      <td>Manual</td>\n",
       "      <td>7.59</td>\n",
       "      <td>suv</td>\n",
       "      <td>Captur</td>\n",
       "      <td>2018</td>\n",
       "      <td>Renault</td>\n",
       "      <td>15769</td>\n",
       "    </tr>\n",
       "    <tr>\n",
       "      <th>1</th>\n",
       "      <td>2021 Tata Nexon</td>\n",
       "      <td>34,960 kms</td>\n",
       "      <td>Diesel</td>\n",
       "      <td>Automatic</td>\n",
       "      <td>12.17</td>\n",
       "      <td>suv</td>\n",
       "      <td>Nexon</td>\n",
       "      <td>2021</td>\n",
       "      <td>Tata</td>\n",
       "      <td>34960</td>\n",
       "    </tr>\n",
       "    <tr>\n",
       "      <th>2</th>\n",
       "      <td>2016 Hyundai Creta</td>\n",
       "      <td>42,940 kms</td>\n",
       "      <td>Petrol</td>\n",
       "      <td>Manual</td>\n",
       "      <td>9.21</td>\n",
       "      <td>suv</td>\n",
       "      <td>Creta</td>\n",
       "      <td>2016</td>\n",
       "      <td>Hyundai</td>\n",
       "      <td>42940</td>\n",
       "    </tr>\n",
       "    <tr>\n",
       "      <th>3</th>\n",
       "      <td>2018 Honda WR-V</td>\n",
       "      <td>30,135 kms</td>\n",
       "      <td>Petrol</td>\n",
       "      <td>Manual</td>\n",
       "      <td>7.87</td>\n",
       "      <td>suv</td>\n",
       "      <td>WR-V</td>\n",
       "      <td>2018</td>\n",
       "      <td>Honda</td>\n",
       "      <td>30135</td>\n",
       "    </tr>\n",
       "    <tr>\n",
       "      <th>4</th>\n",
       "      <td>2021 Tata Nexon</td>\n",
       "      <td>15,277 kms</td>\n",
       "      <td>Petrol</td>\n",
       "      <td>Manual</td>\n",
       "      <td>10.38</td>\n",
       "      <td>suv</td>\n",
       "      <td>Nexon</td>\n",
       "      <td>2021</td>\n",
       "      <td>Tata</td>\n",
       "      <td>15277</td>\n",
       "    </tr>\n",
       "  </tbody>\n",
       "</table>\n",
       "</div>"
      ],
      "text/plain": [
       "              car_name   distanced    fuel       type  price body   model  \\\n",
       "0  2018 Renault Captur  15,769 kms  Petrol     Manual   7.59  suv  Captur   \n",
       "1      2021 Tata Nexon  34,960 kms  Diesel  Automatic  12.17  suv   Nexon   \n",
       "2   2016 Hyundai Creta  42,940 kms  Petrol     Manual   9.21  suv   Creta   \n",
       "3      2018 Honda WR-V  30,135 kms  Petrol     Manual   7.87  suv    WR-V   \n",
       "4      2021 Tata Nexon  15,277 kms  Petrol     Manual  10.38  suv   Nexon   \n",
       "\n",
       "   year car_brand kilometer  \n",
       "0  2018   Renault     15769  \n",
       "1  2021      Tata     34960  \n",
       "2  2016   Hyundai     42940  \n",
       "3  2018     Honda     30135  \n",
       "4  2021      Tata     15277  "
      ]
     },
     "execution_count": 219,
     "metadata": {},
     "output_type": "execute_result"
    }
   ],
   "source": [
    "car_data.head()"
   ]
  },
  {
   "cell_type": "code",
   "execution_count": null,
   "id": "313849f7",
   "metadata": {},
   "outputs": [],
   "source": [
    "#  we done all the data cleaning part "
   ]
  },
  {
   "cell_type": "code",
   "execution_count": 220,
   "id": "de6001fc",
   "metadata": {},
   "outputs": [
    {
     "data": {
      "text/plain": [
       "car_name     0\n",
       "distanced    0\n",
       "fuel         0\n",
       "type         0\n",
       "price        0\n",
       "body         0\n",
       "model        0\n",
       "year         0\n",
       "car_brand    0\n",
       "kilometer    0\n",
       "dtype: int64"
      ]
     },
     "execution_count": 220,
     "metadata": {},
     "output_type": "execute_result"
    }
   ],
   "source": [
    "car_data.isnull().sum()"
   ]
  },
  {
   "cell_type": "code",
   "execution_count": 221,
   "id": "0b0a2746",
   "metadata": {},
   "outputs": [],
   "source": [
    "#car_data.to_csv('car_price_data.csv', index=False)"
   ]
  },
  {
   "cell_type": "code",
   "execution_count": null,
   "id": "0fdb426f",
   "metadata": {},
   "outputs": [],
   "source": []
  },
  {
   "cell_type": "code",
   "execution_count": null,
   "id": "4b9cc5eb",
   "metadata": {},
   "outputs": [],
   "source": []
  },
  {
   "cell_type": "raw",
   "id": "65870735",
   "metadata": {},
   "source": [
    "In this dataset has 8 variables\n",
    "car_brand= car company name\n",
    "fuel= which types of fuel does the car run on\n",
    "type= car engine is automatic or manual type\n",
    "kilometer= how much distanced covered by car\n",
    "year= in which year car was bought\n",
    "body = which types of car like SUV, MUV Sedan Hatchback\n",
    "price= car price\n",
    "model=  car's model name"
   ]
  },
  {
   "cell_type": "code",
   "execution_count": null,
   "id": "78d7b276",
   "metadata": {},
   "outputs": [],
   "source": []
  },
  {
   "cell_type": "code",
   "execution_count": null,
   "id": "f7a090c8",
   "metadata": {},
   "outputs": [],
   "source": []
  },
  {
   "cell_type": "code",
   "execution_count": null,
   "id": "5a282b89",
   "metadata": {},
   "outputs": [],
   "source": []
  },
  {
   "cell_type": "raw",
   "id": "172da42c",
   "metadata": {},
   "source": [
    " LET'S START DATA-PREPROCESSING & EDA"
   ]
  },
  {
   "cell_type": "code",
   "execution_count": 1,
   "id": "a4b16b0d",
   "metadata": {},
   "outputs": [],
   "source": [
    "import pandas as pd\n",
    "import numpy as np\n",
    "import matplotlib.pyplot as plt\n",
    "import seaborn as sns\n",
    "\n",
    "import warnings\n",
    "warnings.filterwarnings('ignore')"
   ]
  },
  {
   "cell_type": "code",
   "execution_count": null,
   "id": "759f65ab",
   "metadata": {},
   "outputs": [],
   "source": []
  },
  {
   "cell_type": "code",
   "execution_count": 2,
   "id": "316c9c16",
   "metadata": {},
   "outputs": [],
   "source": [
    "df=pd.read_csv('car_price_data.csv')"
   ]
  },
  {
   "cell_type": "code",
   "execution_count": 3,
   "id": "4247c38f",
   "metadata": {},
   "outputs": [
    {
     "data": {
      "text/html": [
       "<div>\n",
       "<style scoped>\n",
       "    .dataframe tbody tr th:only-of-type {\n",
       "        vertical-align: middle;\n",
       "    }\n",
       "\n",
       "    .dataframe tbody tr th {\n",
       "        vertical-align: top;\n",
       "    }\n",
       "\n",
       "    .dataframe thead th {\n",
       "        text-align: right;\n",
       "    }\n",
       "</style>\n",
       "<table border=\"1\" class=\"dataframe\">\n",
       "  <thead>\n",
       "    <tr style=\"text-align: right;\">\n",
       "      <th></th>\n",
       "      <th>car_name</th>\n",
       "      <th>distanced</th>\n",
       "      <th>fuel</th>\n",
       "      <th>type</th>\n",
       "      <th>price</th>\n",
       "      <th>body</th>\n",
       "      <th>model</th>\n",
       "      <th>year</th>\n",
       "      <th>car_brand</th>\n",
       "      <th>kilometer</th>\n",
       "    </tr>\n",
       "  </thead>\n",
       "  <tbody>\n",
       "    <tr>\n",
       "      <th>0</th>\n",
       "      <td>2018 Renault Captur</td>\n",
       "      <td>15,769 kms</td>\n",
       "      <td>Petrol</td>\n",
       "      <td>Manual</td>\n",
       "      <td>7.59</td>\n",
       "      <td>suv</td>\n",
       "      <td>Captur</td>\n",
       "      <td>2018</td>\n",
       "      <td>Renault</td>\n",
       "      <td>15769.0</td>\n",
       "    </tr>\n",
       "    <tr>\n",
       "      <th>1</th>\n",
       "      <td>2021 Tata Nexon</td>\n",
       "      <td>34,960 kms</td>\n",
       "      <td>Diesel</td>\n",
       "      <td>Automatic</td>\n",
       "      <td>12.17</td>\n",
       "      <td>suv</td>\n",
       "      <td>Nexon</td>\n",
       "      <td>2021</td>\n",
       "      <td>Tata</td>\n",
       "      <td>34960.0</td>\n",
       "    </tr>\n",
       "    <tr>\n",
       "      <th>2</th>\n",
       "      <td>2016 Hyundai Creta</td>\n",
       "      <td>42,940 kms</td>\n",
       "      <td>Petrol</td>\n",
       "      <td>Manual</td>\n",
       "      <td>9.21</td>\n",
       "      <td>suv</td>\n",
       "      <td>Creta</td>\n",
       "      <td>2016</td>\n",
       "      <td>Hyundai</td>\n",
       "      <td>42940.0</td>\n",
       "    </tr>\n",
       "    <tr>\n",
       "      <th>3</th>\n",
       "      <td>2018 Honda WR-V</td>\n",
       "      <td>30,135 kms</td>\n",
       "      <td>Petrol</td>\n",
       "      <td>Manual</td>\n",
       "      <td>7.87</td>\n",
       "      <td>suv</td>\n",
       "      <td>WR-V</td>\n",
       "      <td>2018</td>\n",
       "      <td>Honda</td>\n",
       "      <td>30135.0</td>\n",
       "    </tr>\n",
       "    <tr>\n",
       "      <th>4</th>\n",
       "      <td>2021 Tata Nexon</td>\n",
       "      <td>15,277 kms</td>\n",
       "      <td>Petrol</td>\n",
       "      <td>Manual</td>\n",
       "      <td>10.38</td>\n",
       "      <td>suv</td>\n",
       "      <td>Nexon</td>\n",
       "      <td>2021</td>\n",
       "      <td>Tata</td>\n",
       "      <td>15277.0</td>\n",
       "    </tr>\n",
       "  </tbody>\n",
       "</table>\n",
       "</div>"
      ],
      "text/plain": [
       "              car_name   distanced    fuel       type  price body   model  \\\n",
       "0  2018 Renault Captur  15,769 kms  Petrol     Manual   7.59  suv  Captur   \n",
       "1      2021 Tata Nexon  34,960 kms  Diesel  Automatic  12.17  suv   Nexon   \n",
       "2   2016 Hyundai Creta  42,940 kms  Petrol     Manual   9.21  suv   Creta   \n",
       "3      2018 Honda WR-V  30,135 kms  Petrol     Manual   7.87  suv    WR-V   \n",
       "4      2021 Tata Nexon  15,277 kms  Petrol     Manual  10.38  suv   Nexon   \n",
       "\n",
       "   year car_brand  kilometer  \n",
       "0  2018   Renault    15769.0  \n",
       "1  2021      Tata    34960.0  \n",
       "2  2016   Hyundai    42940.0  \n",
       "3  2018     Honda    30135.0  \n",
       "4  2021      Tata    15277.0  "
      ]
     },
     "execution_count": 3,
     "metadata": {},
     "output_type": "execute_result"
    }
   ],
   "source": [
    "\n",
    "df.head()"
   ]
  },
  {
   "cell_type": "code",
   "execution_count": 4,
   "id": "2127082d",
   "metadata": {},
   "outputs": [],
   "source": [
    "\n",
    "\n",
    "#  change the column name\n",
    "\n",
    "df.rename(columns={'price':'price_in_lakh'}, inplace=True)"
   ]
  },
  {
   "cell_type": "code",
   "execution_count": 49,
   "id": "0d27644d",
   "metadata": {},
   "outputs": [],
   "source": [
    "#  \n",
    "\n",
    "df.drop(['car_name','distanced'], axis=1, inplace=True)"
   ]
  },
  {
   "cell_type": "code",
   "execution_count": null,
   "id": "bdc1eddd",
   "metadata": {},
   "outputs": [],
   "source": []
  },
  {
   "cell_type": "code",
   "execution_count": 5,
   "id": "0e96a96b",
   "metadata": {},
   "outputs": [
    {
     "data": {
      "text/plain": [
       "(5315, 10)"
      ]
     },
     "execution_count": 5,
     "metadata": {},
     "output_type": "execute_result"
    }
   ],
   "source": [
    "#  lets check the shape of dataset\n",
    "df.shape"
   ]
  },
  {
   "cell_type": "code",
   "execution_count": 6,
   "id": "d326efbc",
   "metadata": {},
   "outputs": [
    {
     "data": {
      "text/plain": [
       "car_name         0\n",
       "distanced        0\n",
       "fuel             0\n",
       "type             0\n",
       "price_in_lakh    0\n",
       "body             0\n",
       "model            0\n",
       "year             0\n",
       "car_brand        0\n",
       "kilometer        0\n",
       "dtype: int64"
      ]
     },
     "execution_count": 6,
     "metadata": {},
     "output_type": "execute_result"
    }
   ],
   "source": [
    "# checking null value\n",
    "df.isnull().sum()              # no any null value is in dataset"
   ]
  },
  {
   "cell_type": "code",
   "execution_count": 10,
   "id": "64b46751",
   "metadata": {},
   "outputs": [
    {
     "name": "stdout",
     "output_type": "stream",
     "text": [
      "<class 'pandas.core.frame.DataFrame'>\n",
      "RangeIndex: 5315 entries, 0 to 5314\n",
      "Data columns (total 8 columns):\n",
      " #   Column         Non-Null Count  Dtype  \n",
      "---  ------         --------------  -----  \n",
      " 0   fuel           5315 non-null   object \n",
      " 1   type           5315 non-null   object \n",
      " 2   price_in_lakh  5315 non-null   float64\n",
      " 3   body           5315 non-null   object \n",
      " 4   model          5315 non-null   object \n",
      " 5   year           5315 non-null   int64  \n",
      " 6   car_brand      5315 non-null   object \n",
      " 7   kilometer      5315 non-null   float64\n",
      "dtypes: float64(2), int64(1), object(5)\n",
      "memory usage: 332.3+ KB\n"
     ]
    }
   ],
   "source": [
    "# brief summary about dataset\n",
    "df.info()"
   ]
  },
  {
   "cell_type": "code",
   "execution_count": null,
   "id": "870caefa",
   "metadata": {},
   "outputs": [],
   "source": []
  },
  {
   "cell_type": "code",
   "execution_count": 7,
   "id": "89a5b830",
   "metadata": {},
   "outputs": [
    {
     "data": {
      "text/html": [
       "<div>\n",
       "<style scoped>\n",
       "    .dataframe tbody tr th:only-of-type {\n",
       "        vertical-align: middle;\n",
       "    }\n",
       "\n",
       "    .dataframe tbody tr th {\n",
       "        vertical-align: top;\n",
       "    }\n",
       "\n",
       "    .dataframe thead th {\n",
       "        text-align: right;\n",
       "    }\n",
       "</style>\n",
       "<table border=\"1\" class=\"dataframe\">\n",
       "  <thead>\n",
       "    <tr style=\"text-align: right;\">\n",
       "      <th></th>\n",
       "      <th>price_in_lakh</th>\n",
       "      <th>year</th>\n",
       "      <th>kilometer</th>\n",
       "    </tr>\n",
       "  </thead>\n",
       "  <tbody>\n",
       "    <tr>\n",
       "      <th>count</th>\n",
       "      <td>5315.000000</td>\n",
       "      <td>5315.000000</td>\n",
       "      <td>5315.000000</td>\n",
       "    </tr>\n",
       "    <tr>\n",
       "      <th>mean</th>\n",
       "      <td>11.987936</td>\n",
       "      <td>2015.872437</td>\n",
       "      <td>45020.962747</td>\n",
       "    </tr>\n",
       "    <tr>\n",
       "      <th>std</th>\n",
       "      <td>14.034702</td>\n",
       "      <td>3.517993</td>\n",
       "      <td>26719.263644</td>\n",
       "    </tr>\n",
       "    <tr>\n",
       "      <th>min</th>\n",
       "      <td>1.000000</td>\n",
       "      <td>1996.000000</td>\n",
       "      <td>100.000000</td>\n",
       "    </tr>\n",
       "    <tr>\n",
       "      <th>25%</th>\n",
       "      <td>4.490000</td>\n",
       "      <td>2014.000000</td>\n",
       "      <td>23995.000000</td>\n",
       "    </tr>\n",
       "    <tr>\n",
       "      <th>50%</th>\n",
       "      <td>7.350000</td>\n",
       "      <td>2016.000000</td>\n",
       "      <td>45854.000000</td>\n",
       "    </tr>\n",
       "    <tr>\n",
       "      <th>75%</th>\n",
       "      <td>13.900000</td>\n",
       "      <td>2018.000000</td>\n",
       "      <td>67000.000000</td>\n",
       "    </tr>\n",
       "    <tr>\n",
       "      <th>max</th>\n",
       "      <td>180.000000</td>\n",
       "      <td>2022.000000</td>\n",
       "      <td>99839.000000</td>\n",
       "    </tr>\n",
       "  </tbody>\n",
       "</table>\n",
       "</div>"
      ],
      "text/plain": [
       "       price_in_lakh         year     kilometer\n",
       "count    5315.000000  5315.000000   5315.000000\n",
       "mean       11.987936  2015.872437  45020.962747\n",
       "std        14.034702     3.517993  26719.263644\n",
       "min         1.000000  1996.000000    100.000000\n",
       "25%         4.490000  2014.000000  23995.000000\n",
       "50%         7.350000  2016.000000  45854.000000\n",
       "75%        13.900000  2018.000000  67000.000000\n",
       "max       180.000000  2022.000000  99839.000000"
      ]
     },
     "execution_count": 7,
     "metadata": {},
     "output_type": "execute_result"
    }
   ],
   "source": [
    "## Statistical description\n",
    "df.describe()"
   ]
  },
  {
   "cell_type": "raw",
   "id": "96607080",
   "metadata": {},
   "source": [
    "we can see by describe function , min & max value of 'price_in_lakh' is 1.0 & 180 \n",
    " more than 75 percent datapoints are distributed from 1.0 to 14 of car_price\n",
    ". \n"
   ]
  },
  {
   "cell_type": "code",
   "execution_count": 13,
   "id": "9cd3669b",
   "metadata": {},
   "outputs": [
    {
     "data": {
      "text/plain": [
       "(18, 10)"
      ]
     },
     "execution_count": 13,
     "metadata": {},
     "output_type": "execute_result"
    }
   ],
   "source": [
    "df[df['price_in_lakh']>=100].shape\n",
    "\n",
    "#  only 18 rows in this dataset have car price greater than 100  "
   ]
  },
  {
   "cell_type": "code",
   "execution_count": null,
   "id": "29e0d190",
   "metadata": {},
   "outputs": [],
   "source": []
  },
  {
   "cell_type": "code",
   "execution_count": 14,
   "id": "35dde1e9",
   "metadata": {},
   "outputs": [
    {
     "data": {
      "text/plain": [
       "Petrol      3036\n",
       "Diesel      2149\n",
       "CNG          118\n",
       "Electric       7\n",
       "LPG            5\n",
       "Name: fuel, dtype: int64"
      ]
     },
     "execution_count": 14,
     "metadata": {},
     "output_type": "execute_result"
    }
   ],
   "source": [
    "## COUNTING THE VALUE OF CATEGORICAL COLUMNS \n",
    "\n",
    "df['fuel'].value_counts()"
   ]
  },
  {
   "cell_type": "code",
   "execution_count": 15,
   "id": "1f0524ae",
   "metadata": {},
   "outputs": [
    {
     "data": {
      "text/plain": [
       "Manual       3372\n",
       "Automatic    1943\n",
       "Name: type, dtype: int64"
      ]
     },
     "execution_count": 15,
     "metadata": {},
     "output_type": "execute_result"
    }
   ],
   "source": [
    "df['type'].value_counts()"
   ]
  },
  {
   "cell_type": "code",
   "execution_count": 16,
   "id": "30c2dba7",
   "metadata": {},
   "outputs": [
    {
     "data": {
      "text/plain": [
       "Sedan        1061\n",
       "SUV           953\n",
       "HatchBack     924\n",
       "sedan         858\n",
       "suv           799\n",
       "Hatchback     565\n",
       "MUV           155\n",
       "Name: body, dtype: int64"
      ]
     },
     "execution_count": 16,
     "metadata": {},
     "output_type": "execute_result"
    }
   ],
   "source": [
    "df['body'].value_counts()\n",
    "\n",
    "#  in 'body ' variable we have to  change name of some value,  \n",
    "#  sedan & Sedan ,suv & SUV  these are same type"
   ]
  },
  {
   "cell_type": "code",
   "execution_count": 17,
   "id": "02e56d63",
   "metadata": {},
   "outputs": [],
   "source": [
    "\n",
    "df['body'].replace({'sedan':'Sedan','Hatchback':'HatchBack','suv':'SUV'},inplace=True)"
   ]
  },
  {
   "cell_type": "code",
   "execution_count": 18,
   "id": "867ad54e",
   "metadata": {},
   "outputs": [
    {
     "data": {
      "text/plain": [
       "Sedan        1919\n",
       "SUV          1752\n",
       "HatchBack    1489\n",
       "MUV           155\n",
       "Name: body, dtype: int64"
      ]
     },
     "execution_count": 18,
     "metadata": {},
     "output_type": "execute_result"
    }
   ],
   "source": [
    "#\n",
    "df['body'].value_counts()"
   ]
  },
  {
   "cell_type": "code",
   "execution_count": 19,
   "id": "6dfa927e",
   "metadata": {},
   "outputs": [
    {
     "data": {
      "text/plain": [
       "City                  343\n",
       "Creta                 194\n",
       "i20                   192\n",
       "Verna                 156\n",
       "Swift-Dzire           151\n",
       "                     ... \n",
       "Land-Cruiser-Prado      1\n",
       "Yeti                    1\n",
       "Grand-Vitara            1\n",
       "ZS-EV                   1\n",
       "S60-Cross-Country       1\n",
       "Name: model, Length: 257, dtype: int64"
      ]
     },
     "execution_count": 19,
     "metadata": {},
     "output_type": "execute_result"
    }
   ],
   "source": [
    "# \n",
    "df['model'].value_counts()  # 257 different types of values in 'model' variables"
   ]
  },
  {
   "cell_type": "code",
   "execution_count": null,
   "id": "e760d91c",
   "metadata": {},
   "outputs": [],
   "source": []
  },
  {
   "cell_type": "code",
   "execution_count": 22,
   "id": "12a0a84f",
   "metadata": {
    "scrolled": true
   },
   "outputs": [
    {
     "data": {
      "text/plain": [
       "Maruti           1055\n",
       "Hyundai           967\n",
       "Honda             640\n",
       "Mahindra          360\n",
       "Mercedes-Benz     301\n",
       "Toyota            294\n",
       "BMW               210\n",
       "Audi              180\n",
       "Volkswagen        172\n",
       "Tata              170\n",
       "Ford              163\n",
       "Renault           158\n",
       "Skoda             129\n",
       "Kia               101\n",
       "MG                 79\n",
       "Jeep               76\n",
       "Land-Rover         49\n",
       "Jaguar             46\n",
       "Nissan             38\n",
       "Chevrolet          33\n",
       "Volvo              20\n",
       "Fiat               15\n",
       "Mitsubishi         15\n",
       "Datsun             15\n",
       "Mini               14\n",
       "Porsche             9\n",
       "Isuzu               2\n",
       "Bentley             1\n",
       "Maserati            1\n",
       "Bajaj               1\n",
       "Rolls-Royce         1\n",
       "Name: car_brand, dtype: int64"
      ]
     },
     "execution_count": 22,
     "metadata": {},
     "output_type": "execute_result"
    }
   ],
   "source": [
    "# lets check how many brand of car have in this Vriable\n",
    "\n",
    "df['car_brand'].value_counts()   ## 31 different type car brand "
   ]
  },
  {
   "cell_type": "code",
   "execution_count": 42,
   "id": "18f49feb",
   "metadata": {},
   "outputs": [
    {
     "data": {
      "text/plain": [
       "<AxesSubplot:xlabel='type', ylabel='count'>"
      ]
     },
     "execution_count": 42,
     "metadata": {},
     "output_type": "execute_result"
    },
    {
     "data": {
      "image/png": "[encoded data removed]",
      "text/plain": [
       "<Figure size 432x288 with 1 Axes>"
      ]
     },
     "metadata": {
      "needs_background": "light"
     },
     "output_type": "display_data"
    }
   ],
   "source": [
    "#\n",
    "\n",
    "#PLOTTING COUNTPLOT\n",
    "sns.countplot(df['type'])\n",
    "#  0 =  manual \n",
    "#  1 =  automatic"
   ]
  },
  {
   "cell_type": "code",
   "execution_count": 28,
   "id": "b8a64e3c",
   "metadata": {},
   "outputs": [
    {
     "data": {
      "image/png": "[encoded data removed]",
      "text/plain": [
       "<Figure size 1584x432 with 1 Axes>"
      ]
     },
     "metadata": {
      "needs_background": "light"
     },
     "output_type": "display_data"
    }
   ],
   "source": [
    "\n",
    "plt.figure(figsize=(22,6))\n",
    "sns.countplot(df['car_brand'], )\n",
    "plt.tight_layout()\n",
    "\n",
    "# (Maserati, Bentley, Rolls-Royce,'Bajaj','Isuzu') these car brand have only one value in this dataset"
   ]
  },
  {
   "cell_type": "code",
   "execution_count": null,
   "id": "00bc1ed1",
   "metadata": {},
   "outputs": [],
   "source": []
  },
  {
   "cell_type": "code",
   "execution_count": 42,
   "id": "7387c6d7",
   "metadata": {},
   "outputs": [
    {
     "data": {
      "text/plain": [
       "<AxesSubplot:xlabel='car_brand'>"
      ]
     },
     "execution_count": 42,
     "metadata": {},
     "output_type": "execute_result"
    },
    {
     "data": {
      "image/png": "[encoded data removed]",
      "text/plain": [
       "<Figure size 1440x432 with 1 Axes>"
      ]
     },
     "metadata": {
      "needs_background": "light"
     },
     "output_type": "display_data"
    }
   ],
   "source": [
    "# lets check which car brand has highest price\n",
    "df.groupby(['car_brand'])['price_in_lakh'].max().sort_values().plot(kind='bar', figsize=(20,6))\n",
    "\n",
    "# according this plot we can change these all values into numerical type"
   ]
  },
  {
   "cell_type": "code",
   "execution_count": 36,
   "id": "2e854734",
   "metadata": {},
   "outputs": [
    {
     "data": {
      "text/plain": [
       "<AxesSubplot:xlabel='car_brand,model'>"
      ]
     },
     "execution_count": 36,
     "metadata": {},
     "output_type": "execute_result"
    },
    {
     "data": {
      "image/png": "[encoded data removed]",
      "text/plain": [
       "<Figure size 5760x432 with 1 Axes>"
      ]
     },
     "metadata": {
      "needs_background": "light"
     },
     "output_type": "display_data"
    }
   ],
   "source": [
    "\n",
    "# lets check according car model which car brand  has highest price \n",
    "df.groupby(['car_brand','model'])['price_in_lakh'].max().sort_values().plot(kind='bar', figsize=(80,6))\n",
    "\n",
    "#   highest car brand price = Rolls-Royce Ghost, Mercedes-Benz S-Class, Mercedes-Benz G , BMW X7\n",
    "\n",
    "#  lowest car brand price= Bajaj, Datsun, Chevrolet, Fiat"
   ]
  },
  {
   "cell_type": "raw",
   "id": "786c9d00",
   "metadata": {},
   "source": [
    "# let's plotting 'model'  according  to price , from which car model has highest price\n",
    "\n",
    "df.groupby(['model'])['price_in_lakh'].max().sort_values().plot(kind='bar', figsize=(100,6))\n",
    "\n",
    "# highest car model price = Ghost , (Rolls-Royce) \n",
    "#  lowest car model price = Esteem , (Maruti)"
   ]
  },
  {
   "cell_type": "code",
   "execution_count": 31,
   "id": "02c5d22e",
   "metadata": {},
   "outputs": [
    {
     "data": {
      "text/plain": [
       "model\n",
       "City           343\n",
       "Creta          194\n",
       "i20            192\n",
       "Verna          156\n",
       "Swift-Dzire    151\n",
       "              ... \n",
       "Q2               1\n",
       "Punto-EVO        1\n",
       "Aura             1\n",
       "XC-90            1\n",
       "Avventura        1\n",
       "Name: price_in_lakh, Length: 257, dtype: int64"
      ]
     },
     "execution_count": 31,
     "metadata": {},
     "output_type": "execute_result"
    }
   ],
   "source": [
    "##  which model of car has the maximum number of times \n",
    "\n",
    "df.groupby(['model'])['price_in_lakh'].count().sort_values(ascending=False)\n"
   ]
  },
  {
   "cell_type": "code",
   "execution_count": null,
   "id": "ed5e0cb5",
   "metadata": {},
   "outputs": [],
   "source": []
  },
  {
   "cell_type": "code",
   "execution_count": 32,
   "id": "6fbfdb72",
   "metadata": {},
   "outputs": [],
   "source": [
    "##\n",
    "vm=['Bajaj','Datsun','Fiat','Chevrolet','Maruti','Renault','Nissan','Honda','Isuzu','Mitsubishi','Tata','Volkswagen','Hyundai','Mahindra','Skoda',\n",
    "            'Ford','Mini','Kia','MG','Toyota','Volvo','Jeep','Jaguar','Maserati','Bentley','Porsche','Audi','Land-Rover','BMW','Mercedes-Benz','Rolls-Royce']"
   ]
  },
  {
   "cell_type": "code",
   "execution_count": 33,
   "id": "bdce0f00",
   "metadata": {},
   "outputs": [],
   "source": [
    "#  value of 'car_brand' variable convert into numerical form according to maximum car price \n",
    "p= 1\n",
    "for w in vm:\n",
    "    if p <= 31 :\n",
    "        df['car_brand'].replace({w:p}, inplace=True)\n",
    "        p+=1"
   ]
  },
  {
   "cell_type": "code",
   "execution_count": 35,
   "id": "6e9dd10e",
   "metadata": {},
   "outputs": [
    {
     "data": {
      "text/plain": [
       "<AxesSubplot:xlabel='car_brand'>"
      ]
     },
     "execution_count": 35,
     "metadata": {},
     "output_type": "execute_result"
    },
    {
     "data": {
      "image/png": "[encoded data removed]",
      "text/plain": [
       "<Figure size 1440x432 with 1 Axes>"
      ]
     },
     "metadata": {
      "needs_background": "light"
     },
     "output_type": "display_data"
    }
   ],
   "source": [
    "## The name of the car has been changed in she way that as the price of car is increasing the value of the name of car is also\n",
    "##     increasing   ,  it will be easy to predict the price\n",
    "## \n",
    "\n",
    "df.groupby(['car_brand'])['price_in_lakh'].max().sort_values().plot(kind='bar', figsize=(20,6))"
   ]
  },
  {
   "cell_type": "code",
   "execution_count": 77,
   "id": "ee33eea5",
   "metadata": {},
   "outputs": [
    {
     "data": {
      "text/plain": [
       "<AxesSubplot:xlabel='year', ylabel='price_in_lakh'>"
      ]
     },
     "execution_count": 77,
     "metadata": {},
     "output_type": "execute_result"
    },
    {
     "data": {
      "image/png": "[encoded data removed]",
      "text/plain": [
       "<Figure size 1440x432 with 1 Axes>"
      ]
     },
     "metadata": {
      "needs_background": "light"
     },
     "output_type": "display_data"
    }
   ],
   "source": [
    "##  plotting barplot to find in which year car cost more\n",
    "\n",
    "plt.figure(figsize=(20,6))\n",
    "sns.barplot(df['year'],df['price_in_lakh'],hue=df['type'])"
   ]
  },
  {
   "cell_type": "code",
   "execution_count": null,
   "id": "3373413d",
   "metadata": {},
   "outputs": [],
   "source": []
  },
  {
   "cell_type": "code",
   "execution_count": 36,
   "id": "9d0c89c8",
   "metadata": {},
   "outputs": [
    {
     "data": {
      "text/plain": [
       "<AxesSubplot:xlabel='car_brand', ylabel='price_in_lakh'>"
      ]
     },
     "execution_count": 36,
     "metadata": {},
     "output_type": "execute_result"
    },
    {
     "data": {
      "image/png": "[encoded data removed]",
      "text/plain": [
       "<Figure size 1440x432 with 1 Axes>"
      ]
     },
     "metadata": {
      "needs_background": "light"
     },
     "output_type": "display_data"
    }
   ],
   "source": [
    "##\n",
    "plt.figure(figsize=(20,6))\n",
    "sns.barplot(df['car_brand'],df['price_in_lakh'],hue=df['fuel'])\n",
    "\n",
    "## we can see in this plot that petrol car has maximum price"
   ]
  },
  {
   "cell_type": "code",
   "execution_count": 37,
   "id": "054ca045",
   "metadata": {},
   "outputs": [
    {
     "data": {
      "text/plain": [
       "<AxesSubplot:xlabel='car_brand', ylabel='price_in_lakh'>"
      ]
     },
     "execution_count": 37,
     "metadata": {},
     "output_type": "execute_result"
    },
    {
     "data": {
      "image/png": "[encoded data removed]",
      "text/plain": [
       "<Figure size 1440x432 with 1 Axes>"
      ]
     },
     "metadata": {
      "needs_background": "light"
     },
     "output_type": "display_data"
    }
   ],
   "source": [
    "\n",
    "##\n",
    "plt.figure(figsize=(20,6))\n",
    "sns.barplot(df['car_brand'],df['price_in_lakh'],hue=df['type'])\n",
    "\n",
    "##  maximum price of Automatic type car_brand  compare to Manual type "
   ]
  },
  {
   "cell_type": "code",
   "execution_count": null,
   "id": "90d60cb4",
   "metadata": {},
   "outputs": [],
   "source": []
  },
  {
   "cell_type": "code",
   "execution_count": 38,
   "id": "c3756427",
   "metadata": {},
   "outputs": [],
   "source": [
    "# change the categorical variables values into numerical form\n",
    "\n",
    "df['fuel'].replace({'LPG':0,'CNG':1,'Electric':2,'Diesel':3,'Petrol':4}, inplace=True)\n",
    "df['type'].replace({'Automatic':1,'Manual':0,}, inplace=True)"
   ]
  },
  {
   "cell_type": "code",
   "execution_count": null,
   "id": "20f357c4",
   "metadata": {},
   "outputs": [],
   "source": []
  },
  {
   "cell_type": "code",
   "execution_count": 39,
   "id": "ecbc2522",
   "metadata": {},
   "outputs": [
    {
     "data": {
      "text/plain": [
       "<AxesSubplot:>"
      ]
     },
     "execution_count": 39,
     "metadata": {},
     "output_type": "execute_result"
    },
    {
     "data": {
      "image/png": "[encoded data removed]",
      "text/plain": [
       "<Figure size 432x288 with 2 Axes>"
      ]
     },
     "metadata": {
      "needs_background": "light"
     },
     "output_type": "display_data"
    }
   ],
   "source": [
    "# plotting  correlation of dataset\n",
    "sns.heatmap(df.corr(), annot=True)\n",
    "\n",
    "## car_brand, type, year these variables are positive correlated with car price"
   ]
  },
  {
   "cell_type": "code",
   "execution_count": 45,
   "id": "5fa77383",
   "metadata": {},
   "outputs": [
    {
     "data": {
      "text/plain": [
       "<AxesSubplot:xlabel='price_in_lakh', ylabel='kilometer'>"
      ]
     },
     "execution_count": 45,
     "metadata": {},
     "output_type": "execute_result"
    },
    {
     "data": {
      "image/png": "[encoded data removed]",
      "text/plain": [
       "<Figure size 1152x432 with 1 Axes>"
      ]
     },
     "metadata": {
      "needs_background": "light"
     },
     "output_type": "display_data"
    }
   ],
   "source": [
    "\n",
    "plt.figure(figsize=(16,6))\n",
    "sns.scatterplot(df['price_in_lakh'], df['kilometer'])\n",
    "#   16 car has  greater than 100 lakh(1 cr) price  out 5315 car"
   ]
  },
  {
   "cell_type": "code",
   "execution_count": null,
   "id": "bb6a1788",
   "metadata": {},
   "outputs": [],
   "source": [
    "\n",
    "\n",
    "#  PLOTTING DISTRIBUTION PLOT"
   ]
  },
  {
   "cell_type": "code",
   "execution_count": 41,
   "id": "01786648",
   "metadata": {},
   "outputs": [
    {
     "data": {
      "text/plain": [
       "<AxesSubplot:xlabel='price_in_lakh', ylabel='Density'>"
      ]
     },
     "execution_count": 41,
     "metadata": {},
     "output_type": "execute_result"
    },
    {
     "data": {
      "image/png": "[encoded data removed]",
      "text/plain": [
       "<Figure size 432x288 with 1 Axes>"
      ]
     },
     "metadata": {
      "needs_background": "light"
     },
     "output_type": "display_data"
    }
   ],
   "source": [
    "# plotting distribution plot  of car-price \n",
    "\n",
    "sns.distplot(df['price_in_lakh'])\n",
    "# very few car's price have more than 75"
   ]
  },
  {
   "cell_type": "code",
   "execution_count": 46,
   "id": "3f1fb7c1",
   "metadata": {},
   "outputs": [
    {
     "data": {
      "text/plain": [
       "<AxesSubplot:xlabel='kilometer', ylabel='Density'>"
      ]
     },
     "execution_count": 46,
     "metadata": {},
     "output_type": "execute_result"
    },
    {
     "data": {
      "image/png": "[encoded data removed]",
      "text/plain": [
       "<Figure size 432x288 with 1 Axes>"
      ]
     },
     "metadata": {
      "needs_background": "light"
     },
     "output_type": "display_data"
    }
   ],
   "source": [
    "# \n",
    "sns.distplot(df['kilometer'])"
   ]
  },
  {
   "cell_type": "code",
   "execution_count": 50,
   "id": "fd3c31b7",
   "metadata": {},
   "outputs": [
    {
     "data": {
      "text/html": [
       "<div>\n",
       "<style scoped>\n",
       "    .dataframe tbody tr th:only-of-type {\n",
       "        vertical-align: middle;\n",
       "    }\n",
       "\n",
       "    .dataframe tbody tr th {\n",
       "        vertical-align: top;\n",
       "    }\n",
       "\n",
       "    .dataframe thead th {\n",
       "        text-align: right;\n",
       "    }\n",
       "</style>\n",
       "<table border=\"1\" class=\"dataframe\">\n",
       "  <thead>\n",
       "    <tr style=\"text-align: right;\">\n",
       "      <th></th>\n",
       "      <th>fuel</th>\n",
       "      <th>type</th>\n",
       "      <th>price_in_lakh</th>\n",
       "      <th>body</th>\n",
       "      <th>model</th>\n",
       "      <th>year</th>\n",
       "      <th>car_brand</th>\n",
       "      <th>kilometer</th>\n",
       "    </tr>\n",
       "  </thead>\n",
       "  <tbody>\n",
       "    <tr>\n",
       "      <th>0</th>\n",
       "      <td>4</td>\n",
       "      <td>0</td>\n",
       "      <td>7.59</td>\n",
       "      <td>SUV</td>\n",
       "      <td>Captur</td>\n",
       "      <td>2018</td>\n",
       "      <td>6</td>\n",
       "      <td>15769.0</td>\n",
       "    </tr>\n",
       "    <tr>\n",
       "      <th>1</th>\n",
       "      <td>3</td>\n",
       "      <td>1</td>\n",
       "      <td>12.17</td>\n",
       "      <td>SUV</td>\n",
       "      <td>Nexon</td>\n",
       "      <td>2021</td>\n",
       "      <td>11</td>\n",
       "      <td>34960.0</td>\n",
       "    </tr>\n",
       "    <tr>\n",
       "      <th>2</th>\n",
       "      <td>4</td>\n",
       "      <td>0</td>\n",
       "      <td>9.21</td>\n",
       "      <td>SUV</td>\n",
       "      <td>Creta</td>\n",
       "      <td>2016</td>\n",
       "      <td>13</td>\n",
       "      <td>42940.0</td>\n",
       "    </tr>\n",
       "    <tr>\n",
       "      <th>3</th>\n",
       "      <td>4</td>\n",
       "      <td>0</td>\n",
       "      <td>7.87</td>\n",
       "      <td>SUV</td>\n",
       "      <td>WR-V</td>\n",
       "      <td>2018</td>\n",
       "      <td>8</td>\n",
       "      <td>30135.0</td>\n",
       "    </tr>\n",
       "    <tr>\n",
       "      <th>4</th>\n",
       "      <td>4</td>\n",
       "      <td>0</td>\n",
       "      <td>10.38</td>\n",
       "      <td>SUV</td>\n",
       "      <td>Nexon</td>\n",
       "      <td>2021</td>\n",
       "      <td>11</td>\n",
       "      <td>15277.0</td>\n",
       "    </tr>\n",
       "  </tbody>\n",
       "</table>\n",
       "</div>"
      ],
      "text/plain": [
       "   fuel  type  price_in_lakh body   model  year  car_brand  kilometer\n",
       "0     4     0           7.59  SUV  Captur  2018          6    15769.0\n",
       "1     3     1          12.17  SUV   Nexon  2021         11    34960.0\n",
       "2     4     0           9.21  SUV   Creta  2016         13    42940.0\n",
       "3     4     0           7.87  SUV    WR-V  2018          8    30135.0\n",
       "4     4     0          10.38  SUV   Nexon  2021         11    15277.0"
      ]
     },
     "execution_count": 50,
     "metadata": {},
     "output_type": "execute_result"
    }
   ],
   "source": [
    "df.head()"
   ]
  },
  {
   "cell_type": "code",
   "execution_count": 47,
   "id": "8e46c1b2",
   "metadata": {},
   "outputs": [
    {
     "data": {
      "text/plain": [
       "kilometer   -0.016171\n",
       "dtype: float64"
      ]
     },
     "execution_count": 47,
     "metadata": {},
     "output_type": "execute_result"
    }
   ],
   "source": [
    "# CHECKING  SHKEWNESS OVER CONTINUOUS VARIABLES  \n",
    "\n",
    "df[['kilometer']].skew()  ## in this dataset only  one input variables is continuous type"
   ]
  },
  {
   "cell_type": "raw",
   "id": "a21cc1e7",
   "metadata": {},
   "source": [
    "\n",
    "we do not have to use Outliers method & Multicollinearity problem (VIF)  on this Dataset because only seven input variables"
   ]
  },
  {
   "cell_type": "code",
   "execution_count": 51,
   "id": "e0483214",
   "metadata": {},
   "outputs": [],
   "source": [
    "# we use get_dummies method on car 'model' categorical variable\n",
    "# then we get r2_score of model is very minimum, not performed well\n",
    "\n",
    "df1= pd.get_dummies(df)"
   ]
  },
  {
   "cell_type": "code",
   "execution_count": 52,
   "id": "1c45d085",
   "metadata": {},
   "outputs": [
    {
     "data": {
      "text/plain": [
       "(5315, 267)"
      ]
     },
     "execution_count": 52,
     "metadata": {},
     "output_type": "execute_result"
    }
   ],
   "source": [
    "df1.shape"
   ]
  },
  {
   "cell_type": "code",
   "execution_count": 53,
   "id": "f7dee9f9",
   "metadata": {},
   "outputs": [],
   "source": [
    "\n",
    "x= df1.drop('price_in_lakh', axis=1)\n",
    "y= df1.price_in_lakh"
   ]
  },
  {
   "cell_type": "code",
   "execution_count": null,
   "id": "09bca07a",
   "metadata": {},
   "outputs": [],
   "source": []
  },
  {
   "cell_type": "code",
   "execution_count": 54,
   "id": "b275cc97",
   "metadata": {},
   "outputs": [],
   "source": [
    "from sklearn.preprocessing import *\n",
    "from sklearn.model_selection import *\n",
    "from sklearn.metrics import *"
   ]
  },
  {
   "cell_type": "code",
   "execution_count": 57,
   "id": "631dc1e2",
   "metadata": {},
   "outputs": [],
   "source": [
    "scaler= StandardScaler()\n",
    "scaled= scaler.fit_transform(x)\n",
    "scaled= pd.DataFrame( scaled, columns= x.columns)"
   ]
  },
  {
   "cell_type": "code",
   "execution_count": 120,
   "id": "60c6bbd9",
   "metadata": {},
   "outputs": [],
   "source": []
  },
  {
   "cell_type": "raw",
   "id": "57623071",
   "metadata": {},
   "source": [
    "LET'S TRAIN & TEST THE MODEL"
   ]
  },
  {
   "cell_type": "code",
   "execution_count": 60,
   "id": "d82fea88",
   "metadata": {},
   "outputs": [
    {
     "name": "stdout",
     "output_type": "stream",
     "text": [
      "r2_score= -1.0916054959988988e+27\n",
      "mean_squared_erro= 2.068385809053203e+29\n",
      "mean_absolute_error= 39028492149870.86\n",
      "root_mean_squared_erro= 454795097714696.44\n"
     ]
    }
   ],
   "source": [
    "##  lINEAR REGRESSION MODEL\n",
    "\n",
    "from sklearn.linear_model import LinearRegression\n",
    "x_train,x_test,y_train,y_test=train_test_split(scaled, y,random_state = 54,test_size=0.30,)\n",
    "\n",
    "lr= LinearRegression()\n",
    "lr.fit(x_train, y_train)\n",
    "pred= lr.predict(x_test)\n",
    "print('r2_score=',r2_score(y_test, pred))\n",
    "print('mean_squared_erro=', mean_squared_error(y_test, pred))\n",
    "print('mean_absolute_error=', mean_absolute_error(y_test, pred))\n",
    "print('root_mean_squared_erro=', np.sqrt(mean_squared_error(y_test, pred)))\n"
   ]
  },
  {
   "cell_type": "code",
   "execution_count": 61,
   "id": "c5c8b03f",
   "metadata": {},
   "outputs": [
    {
     "name": "stdout",
     "output_type": "stream",
     "text": [
      "r2_score= 0.37895283684857994\n",
      "mean_squared_erro= 113.51923074667174\n",
      "mean_absolute_error= 4.0531348590880105\n",
      "root_mean_squared_erro= 10.6545403817655\n"
     ]
    }
   ],
   "source": [
    "\n",
    "\n",
    "##                                            SVM REGRESSOR\n",
    "from sklearn.svm import SVR\n",
    "x_train,x_test,y_train,y_test=train_test_split(scaled, y,random_state = 59,test_size=0.30,)\n",
    "\n",
    "svm = SVR()\n",
    "svm.fit(x_train, y_train)\n",
    "pred= svm.predict(x_test)\n",
    "print('r2_score=',r2_score(y_test, pred))\n",
    "print('mean_squared_erro=', mean_squared_error(y_test, pred))\n",
    "print('mean_absolute_error=', mean_absolute_error(y_test, pred))\n",
    "print('root_mean_squared_erro=', np.sqrt(mean_squared_error(y_test, pred)))"
   ]
  },
  {
   "cell_type": "code",
   "execution_count": null,
   "id": "a8e163ed",
   "metadata": {},
   "outputs": [],
   "source": []
  },
  {
   "cell_type": "code",
   "execution_count": 62,
   "id": "05dc8666",
   "metadata": {},
   "outputs": [
    {
     "name": "stdout",
     "output_type": "stream",
     "text": [
      "r2_score= 0.8370999416828095\n",
      "mean_squared_erro= 31.399389709740742\n",
      "mean_absolute_error= 1.6686275384634524\n",
      "root_mean_squared_erro= 5.603515834700634\n"
     ]
    }
   ],
   "source": [
    "##   RANDOM FOREST MODEL\n",
    "\n",
    "from sklearn.ensemble import RandomForestRegressor\n",
    "x_train,x_test,y_train,y_test=train_test_split(scaled, y,random_state = 53,test_size=0.30,)\n",
    "\n",
    "rf = RandomForestRegressor()\n",
    "rf.fit(x_train, y_train)\n",
    "pred= rf.predict(x_test)\n",
    "print('r2_score=',r2_score(y_test, pred))\n",
    "print('mean_squared_erro=', mean_squared_error(y_test, pred))\n",
    "print('mean_absolute_error=', mean_absolute_error(y_test, pred))\n",
    "print('root_mean_squared_erro=', np.sqrt(mean_squared_error(y_test, pred)))"
   ]
  },
  {
   "cell_type": "code",
   "execution_count": null,
   "id": "6c9d9a8b",
   "metadata": {},
   "outputs": [],
   "source": []
  },
  {
   "cell_type": "code",
   "execution_count": null,
   "id": "81c09d71",
   "metadata": {},
   "outputs": [],
   "source": []
  },
  {
   "cell_type": "code",
   "execution_count": 63,
   "id": "8e73b118",
   "metadata": {
    "scrolled": true
   },
   "outputs": [
    {
     "data": {
      "text/html": [
       "<div>\n",
       "<style scoped>\n",
       "    .dataframe tbody tr th:only-of-type {\n",
       "        vertical-align: middle;\n",
       "    }\n",
       "\n",
       "    .dataframe tbody tr th {\n",
       "        vertical-align: top;\n",
       "    }\n",
       "\n",
       "    .dataframe thead th {\n",
       "        text-align: right;\n",
       "    }\n",
       "</style>\n",
       "<table border=\"1\" class=\"dataframe\">\n",
       "  <thead>\n",
       "    <tr style=\"text-align: right;\">\n",
       "      <th></th>\n",
       "      <th>fuel</th>\n",
       "      <th>type</th>\n",
       "      <th>price_in_lakh</th>\n",
       "      <th>body</th>\n",
       "      <th>model</th>\n",
       "      <th>year</th>\n",
       "      <th>car_brand</th>\n",
       "      <th>kilometer</th>\n",
       "    </tr>\n",
       "  </thead>\n",
       "  <tbody>\n",
       "    <tr>\n",
       "      <th>0</th>\n",
       "      <td>4</td>\n",
       "      <td>0</td>\n",
       "      <td>7.59</td>\n",
       "      <td>SUV</td>\n",
       "      <td>Captur</td>\n",
       "      <td>2018</td>\n",
       "      <td>6</td>\n",
       "      <td>15769.0</td>\n",
       "    </tr>\n",
       "    <tr>\n",
       "      <th>1</th>\n",
       "      <td>3</td>\n",
       "      <td>1</td>\n",
       "      <td>12.17</td>\n",
       "      <td>SUV</td>\n",
       "      <td>Nexon</td>\n",
       "      <td>2021</td>\n",
       "      <td>11</td>\n",
       "      <td>34960.0</td>\n",
       "    </tr>\n",
       "    <tr>\n",
       "      <th>2</th>\n",
       "      <td>4</td>\n",
       "      <td>0</td>\n",
       "      <td>9.21</td>\n",
       "      <td>SUV</td>\n",
       "      <td>Creta</td>\n",
       "      <td>2016</td>\n",
       "      <td>13</td>\n",
       "      <td>42940.0</td>\n",
       "    </tr>\n",
       "    <tr>\n",
       "      <th>3</th>\n",
       "      <td>4</td>\n",
       "      <td>0</td>\n",
       "      <td>7.87</td>\n",
       "      <td>SUV</td>\n",
       "      <td>WR-V</td>\n",
       "      <td>2018</td>\n",
       "      <td>8</td>\n",
       "      <td>30135.0</td>\n",
       "    </tr>\n",
       "    <tr>\n",
       "      <th>4</th>\n",
       "      <td>4</td>\n",
       "      <td>0</td>\n",
       "      <td>10.38</td>\n",
       "      <td>SUV</td>\n",
       "      <td>Nexon</td>\n",
       "      <td>2021</td>\n",
       "      <td>11</td>\n",
       "      <td>15277.0</td>\n",
       "    </tr>\n",
       "  </tbody>\n",
       "</table>\n",
       "</div>"
      ],
      "text/plain": [
       "   fuel  type  price_in_lakh body   model  year  car_brand  kilometer\n",
       "0     4     0           7.59  SUV  Captur  2018          6    15769.0\n",
       "1     3     1          12.17  SUV   Nexon  2021         11    34960.0\n",
       "2     4     0           9.21  SUV   Creta  2016         13    42940.0\n",
       "3     4     0           7.87  SUV    WR-V  2018          8    30135.0\n",
       "4     4     0          10.38  SUV   Nexon  2021         11    15277.0"
      ]
     },
     "execution_count": 63,
     "metadata": {},
     "output_type": "execute_result"
    }
   ],
   "source": [
    "df.head()"
   ]
  },
  {
   "cell_type": "code",
   "execution_count": 69,
   "id": "b1dd8d0f",
   "metadata": {},
   "outputs": [],
   "source": [
    "\n",
    "df2= df.copy()"
   ]
  },
  {
   "cell_type": "code",
   "execution_count": 76,
   "id": "8b2d0c23",
   "metadata": {},
   "outputs": [],
   "source": [
    "##  apply pandas get_dummies on categorical value and after build linear-regression model then we get very minimum r2_score\n",
    "\n",
    "## so we used Label-Encoding over two categorical variables then get r2_score = 56\n",
    "\n",
    "from sklearn.preprocessing import LabelEncoder\n",
    "\n",
    "for col in df2.select_dtypes(include='object'):\n",
    "    le=LabelEncoder()\n",
    "    d2=le.fit_transform(df2[col]) \n",
    "    df2[col]=d2\n",
    "    \n",
    "    \n",
    "x2= df2.drop('price_in_lakh', axis=1)\n",
    "y2= df2['price_in_lakh']\n",
    "\n",
    "scaler1 = StandardScaler()\n",
    "scaled1 = scaler1.fit_transform(x2)\n",
    "scaled1 = pd.DataFrame( scaled1, columns= x2.columns)"
   ]
  },
  {
   "cell_type": "code",
   "execution_count": 71,
   "id": "fd944639",
   "metadata": {},
   "outputs": [
    {
     "data": {
      "text/html": [
       "<div>\n",
       "<style scoped>\n",
       "    .dataframe tbody tr th:only-of-type {\n",
       "        vertical-align: middle;\n",
       "    }\n",
       "\n",
       "    .dataframe tbody tr th {\n",
       "        vertical-align: top;\n",
       "    }\n",
       "\n",
       "    .dataframe thead th {\n",
       "        text-align: right;\n",
       "    }\n",
       "</style>\n",
       "<table border=\"1\" class=\"dataframe\">\n",
       "  <thead>\n",
       "    <tr style=\"text-align: right;\">\n",
       "      <th></th>\n",
       "      <th>fuel</th>\n",
       "      <th>type</th>\n",
       "      <th>body</th>\n",
       "      <th>model</th>\n",
       "      <th>year</th>\n",
       "      <th>car_brand</th>\n",
       "      <th>kilometer</th>\n",
       "    </tr>\n",
       "  </thead>\n",
       "  <tbody>\n",
       "    <tr>\n",
       "      <th>0</th>\n",
       "      <td>4</td>\n",
       "      <td>0</td>\n",
       "      <td>2</td>\n",
       "      <td>50</td>\n",
       "      <td>2018</td>\n",
       "      <td>6</td>\n",
       "      <td>15769.0</td>\n",
       "    </tr>\n",
       "    <tr>\n",
       "      <th>1</th>\n",
       "      <td>3</td>\n",
       "      <td>1</td>\n",
       "      <td>2</td>\n",
       "      <td>150</td>\n",
       "      <td>2021</td>\n",
       "      <td>11</td>\n",
       "      <td>34960.0</td>\n",
       "    </tr>\n",
       "    <tr>\n",
       "      <th>2</th>\n",
       "      <td>4</td>\n",
       "      <td>0</td>\n",
       "      <td>2</td>\n",
       "      <td>69</td>\n",
       "      <td>2016</td>\n",
       "      <td>13</td>\n",
       "      <td>42940.0</td>\n",
       "    </tr>\n",
       "  </tbody>\n",
       "</table>\n",
       "</div>"
      ],
      "text/plain": [
       "   fuel  type  body  model  year  car_brand  kilometer\n",
       "0     4     0     2     50  2018          6    15769.0\n",
       "1     3     1     2    150  2021         11    34960.0\n",
       "2     4     0     2     69  2016         13    42940.0"
      ]
     },
     "execution_count": 71,
     "metadata": {},
     "output_type": "execute_result"
    }
   ],
   "source": [
    "x2.head(3)"
   ]
  },
  {
   "cell_type": "code",
   "execution_count": 74,
   "id": "0300730f",
   "metadata": {},
   "outputs": [
    {
     "data": {
      "text/plain": [
       "fuel         0\n",
       "type         0\n",
       "body         0\n",
       "model        0\n",
       "year         0\n",
       "car_brand    0\n",
       "kilometer    0\n",
       "dtype: int64"
      ]
     },
     "execution_count": 74,
     "metadata": {},
     "output_type": "execute_result"
    }
   ],
   "source": [
    "x2.isnull().sum()"
   ]
  },
  {
   "cell_type": "code",
   "execution_count": 78,
   "id": "7077786a",
   "metadata": {},
   "outputs": [
    {
     "name": "stdout",
     "output_type": "stream",
     "text": [
      "r2_score= 0.5770635878066761\n",
      "mean_squared_erro= 77.3071982541808\n",
      "mean_absolute_error= 5.390186208620437\n",
      "root_mean_squared_erro= 8.792451208518635\n"
     ]
    }
   ],
   "source": [
    "\n",
    "##                                            LINEAR REGRESSION\n",
    "from sklearn.linear_model import LinearRegression\n",
    "x_train,x_test,y_train,y_test=train_test_split(scaled1, y2,random_state = 59,test_size=0.30,)\n",
    "\n",
    "LR = LinearRegression()\n",
    "LR.fit(x_train, y_train)\n",
    "LR_pred= LR.predict(x_test)\n",
    "print('r2_score=',r2_score(y_test, LR_pred))\n",
    "print('mean_squared_erro=', mean_squared_error(y_test, LR_pred))\n",
    "print('mean_absolute_error=', mean_absolute_error(y_test, LR_pred))\n",
    "print('root_mean_squared_erro=', np.sqrt(mean_squared_error(y_test, LR_pred)))"
   ]
  },
  {
   "cell_type": "code",
   "execution_count": null,
   "id": "c737458b",
   "metadata": {},
   "outputs": [],
   "source": []
  },
  {
   "cell_type": "code",
   "execution_count": 82,
   "id": "faf01a30",
   "metadata": {},
   "outputs": [
    {
     "name": "stdout",
     "output_type": "stream",
     "text": [
      "r2_score= 0.7021917594661647\n",
      "mean_squared_erro= 54.43541872709295\n",
      "mean_absolute_error= 3.141706384707371\n",
      "root_mean_squared_erro= 7.378036237854417\n"
     ]
    }
   ],
   "source": [
    "##                                            SVM REGRESSOR\n",
    "from sklearn.svm import SVR\n",
    "x_train,x_test,y_train,y_test=train_test_split(scaled1, y2,random_state = 59,test_size=0.30,)\n",
    "\n",
    "svm = SVR()\n",
    "svm.fit(x_train, y_train)\n",
    "svm_pred= svm.predict(x_test)\n",
    "print('r2_score=',r2_score(y_test, svm_pred))\n",
    "print('mean_squared_erro=', mean_squared_error(y_test, svm_pred))\n",
    "print('mean_absolute_error=', mean_absolute_error(y_test, svm_pred))\n",
    "print('root_mean_squared_erro=', np.sqrt(mean_squared_error(y_test, svm_pred)))"
   ]
  },
  {
   "cell_type": "code",
   "execution_count": 83,
   "id": "7135345e",
   "metadata": {},
   "outputs": [
    {
     "name": "stdout",
     "output_type": "stream",
     "text": [
      "r2_score= 0.8095226224204533\n",
      "mean_squared_erro= 34.81675251159874\n",
      "mean_absolute_error= 2.6322733542319745\n",
      "root_mean_squared_erro= 5.900572218996963\n"
     ]
    }
   ],
   "source": [
    "\n",
    "\n",
    "##                                           KNN REGRESSOR\n",
    "from sklearn.neighbors import KNeighborsRegressor\n",
    "x_train,x_test,y_train,y_test=train_test_split(scaled1, y2,random_state = 59,test_size=0.30,)\n",
    "\n",
    "knn = KNeighborsRegressor()\n",
    "knn.fit(x_train, y_train)\n",
    "knn_pred= knn.predict(x_test)\n",
    "print('r2_score=',r2_score(y_test, knn_pred))\n",
    "print('mean_squared_erro=', mean_squared_error(y_test, knn_pred))\n",
    "print('mean_absolute_error=', mean_absolute_error(y_test, knn_pred))\n",
    "print('root_mean_squared_erro=', np.sqrt(mean_squared_error(y_test, knn_pred)))"
   ]
  },
  {
   "cell_type": "code",
   "execution_count": null,
   "id": "803910b0",
   "metadata": {},
   "outputs": [],
   "source": []
  },
  {
   "cell_type": "code",
   "execution_count": 84,
   "id": "e6e3919d",
   "metadata": {},
   "outputs": [
    {
     "data": {
      "text/plain": [
       "<AxesSubplot:xlabel='price_in_lakh'>"
      ]
     },
     "execution_count": 84,
     "metadata": {},
     "output_type": "execute_result"
    },
    {
     "data": {
      "image/png": "[encoded data removed]",
      "text/plain": [
       "<Figure size 432x288 with 1 Axes>"
      ]
     },
     "metadata": {
      "needs_background": "light"
     },
     "output_type": "display_data"
    }
   ],
   "source": [
    "## PLOTTING REGPLOT  OF ( y_test and predicted_value ) with KNN model\n",
    "sns.regplot(y_test, knn.predict(x_test))"
   ]
  },
  {
   "cell_type": "code",
   "execution_count": null,
   "id": "761e69f3",
   "metadata": {},
   "outputs": [],
   "source": []
  },
  {
   "cell_type": "code",
   "execution_count": 85,
   "id": "32b454bc",
   "metadata": {},
   "outputs": [
    {
     "name": "stdout",
     "output_type": "stream",
     "text": [
      "r2_score= 0.9145610754153911\n",
      "mean_squared_erro= 15.617108603236561\n",
      "mean_absolute_error= 1.884420336176363\n",
      "root_mean_squared_erro= 3.951848757636932\n"
     ]
    }
   ],
   "source": [
    "\n",
    "##                                           RANDOMFOREST REGRESSOR\n",
    "from sklearn.ensemble import RandomForestRegressor\n",
    "x_train,x_test,y_train,y_test=train_test_split(scaled1, y2,random_state = 59,test_size=0.30,)\n",
    "\n",
    "RF = RandomForestRegressor()\n",
    "RF.fit(x_train, y_train)\n",
    "RF_pred= RF.predict(x_test)\n",
    "print('r2_score=',r2_score(y_test, RF_pred))\n",
    "print('mean_squared_erro=', mean_squared_error(y_test, RF_pred))\n",
    "print('mean_absolute_error=', mean_absolute_error(y_test, RF_pred))\n",
    "print('root_mean_squared_erro=', np.sqrt(mean_squared_error(y_test, RF_pred)))"
   ]
  },
  {
   "cell_type": "code",
   "execution_count": 86,
   "id": "c39cc6ea",
   "metadata": {},
   "outputs": [
    {
     "data": {
      "text/plain": [
       "<AxesSubplot:xlabel='price_in_lakh'>"
      ]
     },
     "execution_count": 86,
     "metadata": {},
     "output_type": "execute_result"
    },
    {
     "data": {
      "image/png": "[encoded data removed]",
      "text/plain": [
       "<Figure size 432x288 with 1 Axes>"
      ]
     },
     "metadata": {
      "needs_background": "light"
     },
     "output_type": "display_data"
    }
   ],
   "source": [
    "\n",
    "## PLOTTING REGPLOT  OF ( y_test and predicted_value ) with RandomForest model\n",
    "\n",
    "sns.regplot(y_test, RF.predict(x_test))"
   ]
  },
  {
   "cell_type": "code",
   "execution_count": null,
   "id": "e096fb1b",
   "metadata": {},
   "outputs": [],
   "source": []
  },
  {
   "cell_type": "code",
   "execution_count": null,
   "id": "64f044b0",
   "metadata": {},
   "outputs": [],
   "source": []
  },
  {
   "cell_type": "code",
   "execution_count": 120,
   "id": "d73eab48",
   "metadata": {},
   "outputs": [],
   "source": [
    "from sklearn.linear_model import RidgeCV\n",
    "\n",
    "rcv= RidgeCV(alphas= np.arange(0.001,0.2,0.01), normalize=True,)\n",
    "rcv.fit(x_train, y_train)\n",
    "alpha=rcv.alpha_"
   ]
  },
  {
   "cell_type": "code",
   "execution_count": 125,
   "id": "789976e0",
   "metadata": {},
   "outputs": [
    {
     "name": "stdout",
     "output_type": "stream",
     "text": [
      "r2_score= 0.577063587960078\n",
      "mean_squared_erro= 77.30719822614098\n",
      "mean_absolute_error= 5.390185599792566\n",
      "root_mean_squared_erro= 8.792451206924095\n"
     ]
    }
   ],
   "source": [
    "\n",
    "from sklearn.linear_model import Ridge\n",
    "ridge= Ridge(alpha= alpha)\n",
    "ridge.fit(x_train, y_train)\n",
    "\n",
    "r_pred= ridge.predict(x_test)\n",
    "print('r2_score=',r2_score(y_test, r_pred))\n",
    "print('mean_squared_erro=', mean_squared_error(y_test, r_pred))\n",
    "print('mean_absolute_error=', mean_absolute_error(y_test, r_pred))\n",
    "print('root_mean_squared_erro=', np.sqrt(mean_squared_error(y_test, r_pred)))"
   ]
  },
  {
   "cell_type": "code",
   "execution_count": null,
   "id": "6cb24370",
   "metadata": {},
   "outputs": [],
   "source": []
  },
  {
   "cell_type": "code",
   "execution_count": null,
   "id": "3c80f2c7",
   "metadata": {},
   "outputs": [],
   "source": [
    "## let's apply cross_validation"
   ]
  },
  {
   "cell_type": "code",
   "execution_count": 126,
   "id": "50d1f468",
   "metadata": {},
   "outputs": [],
   "source": [
    "from sklearn.model_selection import cross_val_score\n",
    "from sklearn.model_selection import KFold\n",
    "kfold= KFold(n_splits=12, shuffle=True, random_state=59)\n"
   ]
  },
  {
   "cell_type": "code",
   "execution_count": 131,
   "id": "10b05ebb",
   "metadata": {},
   "outputs": [
    {
     "data": {
      "text/plain": [
       "0.8351589435684749"
      ]
     },
     "execution_count": 131,
     "metadata": {},
     "output_type": "execute_result"
    }
   ],
   "source": [
    "## CROSS_VALIDATION WITH  RANDOMFOREST\n",
    "(cross_val_score(RF, x_train,y_train, cv=kfold)).mean()"
   ]
  },
  {
   "cell_type": "code",
   "execution_count": 132,
   "id": "655e7f3b",
   "metadata": {},
   "outputs": [
    {
     "data": {
      "text/plain": [
       "0.7484786199784838"
      ]
     },
     "execution_count": 132,
     "metadata": {},
     "output_type": "execute_result"
    }
   ],
   "source": [
    "## CROSS_VALIDATION WITH  KNN\n",
    "(cross_val_score(knn, x_train,y_train, cv=kfold)).mean()"
   ]
  },
  {
   "cell_type": "code",
   "execution_count": 133,
   "id": "373d1176",
   "metadata": {},
   "outputs": [
    {
     "data": {
      "text/plain": [
       "0.6438795840367649"
      ]
     },
     "execution_count": 133,
     "metadata": {},
     "output_type": "execute_result"
    }
   ],
   "source": [
    "\n",
    "## CROSS_VALIDATION WITH  SVR\n",
    "(cross_val_score(svm, x_train,y_train, cv=kfold)).mean()"
   ]
  },
  {
   "cell_type": "code",
   "execution_count": null,
   "id": "c9864575",
   "metadata": {},
   "outputs": [],
   "source": []
  },
  {
   "cell_type": "raw",
   "id": "7fe83d13",
   "metadata": {},
   "source": [
    "LET'S USE HYPERPARAPETER TUNING WITH GRIDSEARCHCV"
   ]
  },
  {
   "cell_type": "code",
   "execution_count": 139,
   "id": "c629294a",
   "metadata": {},
   "outputs": [
    {
     "name": "stdout",
     "output_type": "stream",
     "text": [
      "best_parameter= {'max_depth': 14, 'min_samples_leaf': 1, 'min_samples_split': 2, 'n_estimators': 280} \n",
      "\n"
     ]
    }
   ],
   "source": [
    "#  HYPERPARAMATER TUNING                   '''' RANDOMFOREST-REGRESSOR''''\n",
    "from sklearn.model_selection import GridSearchCV\n",
    "\n",
    "x_train, x_test,y_train,y_test= train_test_split(scaled1,y2, test_size=0.30, random_state= 59)\n",
    "param= {'n_estimators':[100,180, 280],'max_depth':[11,14,17,19] ,'min_samples_split':[2,3],'min_samples_leaf':[1,2,3] }\n",
    "gcv = GridSearchCV(RF ,param, cv=kfold,n_jobs=-1)\n",
    "\n",
    "gcv.fit(x_train,y_train)\n",
    "print('best_parameter=', gcv.best_params_ ,'\\n')\n",
    "\n",
    "\n"
   ]
  },
  {
   "cell_type": "code",
   "execution_count": 141,
   "id": "2044bc80",
   "metadata": {},
   "outputs": [
    {
     "name": "stdout",
     "output_type": "stream",
     "text": [
      "r2_score= 0.9146266648354252\n",
      "mean_squared_erro= 15.605119722280065\n",
      "mean_absolute_error= 1.882045344043932\n",
      "root_mean_squared_erro= 3.950331596496687\n"
     ]
    }
   ],
   "source": [
    "\n",
    "x_train, x_test,y_train,y_test= train_test_split(scaled1,y2, test_size=0.30, random_state= 59)\n",
    "\n",
    "G_RF= RandomForestRegressor(n_estimators=280,max_depth=14,oob_score=True)\n",
    "G_RF.fit(x_train, y_train)\n",
    "y_pred = G_RF.predict(x_test)\n",
    "\n",
    "print('r2_score=',r2_score(y_test, y_pred))\n",
    "print('mean_squared_erro=', mean_squared_error(y_test, y_pred))\n",
    "print('mean_absolute_error=', mean_absolute_error(y_test, y_pred))\n",
    "print('root_mean_squared_erro=', np.sqrt(mean_squared_error(y_test, y_pred)))"
   ]
  },
  {
   "cell_type": "raw",
   "id": "e4e8b887",
   "metadata": {},
   "source": [
    "\n",
    "\n",
    "I HAVE DONE ALL THE WORK ON THIS DATASET AS (DATA-CLEANING, DATA-PREPROCESSING & EDA, MODEL BUILDING, EVALUATION, \n",
    "  SELECT BEST MODEL)\n",
    "\n",
    ". WE BUILT THE MODEL USING WITH FOUR ALGORITHM (Linear-Regression, SVR, KNN-Regressor, RandomForest)\n",
    ". Linear-Regression  =   57 percent r2_score\n",
    "     SVR             =   70 percent r2_score\n",
    "    KNN-Regressor    =   80 percent r2_score\n",
    "    RandomForest     =   91 percent r2_score\n",
    "    \n",
    "\n",
    ".I got the best r2_score , mean_squared _error & cross_validation score\n",
    "  from RandomForest model therefore I saved this model "
   ]
  },
  {
   "cell_type": "raw",
   "id": "28564d2f",
   "metadata": {},
   "source": [
    "\n",
    "##           SAVE THE hyper tunned RandomForest MODEL\n"
   ]
  },
  {
   "cell_type": "code",
   "execution_count": 149,
   "id": "85e3585c",
   "metadata": {},
   "outputs": [],
   "source": [
    "import pickle\n",
    "\n",
    "car_price = 'car_price.pickle'\n",
    "\n",
    "pickle.dump(G_RF,open(car_price, 'wb'))\n"
   ]
  },
  {
   "cell_type": "code",
   "execution_count": null,
   "id": "71d4a914",
   "metadata": {},
   "outputs": [],
   "source": []
  },
  {
   "cell_type": "code",
   "execution_count": null,
   "id": "b7ce43a2",
   "metadata": {},
   "outputs": [],
   "source": []
  }
 ],
 "metadata": {
  "kernelspec": {
   "display_name": "Python 3 (ipykernel)",
   "language": "python",
   "name": "python3"
  },
  "language_info": {
   "codemirror_mode": {
    "name": "ipython",
    "version": 3
   },
   "file_extension": ".py",
   "mimetype": "text/x-python",
   "name": "python",
   "nbconvert_exporter": "python",
   "pygments_lexer": "ipython3",
   "version": "3.10.2"
  }
 },
 "nbformat": 4,
 "nbformat_minor": 5
}
