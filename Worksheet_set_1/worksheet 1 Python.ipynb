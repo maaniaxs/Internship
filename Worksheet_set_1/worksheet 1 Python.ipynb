{
 "cells": [
  {
   "cell_type": "code",
   "execution_count": 4,
   "id": "9d0ea232",
   "metadata": {},
   "outputs": [
    {
     "name": "stdout",
     "output_type": "stream",
     "text": [
      "The factorial of 5 = 120\n"
     ]
    }
   ],
   "source": [
    "#  11.Write a python program to find the factorial of a number.\n",
    "#  example\n",
    "   # we find factorial of 5\n",
    "f= 1\n",
    "for n in range(1,6):\n",
    "    f= n*f\n",
    "    \n",
    "print('The factorial of 5 =',f)\n"
   ]
  },
  {
   "cell_type": "code",
   "execution_count": 54,
   "id": "9d103233",
   "metadata": {},
   "outputs": [
    {
     "name": "stdout",
     "output_type": "stream",
     "text": [
      "enter number6\n",
      "number is prime 6\n",
      "number is composite 6\n",
      "number is prime 6\n",
      "number is prime 6\n"
     ]
    }
   ],
   "source": [
    "#  Q.12  Write a python program to find whether a number is prime or composite\n",
    "\n",
    "\n",
    "number=int(input('enter number'))\n",
    "    \n",
    "for i in range(2,number):\n",
    "    if (num % i) == 0 :\n",
    "        print('number is composite',number)\n",
    "    else:\n",
    "        print('number is prime',number)"
   ]
  },
  {
   "cell_type": "code",
   "execution_count": 14,
   "id": "9a385fdc",
   "metadata": {},
   "outputs": [
    {
     "name": "stdout",
     "output_type": "stream",
     "text": [
      "malayalam\n",
      "yes it is palindrome\n"
     ]
    }
   ],
   "source": [
    "# 13.  Write a python program to check whether a given string is palindrome or not\n",
    "    \n",
    "string='malayAlaM'\n",
    "s=string.casefold()  # casefold() convert capital string into small\n",
    "print(s)    \n",
    "rev=reversed(s)\n",
    "\n",
    "# check  reversed string is is to the original string then palindrome\n",
    "if list(s) == list(rev):\n",
    "    print('yes it is palindrome')\n",
    "else:\n",
    "    print('it is not palindrome')"
   ]
  },
  {
   "cell_type": "raw",
   "id": "2a0c11c4",
   "metadata": {},
   "source": [
    "Q14. Write a Python program to get the third side of right-angled triangle from two given sides.\n"
   ]
  },
  {
   "cell_type": "code",
   "execution_count": 13,
   "id": "2495affd",
   "metadata": {},
   "outputs": [
    {
     "name": "stdout",
     "output_type": "stream",
     "text": [
      "Hypotenuse = 5.0\n",
      "base = 4.0\n",
      "perpendicular = 3.0\n"
     ]
    }
   ],
   "source": [
    "def pythagoras(perpendicular,base,hypotenuse):\n",
    "        if perpendicular == str(\"x\"):\n",
    "            return (\"perpendicular = \" + str(((hypotenuse**2) - (base**2))**0.5))\n",
    "        if base == str(\"x\"):\n",
    "            return (\"base = \" + str(((hypotenuse**2) - (perpendicular**2))**0.5))\n",
    "        elif hypotenuse == str(\"x\"):\n",
    "            return (\"Hypotenuse = \" + str(((perpendicular**2) + (base**2))**0.5))\n",
    "        \n",
    "    \n",
    "print(pythagoras(3,4,'x'))\n",
    "print(pythagoras(3,'x',5))\n",
    "print(pythagoras('x',4,5))\n"
   ]
  },
  {
   "cell_type": "code",
   "execution_count": 2,
   "id": "8a5c2df4",
   "metadata": {},
   "outputs": [],
   "source": [
    "from collections import Counter"
   ]
  },
  {
   "cell_type": "raw",
   "id": "08f69435",
   "metadata": {},
   "source": [
    "Q15. Write a python program to print the frequency of each of the \n",
    "    characters present in a given  string.\n",
    "\n"
   ]
  },
  {
   "cell_type": "code",
   "execution_count": 3,
   "id": "f651e711",
   "metadata": {},
   "outputs": [
    {
     "name": "stdout",
     "output_type": "stream",
     "text": [
      "{'m': 1, 'a': 3, 'n': 2, 'i': 2, 's': 1, 'g': 1, 'h': 1}\n"
     ]
    }
   ],
   "source": [
    "# check each character frequency\n",
    "freq='maaniasingh'\n",
    "\n",
    "count=Counter(freq)\n",
    "dic=  {i:a for i,a in count.items() }\n",
    "print(dic)"
   ]
  },
  {
   "cell_type": "code",
   "execution_count": null,
   "id": "45bdaf39",
   "metadata": {},
   "outputs": [],
   "source": []
  }
 ],
 "metadata": {
  "kernelspec": {
   "display_name": "Python 3 (ipykernel)",
   "language": "python",
   "name": "python3"
  },
  "language_info": {
   "codemirror_mode": {
    "name": "ipython",
    "version": 3
   },
   "file_extension": ".py",
   "mimetype": "text/x-python",
   "name": "python",
   "nbconvert_exporter": "python",
   "pygments_lexer": "ipython3",
   "version": "3.10.2"
  }
 },
 "nbformat": 4,
 "nbformat_minor": 5
}
