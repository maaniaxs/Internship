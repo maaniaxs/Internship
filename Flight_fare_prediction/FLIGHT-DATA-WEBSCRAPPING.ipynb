{
 "cells": [
  {
   "cell_type": "code",
   "execution_count": null,
   "id": "b268ff6c",
   "metadata": {},
   "outputs": [],
   "source": []
  },
  {
   "cell_type": "code",
   "execution_count": 1,
   "id": "ceaa4035",
   "metadata": {},
   "outputs": [],
   "source": [
    "#\n",
    "import selenium\n",
    "import pandas as pd\n",
    "from selenium import webdriver\n",
    "\n",
    "from selenium.webdriver.common.by import By\n",
    "from selenium.webdriver.common.keys import Keys\n",
    "import warnings\n",
    "warnings.filterwarnings('ignore')\n",
    "\n",
    "import time"
   ]
  },
  {
   "cell_type": "code",
   "execution_count": 2,
   "id": "b82af73b",
   "metadata": {},
   "outputs": [],
   "source": [
    "\n",
    "driver = webdriver.Chrome(r'C:\\Users\\acer\\INTERNSHIP_WORSHEET\\chromedriver.exe')"
   ]
  },
  {
   "cell_type": "code",
   "execution_count": 3,
   "id": "5d975e9c",
   "metadata": {},
   "outputs": [],
   "source": [
    "driver.get('https://www.makemytrip.com/')"
   ]
  },
  {
   "cell_type": "code",
   "execution_count": 4,
   "id": "279d0687",
   "metadata": {},
   "outputs": [],
   "source": [
    "# SEARCH DELHI TO BENGALURU FLIGHT PRICE \n",
    "driver.find_element(By.XPATH,'/html/body/div[1]/div/div[2]/div/div/div[2]/p/a').click()"
   ]
  },
  {
   "cell_type": "code",
   "execution_count": 8,
   "id": "e62056f6",
   "metadata": {},
   "outputs": [],
   "source": [
    "#\n",
    "sep19_eco=[]\n",
    "data= driver.find_elements(By.XPATH,'//div[@class= \"makeFlex simpleow\"]')\n",
    "for i in data:\n",
    "    print(' '.join(i.text.split()))"
   ]
  },
  {
   "cell_type": "code",
   "execution_count": null,
   "id": "e552bd6c",
   "metadata": {},
   "outputs": [],
   "source": []
  },
  {
   "cell_type": "code",
   "execution_count": 10,
   "id": "968fae68",
   "metadata": {
    "collapsed": true
   },
   "outputs": [
    {
     "name": "stdout",
     "output_type": "stream",
     "text": [
      "Kolkata\n",
      "Kolkata\n",
      "Kolkata\n",
      "Kolkata\n",
      "Kolkata\n",
      "Kolkata\n",
      "Kolkata\n",
      "Kolkata\n",
      "Kolkata\n",
      "Kolkata\n",
      "Kolkata\n",
      "Kolkata\n",
      "Kolkata\n",
      "Kolkata\n",
      "Kolkata\n",
      "Kolkata\n",
      "Kolkata\n",
      "Kolkata\n",
      "Kolkata\n",
      "Kolkata\n",
      "Kolkata\n",
      "Kolkata\n",
      "Kolkata\n",
      "Kolkata\n",
      "Kolkata\n",
      "Kolkata\n",
      "Kolkata\n"
     ]
    }
   ],
   "source": [
    "#from = driver.find_elements(By.XPATH,'//p[@class= \"blackText\"]')\n",
    "#for i in from:\n",
    "#    print(i.text)\n",
    "From = driver.find_elements(By.XPATH,'//div[@class= \"flexOne timeInfoRight\"]/p[2]')\n",
    "for i in From:\n",
    "    print(i.text)"
   ]
  },
  {
   "cell_type": "code",
   "execution_count": 17,
   "id": "699fb67b",
   "metadata": {},
   "outputs": [
    {
     "name": "stdout",
     "output_type": "stream",
     "text": [
      "29\n",
      "29\n"
     ]
    }
   ],
   "source": [
    "\n",
    "                                                  ##  ECONOMY CLASS\n",
    "## 24 SEPTEMBER  FROM NEW-DELHI TO KOLKATA ALL FLIGHT TICKET INFO        \n",
    "\n",
    "flight= []    ##    FLIGHT COMPANY NAME\n",
    "departure = []      ##     DEPARTURE TIME\n",
    "arival =[]      ##     ARIVAL TIME\n",
    "price =[]      #     FLIGHT FARE PRICE\n",
    "duration = []       #     TRAVEL DURATION TIME\n",
    "FROM = []             #  DERARTURE FROM \n",
    "TO= []                      # \n",
    "CLASS= []                   #  \n",
    "DATE=[]                    # DEPARTURE DATE\n",
    "flight_code= []      # FLIGHT-CODE\n",
    "\n",
    "fli = driver.find_elements(By.XPATH,'//p[@class= \"boldFont blackText airlineName\"]')\n",
    "for i in fli:\n",
    "    flight.append(i.text)\n",
    "f_code = driver.find_elements(By.XPATH,'//p[@class= \"fliCode\"]')\n",
    "for i in f_code:\n",
    "    flight_code.append(i.text)\n",
    "To = driver.find_elements(By.XPATH,'//div[@class= \"flexOne timeInfoRight\"]/p[2]')\n",
    "for i in To:\n",
    "    TO.append(i.text)\n",
    "\n",
    "From = driver.find_elements(By.XPATH,'//div[@class= \"flexOne timeInfoLeft\"]/p[2]')\n",
    "for i in From:\n",
    "    FROM.append(i.text)\n",
    "time.sleep(1)\n",
    "dep = driver.find_elements(By.XPATH,'//div[@class= \"makeFlex fontSize12 flexOne gap-x-10\"]/div[1]/p/span')\n",
    "for i in dep:\n",
    "    departure.append(i.text)   \n",
    "ariv = driver.find_elements(By.XPATH,'//div[@class= \"makeFlex fontSize12 flexOne gap-x-10\"]/div[3]/p/span[1]')\n",
    "for i in ariv:\n",
    "    arival.append(i.text)  \n",
    "    \n",
    "pric = driver.find_elements(By.XPATH,'//div[@class= \"textRight flexOne\"]/p')\n",
    "for i in pric:\n",
    "    price.append(i.text)\n",
    "dur = driver.find_elements(By.XPATH,'//div[@class= \"stop-info flexOne\"]/p')\n",
    "for i in dur:\n",
    "    duration.append(i.text)\n",
    "    \n",
    "time.sleep(2)\n",
    "for i in dur:\n",
    "    CLASS.append('economy')\n",
    "    DATE.append('24-09-2022')\n",
    "print(len(FROM))\n",
    "print(len(flight))"
   ]
  },
  {
   "cell_type": "code",
   "execution_count": 18,
   "id": "18793502",
   "metadata": {},
   "outputs": [
    {
     "name": "stdout",
     "output_type": "stream",
     "text": [
      "57\n",
      "57\n"
     ]
    }
   ],
   "source": [
    "\n",
    "fli = driver.find_elements(By.XPATH,'//p[@class= \"boldFont blackText airlineName\"]')\n",
    "for i in fli:\n",
    "    flight.append(i.text)\n",
    "f_code = driver.find_elements(By.XPATH,'//p[@class= \"fliCode\"]')\n",
    "for i in f_code:\n",
    "    flight_code.append(i.text)\n",
    "To = driver.find_elements(By.XPATH,'//div[@class= \"flexOne timeInfoRight\"]/p[2]')\n",
    "for i in To:\n",
    "    TO.append(i.text)\n",
    "\n",
    "From = driver.find_elements(By.XPATH,'//div[@class= \"flexOne timeInfoLeft\"]/p[2]')\n",
    "for i in From:\n",
    "    FROM.append(i.text)\n",
    "time.sleep(1)\n",
    "dep = driver.find_elements(By.XPATH,'//div[@class= \"makeFlex fontSize12 flexOne gap-x-10\"]/div[1]/p/span')\n",
    "for i in dep:\n",
    "    departure.append(i.text)   \n",
    "ariv = driver.find_elements(By.XPATH,'//div[@class= \"makeFlex fontSize12 flexOne gap-x-10\"]/div[3]/p/span[1]')\n",
    "for i in ariv:\n",
    "    arival.append(i.text)  \n",
    "    \n",
    "pric = driver.find_elements(By.XPATH,'//div[@class= \"textRight flexOne\"]/p')\n",
    "for i in pric:\n",
    "    price.append(i.text)\n",
    "dur = driver.find_elements(By.XPATH,'//div[@class= \"stop-info flexOne\"]/p')\n",
    "for i in dur:\n",
    "    duration.append(i.text)\n",
    "    \n",
    "time.sleep(2)\n",
    "for i in dur:\n",
    "    CLASS.append('economy')\n",
    "    DATE.append('04-10-2022')\n",
    "print(len(FROM))\n",
    "print(len(flight))"
   ]
  },
  {
   "cell_type": "code",
   "execution_count": 20,
   "id": "c3a5f3d7",
   "metadata": {},
   "outputs": [
    {
     "name": "stdout",
     "output_type": "stream",
     "text": [
      "83\n",
      "83\n"
     ]
    }
   ],
   "source": [
    "\n",
    "fli = driver.find_elements(By.XPATH,'//p[@class= \"boldFont blackText airlineName\"]')\n",
    "for i in fli:\n",
    "    flight.append(i.text)\n",
    "f_code = driver.find_elements(By.XPATH,'//p[@class= \"fliCode\"]')\n",
    "for i in f_code:\n",
    "    flight_code.append(i.text)\n",
    "To = driver.find_elements(By.XPATH,'//div[@class= \"flexOne timeInfoRight\"]/p[2]')\n",
    "for i in To:\n",
    "    TO.append(i.text)\n",
    "\n",
    "From = driver.find_elements(By.XPATH,'//div[@class= \"flexOne timeInfoLeft\"]/p[2]')\n",
    "for i in From:\n",
    "    FROM.append(i.text)\n",
    "time.sleep(1)\n",
    "dep = driver.find_elements(By.XPATH,'//div[@class= \"makeFlex fontSize12 flexOne gap-x-10\"]/div[1]/p/span')\n",
    "for i in dep:\n",
    "    departure.append(i.text)   \n",
    "ariv = driver.find_elements(By.XPATH,'//div[@class= \"makeFlex fontSize12 flexOne gap-x-10\"]/div[3]/p/span[1]')\n",
    "for i in ariv:\n",
    "    arival.append(i.text)  \n",
    "    \n",
    "pric = driver.find_elements(By.XPATH,'//div[@class= \"textRight flexOne\"]/p')\n",
    "for i in pric:\n",
    "    price.append(i.text)\n",
    "dur = driver.find_elements(By.XPATH,'//div[@class= \"stop-info flexOne\"]/p')\n",
    "for i in dur:\n",
    "    duration.append(i.text)\n",
    "    \n",
    "time.sleep(2)\n",
    "for i in dur:\n",
    "    CLASS.append('premium')\n",
    "    DATE.append('24-09-2022')\n",
    "print(len(FROM))\n",
    "print(len(flight))"
   ]
  },
  {
   "cell_type": "code",
   "execution_count": 21,
   "id": "1cf301d0",
   "metadata": {},
   "outputs": [
    {
     "name": "stdout",
     "output_type": "stream",
     "text": [
      "94\n",
      "94\n"
     ]
    }
   ],
   "source": [
    "\n",
    "fli = driver.find_elements(By.XPATH,'//p[@class= \"boldFont blackText airlineName\"]')\n",
    "for i in fli:\n",
    "    flight.append(i.text)\n",
    "f_code = driver.find_elements(By.XPATH,'//p[@class= \"fliCode\"]')\n",
    "for i in f_code:\n",
    "    flight_code.append(i.text)\n",
    "To = driver.find_elements(By.XPATH,'//div[@class= \"flexOne timeInfoRight\"]/p[2]')\n",
    "for i in To:\n",
    "    TO.append(i.text)\n",
    "\n",
    "From = driver.find_elements(By.XPATH,'//div[@class= \"flexOne timeInfoLeft\"]/p[2]')\n",
    "for i in From:\n",
    "    FROM.append(i.text)\n",
    "time.sleep(1)\n",
    "dep = driver.find_elements(By.XPATH,'//div[@class= \"makeFlex fontSize12 flexOne gap-x-10\"]/div[1]/p/span')\n",
    "for i in dep:\n",
    "    departure.append(i.text)   \n",
    "ariv = driver.find_elements(By.XPATH,'//div[@class= \"makeFlex fontSize12 flexOne gap-x-10\"]/div[3]/p/span[1]')\n",
    "for i in ariv:\n",
    "    arival.append(i.text)  \n",
    "    \n",
    "pric = driver.find_elements(By.XPATH,'//div[@class= \"textRight flexOne\"]/p')\n",
    "for i in pric:\n",
    "    price.append(i.text)\n",
    "dur = driver.find_elements(By.XPATH,'//div[@class= \"stop-info flexOne\"]/p')\n",
    "for i in dur:\n",
    "    duration.append(i.text)\n",
    "    \n",
    "time.sleep(2)\n",
    "for i in dur:\n",
    "    CLASS.append('business')\n",
    "    DATE.append('24-09-2022')\n",
    "print(len(FROM))\n",
    "print(len(flight))"
   ]
  },
  {
   "cell_type": "code",
   "execution_count": 23,
   "id": "93e03924",
   "metadata": {},
   "outputs": [
    {
     "name": "stdout",
     "output_type": "stream",
     "text": [
      "204\n",
      "204\n"
     ]
    }
   ],
   "source": [
    "# 24 september FROM NEW-DELHI TO MUMBAI\n",
    "\n",
    "fli = driver.find_elements(By.XPATH,'//p[@class= \"boldFont blackText airlineName\"]')\n",
    "for i in fli:\n",
    "    flight.append(i.text)\n",
    "f_code = driver.find_elements(By.XPATH,'//p[@class= \"fliCode\"]')\n",
    "for i in f_code:\n",
    "    flight_code.append(i.text)\n",
    "To = driver.find_elements(By.XPATH,'//div[@class= \"flexOne timeInfoRight\"]/p[2]')\n",
    "for i in To:\n",
    "    TO.append(i.text)\n",
    "\n",
    "From = driver.find_elements(By.XPATH,'//div[@class= \"flexOne timeInfoLeft\"]/p[2]')\n",
    "for i in From:\n",
    "    FROM.append(i.text)\n",
    "time.sleep(1)\n",
    "dep = driver.find_elements(By.XPATH,'//div[@class= \"makeFlex fontSize12 flexOne gap-x-10\"]/div[1]/p/span')\n",
    "for i in dep:\n",
    "    departure.append(i.text)   \n",
    "ariv = driver.find_elements(By.XPATH,'//div[@class= \"makeFlex fontSize12 flexOne gap-x-10\"]/div[3]/p/span[1]')\n",
    "for i in ariv:\n",
    "    arival.append(i.text)  \n",
    "    \n",
    "pric = driver.find_elements(By.XPATH,'//div[@class= \"textRight flexOne\"]/p')\n",
    "for i in pric:\n",
    "    price.append(i.text)\n",
    "dur = driver.find_elements(By.XPATH,'//div[@class= \"stop-info flexOne\"]/p')\n",
    "for i in dur:\n",
    "    duration.append(i.text)\n",
    "    \n",
    "time.sleep(2)\n",
    "for i in dur:\n",
    "    CLASS.append('economy')\n",
    "    DATE.append('04-10-2022')\n",
    "print(len(FROM))\n",
    "print(len(flight))"
   ]
  },
  {
   "cell_type": "code",
   "execution_count": 39,
   "id": "ebe895a4",
   "metadata": {},
   "outputs": [
    {
     "name": "stdout",
     "output_type": "stream",
     "text": [
      "251\n",
      "251\n"
     ]
    }
   ],
   "source": [
    "# 24 september FROM NEW-DELHI TO MUMBAI , premium class\n",
    "\n",
    "fli = driver.find_elements(By.XPATH,'//p[@class= \"boldFont blackText airlineName\"]')\n",
    "for i in fli:\n",
    "    flight.append(i.text)\n",
    "f_code = driver.find_elements(By.XPATH,'//p[@class= \"fliCode\"]')\n",
    "for i in f_code:\n",
    "    flight_code.append(i.text)\n",
    "To = driver.find_elements(By.XPATH,'//div[@class= \"flexOne timeInfoRight\"]/p[2]')\n",
    "for i in To:\n",
    "    TO.append(i.text)\n",
    "\n",
    "From = driver.find_elements(By.XPATH,'//div[@class= \"flexOne timeInfoLeft\"]/p[2]')\n",
    "for i in From:\n",
    "    FROM.append(i.text)\n",
    "time.sleep(1)\n",
    "dep = driver.find_elements(By.XPATH,'//div[@class= \"makeFlex fontSize12 flexOne gap-x-10\"]/div[1]/p/span')\n",
    "for i in dep:\n",
    "    departure.append(i.text)   \n",
    "ariv = driver.find_elements(By.XPATH,'//div[@class= \"makeFlex fontSize12 flexOne gap-x-10\"]/div[3]/p/span[1]')\n",
    "for i in ariv:\n",
    "    arival.append(i.text)  \n",
    "    \n",
    "pric = driver.find_elements(By.XPATH,'//div[@class= \"textRight flexOne\"]/p')\n",
    "for i in pric:\n",
    "    price.append(i.text)\n",
    "dur = driver.find_elements(By.XPATH,'//div[@class= \"stop-info flexOne\"]/p')\n",
    "for i in dur:\n",
    "    duration.append(i.text)\n",
    "    \n",
    "time.sleep(2)\n",
    "for i in dur:\n",
    "    CLASS.append('premium')\n",
    "    DATE.append('04-10-2022')\n",
    "print(len(FROM))\n",
    "print(len(flight))"
   ]
  },
  {
   "cell_type": "code",
   "execution_count": 40,
   "id": "60588157",
   "metadata": {},
   "outputs": [
    {
     "name": "stdout",
     "output_type": "stream",
     "text": [
      "280\n",
      "280\n"
     ]
    }
   ],
   "source": [
    "# 24 september FROM NEW-DELHI TO MUMBAI , business class\n",
    "\n",
    "fli = driver.find_elements(By.XPATH,'//p[@class= \"boldFont blackText airlineName\"]')\n",
    "for i in fli:\n",
    "    flight.append(i.text)\n",
    "f_code = driver.find_elements(By.XPATH,'//p[@class= \"fliCode\"]')\n",
    "for i in f_code:\n",
    "    flight_code.append(i.text)\n",
    "To = driver.find_elements(By.XPATH,'//div[@class= \"flexOne timeInfoRight\"]/p[2]')\n",
    "for i in To:\n",
    "    TO.append(i.text)\n",
    "\n",
    "From = driver.find_elements(By.XPATH,'//div[@class= \"flexOne timeInfoLeft\"]/p[2]')\n",
    "for i in From:\n",
    "    FROM.append(i.text)\n",
    "time.sleep(1)\n",
    "dep = driver.find_elements(By.XPATH,'//div[@class= \"makeFlex fontSize12 flexOne gap-x-10\"]/div[1]/p/span')\n",
    "for i in dep:\n",
    "    departure.append(i.text)   \n",
    "ariv = driver.find_elements(By.XPATH,'//div[@class= \"makeFlex fontSize12 flexOne gap-x-10\"]/div[3]/p/span[1]')\n",
    "for i in ariv:\n",
    "    arival.append(i.text)  \n",
    "    \n",
    "pric = driver.find_elements(By.XPATH,'//div[@class= \"textRight flexOne\"]/p')\n",
    "for i in pric:\n",
    "    price.append(i.text)\n",
    "dur = driver.find_elements(By.XPATH,'//div[@class= \"stop-info flexOne\"]/p')\n",
    "for i in dur:\n",
    "    duration.append(i.text)\n",
    "    \n",
    "time.sleep(2)\n",
    "for i in dur:\n",
    "    CLASS.append('business')\n",
    "    DATE.append('24-09-2022')\n",
    "print(len(FROM))\n",
    "print(len(flight))"
   ]
  },
  {
   "cell_type": "code",
   "execution_count": 51,
   "id": "fb3e15dc",
   "metadata": {},
   "outputs": [
    {
     "name": "stdout",
     "output_type": "stream",
     "text": [
      "336\n",
      "336\n"
     ]
    }
   ],
   "source": [
    "# 24 september FROM NEW-DELHI TO BENGALURU , ECONOMY class\n",
    "\n",
    "fli = driver.find_elements(By.XPATH,'//p[@class= \"boldFont blackText airlineName\"]')\n",
    "for i in fli:\n",
    "    flight.append(i.text)\n",
    "f_code = driver.find_elements(By.XPATH,'//p[@class= \"fliCode\"]')\n",
    "for i in f_code:\n",
    "    flight_code.append(i.text)\n",
    "To = driver.find_elements(By.XPATH,'//div[@class= \"flexOne timeInfoRight\"]/p[2]')\n",
    "for i in To:\n",
    "    TO.append(i.text)\n",
    "\n",
    "From = driver.find_elements(By.XPATH,'//div[@class= \"flexOne timeInfoLeft\"]/p[2]')\n",
    "for i in From:\n",
    "    FROM.append(i.text)\n",
    "time.sleep(1)\n",
    "dep = driver.find_elements(By.XPATH,'//div[@class= \"makeFlex fontSize12 flexOne gap-x-10\"]/div[1]/p/span')\n",
    "for i in dep:\n",
    "    departure.append(i.text)   \n",
    "ariv = driver.find_elements(By.XPATH,'//div[@class= \"makeFlex fontSize12 flexOne gap-x-10\"]/div[3]/p/span[1]')\n",
    "for i in ariv:\n",
    "    arival.append(i.text)  \n",
    "    \n",
    "pric = driver.find_elements(By.XPATH,'//div[@class= \"textRight flexOne\"]/p')\n",
    "for i in pric:\n",
    "    price.append(i.text)\n",
    "dur = driver.find_elements(By.XPATH,'//div[@class= \"stop-info flexOne\"]/p')\n",
    "for i in dur:\n",
    "    duration.append(i.text)\n",
    "    \n",
    "time.sleep(2)\n",
    "for i in dur:\n",
    "    CLASS.append('economy')\n",
    "    DATE.append('04-10-2022')\n",
    "print(len(FROM))\n",
    "print(len(flight))"
   ]
  },
  {
   "cell_type": "code",
   "execution_count": 53,
   "id": "611f945e",
   "metadata": {},
   "outputs": [
    {
     "name": "stdout",
     "output_type": "stream",
     "text": [
      "364\n",
      "364\n"
     ]
    }
   ],
   "source": [
    "# 04 october FROM NEW-DELHI TO BENGALURU , BUSINESS class\n",
    "\n",
    "fli = driver.find_elements(By.XPATH,'//p[@class= \"boldFont blackText airlineName\"]')\n",
    "for i in fli:\n",
    "    flight.append(i.text)\n",
    "f_code = driver.find_elements(By.XPATH,'//p[@class= \"fliCode\"]')\n",
    "for i in f_code:\n",
    "    flight_code.append(i.text)\n",
    "To = driver.find_elements(By.XPATH,'//div[@class= \"flexOne timeInfoRight\"]/p[2]')\n",
    "for i in To:\n",
    "    TO.append(i.text)\n",
    "\n",
    "From = driver.find_elements(By.XPATH,'//div[@class= \"flexOne timeInfoLeft\"]/p[2]')\n",
    "for i in From:\n",
    "    FROM.append(i.text)\n",
    "time.sleep(1)\n",
    "dep = driver.find_elements(By.XPATH,'//div[@class= \"makeFlex fontSize12 flexOne gap-x-10\"]/div[1]/p/span')\n",
    "for i in dep:\n",
    "    departure.append(i.text)   \n",
    "ariv = driver.find_elements(By.XPATH,'//div[@class= \"makeFlex fontSize12 flexOne gap-x-10\"]/div[3]/p/span[1]')\n",
    "for i in ariv:\n",
    "    arival.append(i.text)  \n",
    "    \n",
    "pric = driver.find_elements(By.XPATH,'//div[@class= \"textRight flexOne\"]/p')\n",
    "for i in pric:\n",
    "    price.append(i.text)\n",
    "dur = driver.find_elements(By.XPATH,'//div[@class= \"stop-info flexOne\"]/p')\n",
    "for i in dur:\n",
    "    duration.append(i.text)\n",
    "    \n",
    "time.sleep(2)\n",
    "for i in dur:\n",
    "    CLASS.append('business')\n",
    "    DATE.append('04-10-2022')\n",
    "print(len(FROM))\n",
    "print(len(flight))"
   ]
  },
  {
   "cell_type": "code",
   "execution_count": 55,
   "id": "201bf6a0",
   "metadata": {},
   "outputs": [
    {
     "name": "stdout",
     "output_type": "stream",
     "text": [
      "400\n",
      "400\n"
     ]
    }
   ],
   "source": [
    "# 04 october FROM NEW-DELHI TO CHENNAI , ECONOMY class\n",
    "\n",
    "fli = driver.find_elements(By.XPATH,'//p[@class= \"boldFont blackText airlineName\"]')\n",
    "for i in fli:\n",
    "    flight.append(i.text)\n",
    "f_code = driver.find_elements(By.XPATH,'//p[@class= \"fliCode\"]')\n",
    "for i in f_code:\n",
    "    flight_code.append(i.text)\n",
    "To = driver.find_elements(By.XPATH,'//div[@class= \"flexOne timeInfoRight\"]/p[2]')\n",
    "for i in To:\n",
    "    TO.append(i.text)\n",
    "\n",
    "From = driver.find_elements(By.XPATH,'//div[@class= \"flexOne timeInfoLeft\"]/p[2]')\n",
    "for i in From:\n",
    "    FROM.append(i.text)\n",
    "time.sleep(1)\n",
    "dep = driver.find_elements(By.XPATH,'//div[@class= \"makeFlex fontSize12 flexOne gap-x-10\"]/div[1]/p/span')\n",
    "for i in dep:\n",
    "    departure.append(i.text)   \n",
    "ariv = driver.find_elements(By.XPATH,'//div[@class= \"makeFlex fontSize12 flexOne gap-x-10\"]/div[3]/p/span[1]')\n",
    "for i in ariv:\n",
    "    arival.append(i.text)  \n",
    "    \n",
    "pric = driver.find_elements(By.XPATH,'//div[@class= \"textRight flexOne\"]/p')\n",
    "for i in pric:\n",
    "    price.append(i.text)\n",
    "dur = driver.find_elements(By.XPATH,'//div[@class= \"stop-info flexOne\"]/p')\n",
    "for i in dur:\n",
    "    duration.append(i.text)\n",
    "    \n",
    "time.sleep(2)\n",
    "for i in dur:\n",
    "    CLASS.append(' economy')\n",
    "    DATE.append('24-09-2022')\n",
    "print(len(FROM))\n",
    "print(len(flight)) "
   ]
  },
  {
   "cell_type": "code",
   "execution_count": 57,
   "id": "da7a372e",
   "metadata": {},
   "outputs": [
    {
     "name": "stdout",
     "output_type": "stream",
     "text": [
      "414\n",
      "414\n"
     ]
    }
   ],
   "source": [
    "# 04 october FROM NEW-DELHI TO CHENNAI , premium class\n",
    "\n",
    "fli = driver.find_elements(By.XPATH,'//p[@class= \"boldFont blackText airlineName\"]')\n",
    "for i in fli:\n",
    "    flight.append(i.text)\n",
    "f_code = driver.find_elements(By.XPATH,'//p[@class= \"fliCode\"]')\n",
    "for i in f_code:\n",
    "    flight_code.append(i.text)\n",
    "To = driver.find_elements(By.XPATH,'//div[@class= \"flexOne timeInfoRight\"]/p[2]')\n",
    "for i in To:\n",
    "    TO.append(i.text)\n",
    "\n",
    "From = driver.find_elements(By.XPATH,'//div[@class= \"flexOne timeInfoLeft\"]/p[2]')\n",
    "for i in From:\n",
    "    FROM.append(i.text)\n",
    "time.sleep(1)\n",
    "dep = driver.find_elements(By.XPATH,'//div[@class= \"makeFlex fontSize12 flexOne gap-x-10\"]/div[1]/p/span')\n",
    "for i in dep:\n",
    "    departure.append(i.text)   \n",
    "ariv = driver.find_elements(By.XPATH,'//div[@class= \"makeFlex fontSize12 flexOne gap-x-10\"]/div[3]/p/span[1]')\n",
    "for i in ariv:\n",
    "    arival.append(i.text)  \n",
    "    \n",
    "pric = driver.find_elements(By.XPATH,'//div[@class= \"textRight flexOne\"]/p')\n",
    "for i in pric:\n",
    "    price.append(i.text)\n",
    "dur = driver.find_elements(By.XPATH,'//div[@class= \"stop-info flexOne\"]/p')\n",
    "for i in dur:\n",
    "    duration.append(i.text)\n",
    "    \n",
    "time.sleep(2)\n",
    "for i in dur:\n",
    "    CLASS.append(' business')\n",
    "    DATE.append('24-09-2022')\n",
    "print(len(FROM))\n",
    "print(len(flight)) "
   ]
  },
  {
   "cell_type": "code",
   "execution_count": 59,
   "id": "a9635869",
   "metadata": {},
   "outputs": [
    {
     "name": "stdout",
     "output_type": "stream",
     "text": [
      "453\n",
      "453\n"
     ]
    }
   ],
   "source": [
    "# 04 october FROM NEW-DELHI TO AHMEDABAD , ECONOMY class\n",
    "\n",
    "fli = driver.find_elements(By.XPATH,'//p[@class= \"boldFont blackText airlineName\"]')\n",
    "for i in fli:\n",
    "    flight.append(i.text)\n",
    "f_code = driver.find_elements(By.XPATH,'//p[@class= \"fliCode\"]')\n",
    "for i in f_code:\n",
    "    flight_code.append(i.text)\n",
    "To = driver.find_elements(By.XPATH,'//div[@class= \"flexOne timeInfoRight\"]/p[2]')\n",
    "for i in To:\n",
    "    TO.append(i.text)\n",
    "\n",
    "From = driver.find_elements(By.XPATH,'//div[@class= \"flexOne timeInfoLeft\"]/p[2]')\n",
    "for i in From:\n",
    "    FROM.append(i.text)\n",
    "time.sleep(1)\n",
    "dep = driver.find_elements(By.XPATH,'//div[@class= \"makeFlex fontSize12 flexOne gap-x-10\"]/div[1]/p/span')\n",
    "for i in dep:\n",
    "    departure.append(i.text)   \n",
    "ariv = driver.find_elements(By.XPATH,'//div[@class= \"makeFlex fontSize12 flexOne gap-x-10\"]/div[3]/p/span[1]')\n",
    "for i in ariv:\n",
    "    arival.append(i.text)  \n",
    "    \n",
    "pric = driver.find_elements(By.XPATH,'//div[@class= \"textRight flexOne\"]/p')\n",
    "for i in pric:\n",
    "    price.append(i.text)\n",
    "dur = driver.find_elements(By.XPATH,'//div[@class= \"stop-info flexOne\"]/p')\n",
    "for i in dur:\n",
    "    duration.append(i.text)\n",
    "    \n",
    "time.sleep(2)\n",
    "for i in dur:\n",
    "    CLASS.append('economy')\n",
    "    DATE.append('04-10-2022')\n",
    "print(len(FROM))\n",
    "print(len(flight))  "
   ]
  },
  {
   "cell_type": "code",
   "execution_count": 61,
   "id": "1686fbd4",
   "metadata": {},
   "outputs": [
    {
     "name": "stdout",
     "output_type": "stream",
     "text": [
      "470\n",
      "470\n"
     ]
    }
   ],
   "source": [
    "# 04 october FROM NEW-DELHI TO AHMEDABAD , ECONOMY class\n",
    "\n",
    "fli = driver.find_elements(By.XPATH,'//p[@class= \"boldFont blackText airlineName\"]')\n",
    "for i in fli:\n",
    "    flight.append(i.text)\n",
    "f_code = driver.find_elements(By.XPATH,'//p[@class= \"fliCode\"]')\n",
    "for i in f_code:\n",
    "    flight_code.append(i.text)\n",
    "To = driver.find_elements(By.XPATH,'//div[@class= \"flexOne timeInfoRight\"]/p[2]')\n",
    "for i in To:\n",
    "    TO.append(i.text)\n",
    "\n",
    "From = driver.find_elements(By.XPATH,'//div[@class= \"flexOne timeInfoLeft\"]/p[2]')\n",
    "for i in From:\n",
    "    FROM.append(i.text)\n",
    "time.sleep(1)\n",
    "dep = driver.find_elements(By.XPATH,'//div[@class= \"makeFlex fontSize12 flexOne gap-x-10\"]/div[1]/p/span')\n",
    "for i in dep:\n",
    "    departure.append(i.text)   \n",
    "ariv = driver.find_elements(By.XPATH,'//div[@class= \"makeFlex fontSize12 flexOne gap-x-10\"]/div[3]/p/span[1]')\n",
    "for i in ariv:\n",
    "    arival.append(i.text)  \n",
    "    \n",
    "pric = driver.find_elements(By.XPATH,'//div[@class= \"textRight flexOne\"]/p')\n",
    "for i in pric:\n",
    "    price.append(i.text)\n",
    "dur = driver.find_elements(By.XPATH,'//div[@class= \"stop-info flexOne\"]/p')\n",
    "for i in dur:\n",
    "    duration.append(i.text)\n",
    "    \n",
    "time.sleep(2)\n",
    "for i in dur:\n",
    "    CLASS.append('business')\n",
    "    DATE.append('04-10-2022')\n",
    "print(len(FROM))\n",
    "print(len(flight))   "
   ]
  },
  {
   "cell_type": "code",
   "execution_count": 62,
   "id": "e65fc87c",
   "metadata": {},
   "outputs": [
    {
     "name": "stdout",
     "output_type": "stream",
     "text": [
      "495\n",
      "495\n"
     ]
    }
   ],
   "source": [
    "# 04 october FROM NEW-DELHI TO  pune , ECONOMY class\n",
    "\n",
    "fli = driver.find_elements(By.XPATH,'//p[@class= \"boldFont blackText airlineName\"]')\n",
    "for i in fli:\n",
    "    flight.append(i.text)\n",
    "f_code = driver.find_elements(By.XPATH,'//p[@class= \"fliCode\"]')\n",
    "for i in f_code:\n",
    "    flight_code.append(i.text)\n",
    "To = driver.find_elements(By.XPATH,'//div[@class= \"flexOne timeInfoRight\"]/p[2]')\n",
    "for i in To:\n",
    "    TO.append(i.text)\n",
    "\n",
    "From = driver.find_elements(By.XPATH,'//div[@class= \"flexOne timeInfoLeft\"]/p[2]')\n",
    "for i in From:\n",
    "    FROM.append(i.text)\n",
    "time.sleep(1)\n",
    "dep = driver.find_elements(By.XPATH,'//div[@class= \"makeFlex fontSize12 flexOne gap-x-10\"]/div[1]/p/span')\n",
    "for i in dep:\n",
    "    departure.append(i.text)   \n",
    "ariv = driver.find_elements(By.XPATH,'//div[@class= \"makeFlex fontSize12 flexOne gap-x-10\"]/div[3]/p/span[1]')\n",
    "for i in ariv:\n",
    "    arival.append(i.text)  \n",
    "    \n",
    "pric = driver.find_elements(By.XPATH,'//div[@class= \"textRight flexOne\"]/p')\n",
    "for i in pric:\n",
    "    price.append(i.text)\n",
    "dur = driver.find_elements(By.XPATH,'//div[@class= \"stop-info flexOne\"]/p')\n",
    "for i in dur:\n",
    "    duration.append(i.text)\n",
    "    \n",
    "time.sleep(2)\n",
    "for i in dur:\n",
    "    CLASS.append('economy')\n",
    "    DATE.append('24-09-2022')\n",
    "print(len(FROM))\n",
    "print(len(flight))   "
   ]
  },
  {
   "cell_type": "code",
   "execution_count": 64,
   "id": "aaff67dc",
   "metadata": {},
   "outputs": [
    {
     "name": "stdout",
     "output_type": "stream",
     "text": [
      "525\n",
      "525\n"
     ]
    }
   ],
   "source": [
    "# 04 october FROM NEW-DELHI TO  pune , premium class\n",
    "\n",
    "fli = driver.find_elements(By.XPATH,'//p[@class= \"boldFont blackText airlineName\"]')\n",
    "for i in fli:\n",
    "    flight.append(i.text)\n",
    "f_code = driver.find_elements(By.XPATH,'//p[@class= \"fliCode\"]')\n",
    "for i in f_code:\n",
    "    flight_code.append(i.text)\n",
    "To = driver.find_elements(By.XPATH,'//div[@class= \"flexOne timeInfoRight\"]/p[2]')\n",
    "for i in To:\n",
    "    TO.append(i.text)\n",
    "\n",
    "From = driver.find_elements(By.XPATH,'//div[@class= \"flexOne timeInfoLeft\"]/p[2]')\n",
    "for i in From:\n",
    "    FROM.append(i.text)\n",
    "time.sleep(1)\n",
    "dep = driver.find_elements(By.XPATH,'//div[@class= \"makeFlex fontSize12 flexOne gap-x-10\"]/div[1]/p/span')\n",
    "for i in dep:\n",
    "    departure.append(i.text)   \n",
    "ariv = driver.find_elements(By.XPATH,'//div[@class= \"makeFlex fontSize12 flexOne gap-x-10\"]/div[3]/p/span[1]')\n",
    "for i in ariv:\n",
    "    arival.append(i.text)  \n",
    "    \n",
    "pric = driver.find_elements(By.XPATH,'//div[@class= \"textRight flexOne\"]/p')\n",
    "for i in pric:\n",
    "    price.append(i.text)\n",
    "dur = driver.find_elements(By.XPATH,'//div[@class= \"stop-info flexOne\"]/p')\n",
    "for i in dur:\n",
    "    duration.append(i.text)\n",
    "    \n",
    "time.sleep(2)\n",
    "for i in dur:\n",
    "    CLASS.append('business')\n",
    "    DATE.append('24-09-2022')\n",
    "print(len(FROM)) \n",
    "print(len(flight))   "
   ]
  },
  {
   "cell_type": "code",
   "execution_count": 66,
   "id": "6e48a79d",
   "metadata": {},
   "outputs": [
    {
     "name": "stdout",
     "output_type": "stream",
     "text": [
      "566\n",
      "566\n"
     ]
    }
   ],
   "source": [
    "# 04 october FROM MUMBAI TO  KOLKATA , economy class\n",
    "\n",
    "fli = driver.find_elements(By.XPATH,'//p[@class= \"boldFont blackText airlineName\"]')\n",
    "for i in fli:\n",
    "    flight.append(i.text)\n",
    "f_code = driver.find_elements(By.XPATH,'//p[@class= \"fliCode\"]')\n",
    "for i in f_code:\n",
    "    flight_code.append(i.text)\n",
    "To = driver.find_elements(By.XPATH,'//div[@class= \"flexOne timeInfoRight\"]/p[2]')\n",
    "for i in To:\n",
    "    TO.append(i.text)\n",
    "\n",
    "From = driver.find_elements(By.XPATH,'//div[@class= \"flexOne timeInfoLeft\"]/p[2]')\n",
    "for i in From:\n",
    "    FROM.append(i.text)\n",
    "time.sleep(1)\n",
    "dep = driver.find_elements(By.XPATH,'//div[@class= \"makeFlex fontSize12 flexOne gap-x-10\"]/div[1]/p/span')\n",
    "for i in dep:\n",
    "    departure.append(i.text)   \n",
    "ariv = driver.find_elements(By.XPATH,'//div[@class= \"makeFlex fontSize12 flexOne gap-x-10\"]/div[3]/p/span[1]')\n",
    "for i in ariv:\n",
    "    arival.append(i.text)  \n",
    "    \n",
    "pric = driver.find_elements(By.XPATH,'//div[@class= \"textRight flexOne\"]/p')\n",
    "for i in pric:\n",
    "    price.append(i.text)\n",
    "dur = driver.find_elements(By.XPATH,'//div[@class= \"stop-info flexOne\"]/p')\n",
    "for i in dur:\n",
    "    duration.append(i.text)\n",
    "    \n",
    "time.sleep(2)\n",
    "for i in dur:\n",
    "    CLASS.append('economy')\n",
    "    DATE.append('04-10-2022')\n",
    "print(len(FROM)) \n",
    "print(len(flight))   "
   ]
  },
  {
   "cell_type": "code",
   "execution_count": 68,
   "id": "51887ec5",
   "metadata": {},
   "outputs": [
    {
     "name": "stdout",
     "output_type": "stream",
     "text": [
      "581\n",
      "581\n"
     ]
    }
   ],
   "source": [
    "# 04 october FROM MUMBAI TO  KOLKATA , business class\n",
    "\n",
    "fli = driver.find_elements(By.XPATH,'//p[@class= \"boldFont blackText airlineName\"]')\n",
    "for i in fli:\n",
    "    flight.append(i.text)\n",
    "f_code = driver.find_elements(By.XPATH,'//p[@class= \"fliCode\"]')\n",
    "for i in f_code:\n",
    "    flight_code.append(i.text)\n",
    "To = driver.find_elements(By.XPATH,'//div[@class= \"flexOne timeInfoRight\"]/p[2]')\n",
    "for i in To:\n",
    "    TO.append(i.text)\n",
    "\n",
    "From = driver.find_elements(By.XPATH,'//div[@class= \"flexOne timeInfoLeft\"]/p[2]')\n",
    "for i in From:\n",
    "    FROM.append(i.text)\n",
    "time.sleep(1)\n",
    "dep = driver.find_elements(By.XPATH,'//div[@class= \"makeFlex fontSize12 flexOne gap-x-10\"]/div[1]/p/span')\n",
    "for i in dep:\n",
    "    departure.append(i.text)   \n",
    "ariv = driver.find_elements(By.XPATH,'//div[@class= \"makeFlex fontSize12 flexOne gap-x-10\"]/div[3]/p/span[1]')\n",
    "for i in ariv:\n",
    "    arival.append(i.text)  \n",
    "    \n",
    "pric = driver.find_elements(By.XPATH,'//div[@class= \"textRight flexOne\"]/p')\n",
    "for i in pric:\n",
    "    price.append(i.text)\n",
    "dur = driver.find_elements(By.XPATH,'//div[@class= \"stop-info flexOne\"]/p')\n",
    "for i in dur:\n",
    "    duration.append(i.text)\n",
    "    \n",
    "time.sleep(2)\n",
    "for i in dur:\n",
    "    CLASS.append('business')\n",
    "    DATE.append('04-10-2022')\n",
    "print(len(FROM)) \n",
    "print(len(flight))   "
   ]
  },
  {
   "cell_type": "code",
   "execution_count": 70,
   "id": "5afabfb9",
   "metadata": {},
   "outputs": [
    {
     "name": "stdout",
     "output_type": "stream",
     "text": [
      "656\n",
      "656\n"
     ]
    }
   ],
   "source": [
    "# 04 october FROM MUMBAI TO  BENGALURU , economy class\n",
    "\n",
    "fli = driver.find_elements(By.XPATH,'//p[@class= \"boldFont blackText airlineName\"]')\n",
    "for i in fli:\n",
    "    flight.append(i.text)\n",
    "f_code = driver.find_elements(By.XPATH,'//p[@class= \"fliCode\"]')\n",
    "for i in f_code:\n",
    "    flight_code.append(i.text)\n",
    "To = driver.find_elements(By.XPATH,'//div[@class= \"flexOne timeInfoRight\"]/p[2]')\n",
    "for i in To:\n",
    "    TO.append(i.text)\n",
    "\n",
    "From = driver.find_elements(By.XPATH,'//div[@class= \"flexOne timeInfoLeft\"]/p[2]')\n",
    "for i in From:\n",
    "    FROM.append(i.text)\n",
    "time.sleep(1)\n",
    "dep = driver.find_elements(By.XPATH,'//div[@class= \"makeFlex fontSize12 flexOne gap-x-10\"]/div[1]/p/span')\n",
    "for i in dep:\n",
    "    departure.append(i.text)   \n",
    "ariv = driver.find_elements(By.XPATH,'//div[@class= \"makeFlex fontSize12 flexOne gap-x-10\"]/div[3]/p/span[1]')\n",
    "for i in ariv:\n",
    "    arival.append(i.text)  \n",
    "    \n",
    "pric = driver.find_elements(By.XPATH,'//div[@class= \"textRight flexOne\"]/p')\n",
    "for i in pric:\n",
    "    price.append(i.text)\n",
    "dur = driver.find_elements(By.XPATH,'//div[@class= \"stop-info flexOne\"]/p')\n",
    "for i in dur:\n",
    "    duration.append(i.text)\n",
    "    \n",
    "time.sleep(2)\n",
    "for i in dur:\n",
    "    CLASS.append('economy')\n",
    "    DATE.append('04-10-2022')\n",
    "print(len(FROM)) \n",
    "print(len(flight))   "
   ]
  },
  {
   "cell_type": "code",
   "execution_count": 72,
   "id": "5bde86a2",
   "metadata": {},
   "outputs": [
    {
     "name": "stdout",
     "output_type": "stream",
     "text": [
      "677\n",
      "677\n"
     ]
    }
   ],
   "source": [
    "# 04 october FROM MUMBAI TO  BENGALURU , business class\n",
    "\n",
    "fli = driver.find_elements(By.XPATH,'//p[@class= \"boldFont blackText airlineName\"]')\n",
    "for i in fli:\n",
    "    flight.append(i.text)\n",
    "f_code = driver.find_elements(By.XPATH,'//p[@class= \"fliCode\"]')\n",
    "for i in f_code:\n",
    "    flight_code.append(i.text)\n",
    "To = driver.find_elements(By.XPATH,'//div[@class= \"flexOne timeInfoRight\"]/p[2]')\n",
    "for i in To:\n",
    "    TO.append(i.text)\n",
    "\n",
    "From = driver.find_elements(By.XPATH,'//div[@class= \"flexOne timeInfoLeft\"]/p[2]')\n",
    "for i in From:\n",
    "    FROM.append(i.text)\n",
    "time.sleep(1)\n",
    "dep = driver.find_elements(By.XPATH,'//div[@class= \"makeFlex fontSize12 flexOne gap-x-10\"]/div[1]/p/span')\n",
    "for i in dep:\n",
    "    departure.append(i.text)   \n",
    "ariv = driver.find_elements(By.XPATH,'//div[@class= \"makeFlex fontSize12 flexOne gap-x-10\"]/div[3]/p/span[1]')\n",
    "for i in ariv:\n",
    "    arival.append(i.text)  \n",
    "    \n",
    "pric = driver.find_elements(By.XPATH,'//div[@class= \"textRight flexOne\"]/p')\n",
    "for i in pric:\n",
    "    price.append(i.text)\n",
    "dur = driver.find_elements(By.XPATH,'//div[@class= \"stop-info flexOne\"]/p')\n",
    "for i in dur:\n",
    "    duration.append(i.text)\n",
    "    \n",
    "time.sleep(2)\n",
    "for i in dur:\n",
    "    CLASS.append('business')\n",
    "    DATE.append('04-10-2022')\n",
    "print(len(FROM)) \n",
    "print(len(flight))   "
   ]
  },
  {
   "cell_type": "code",
   "execution_count": 76,
   "id": "f5ba0e77",
   "metadata": {},
   "outputs": [
    {
     "name": "stdout",
     "output_type": "stream",
     "text": [
      "724\n",
      "724\n"
     ]
    }
   ],
   "source": [
    "# 04 october FROM MUMBAI TO  hyderabad , economy class\n",
    "\n",
    "fli = driver.find_elements(By.XPATH,'//p[@class= \"boldFont blackText airlineName\"]')\n",
    "for i in fli:\n",
    "    flight.append(i.text)\n",
    "f_code = driver.find_elements(By.XPATH,'//p[@class= \"fliCode\"]')\n",
    "for i in f_code:\n",
    "    flight_code.append(i.text)\n",
    "To = driver.find_elements(By.XPATH,'//div[@class= \"flexOne timeInfoRight\"]/p[2]')\n",
    "for i in To:\n",
    "    TO.append(i.text)\n",
    "\n",
    "From = driver.find_elements(By.XPATH,'//div[@class= \"flexOne timeInfoLeft\"]/p[2]')\n",
    "for i in From:\n",
    "    FROM.append(i.text)\n",
    "time.sleep(1)\n",
    "dep = driver.find_elements(By.XPATH,'//div[@class= \"makeFlex fontSize12 flexOne gap-x-10\"]/div[1]/p/span')\n",
    "for i in dep:\n",
    "    departure.append(i.text)   \n",
    "ariv = driver.find_elements(By.XPATH,'//div[@class= \"makeFlex fontSize12 flexOne gap-x-10\"]/div[3]/p/span[1]')\n",
    "for i in ariv:\n",
    "    arival.append(i.text)  \n",
    "    \n",
    "pric = driver.find_elements(By.XPATH,'//div[@class= \"textRight flexOne\"]/p')\n",
    "for i in pric:\n",
    "    price.append(i.text)\n",
    "dur = driver.find_elements(By.XPATH,'//div[@class= \"stop-info flexOne\"]/p')\n",
    "for i in dur:\n",
    "    duration.append(i.text)\n",
    "    \n",
    "time.sleep(2)\n",
    "for i in dur:\n",
    "    CLASS.append('economy')\n",
    "    DATE.append('24-09-2022')\n",
    "print(len(FROM)) \n",
    "print(len(flight))  "
   ]
  },
  {
   "cell_type": "code",
   "execution_count": 80,
   "id": "7c049da9",
   "metadata": {},
   "outputs": [
    {
     "name": "stdout",
     "output_type": "stream",
     "text": [
      "787\n",
      "787\n"
     ]
    }
   ],
   "source": [
    "# 04 october FROM MUMBAI TO  CHENNAI , economy class\n",
    "\n",
    "fli = driver.find_elements(By.XPATH,'//p[@class= \"boldFont blackText airlineName\"]')\n",
    "for i in fli:\n",
    "    flight.append(i.text)\n",
    "f_code = driver.find_elements(By.XPATH,'//p[@class= \"fliCode\"]')\n",
    "for i in f_code:\n",
    "    flight_code.append(i.text)\n",
    "To = driver.find_elements(By.XPATH,'//div[@class= \"flexOne timeInfoRight\"]/p[2]')\n",
    "for i in To:\n",
    "    TO.append(i.text)\n",
    "\n",
    "From = driver.find_elements(By.XPATH,'//div[@class= \"flexOne timeInfoLeft\"]/p[2]')\n",
    "for i in From:\n",
    "    FROM.append(i.text)\n",
    "time.sleep(1)\n",
    "dep = driver.find_elements(By.XPATH,'//div[@class= \"makeFlex fontSize12 flexOne gap-x-10\"]/div[1]/p/span')\n",
    "for i in dep:\n",
    "    departure.append(i.text)   \n",
    "ariv = driver.find_elements(By.XPATH,'//div[@class= \"makeFlex fontSize12 flexOne gap-x-10\"]/div[3]/p/span[1]')\n",
    "for i in ariv:\n",
    "    arival.append(i.text)  \n",
    "    \n",
    "pric = driver.find_elements(By.XPATH,'//div[@class= \"textRight flexOne\"]/p')\n",
    "for i in pric:\n",
    "    price.append(i.text)\n",
    "dur = driver.find_elements(By.XPATH,'//div[@class= \"stop-info flexOne\"]/p')\n",
    "for i in dur:\n",
    "    duration.append(i.text)\n",
    "    \n",
    "time.sleep(2)\n",
    "for i in dur:\n",
    "    CLASS.append('business')\n",
    "    DATE.append('04-10-2022')\n",
    "print(len(FROM)) \n",
    "print(len(flight))"
   ]
  },
  {
   "cell_type": "code",
   "execution_count": 82,
   "id": "951eb0bd",
   "metadata": {},
   "outputs": [
    {
     "name": "stdout",
     "output_type": "stream",
     "text": [
      "805\n",
      "805\n"
     ]
    }
   ],
   "source": [
    "# 04 october FROM MUMBAI TO  LUCKNOW , economy class\n",
    "\n",
    "fli = driver.find_elements(By.XPATH,'//p[@class= \"boldFont blackText airlineName\"]')\n",
    "for i in fli:\n",
    "    flight.append(i.text)\n",
    "f_code = driver.find_elements(By.XPATH,'//p[@class= \"fliCode\"]')\n",
    "for i in f_code:\n",
    "    flight_code.append(i.text)\n",
    "To = driver.find_elements(By.XPATH,'//div[@class= \"flexOne timeInfoRight\"]/p[2]')\n",
    "for i in To:\n",
    "    TO.append(i.text)\n",
    "\n",
    "From = driver.find_elements(By.XPATH,'//div[@class= \"flexOne timeInfoLeft\"]/p[2]')\n",
    "for i in From:\n",
    "    FROM.append(i.text)\n",
    "time.sleep(1)\n",
    "dep = driver.find_elements(By.XPATH,'//div[@class= \"makeFlex fontSize12 flexOne gap-x-10\"]/div[1]/p/span')\n",
    "for i in dep:\n",
    "    departure.append(i.text)   \n",
    "ariv = driver.find_elements(By.XPATH,'//div[@class= \"makeFlex fontSize12 flexOne gap-x-10\"]/div[3]/p/span[1]')\n",
    "for i in ariv:\n",
    "    arival.append(i.text)  \n",
    "    \n",
    "pric = driver.find_elements(By.XPATH,'//div[@class= \"textRight flexOne\"]/p')\n",
    "for i in pric:\n",
    "    price.append(i.text)\n",
    "dur = driver.find_elements(By.XPATH,'//div[@class= \"stop-info flexOne\"]/p')\n",
    "for i in dur:\n",
    "    duration.append(i.text)\n",
    "    \n",
    "time.sleep(2)\n",
    "for i in dur:\n",
    "    CLASS.append('economy')\n",
    "    DATE.append('04-10-2022')\n",
    "print(len(FROM)) \n",
    "print(len(flight))"
   ]
  },
  {
   "cell_type": "code",
   "execution_count": 84,
   "id": "da3fc511",
   "metadata": {},
   "outputs": [
    {
     "name": "stdout",
     "output_type": "stream",
     "text": [
      "819\n",
      "819\n"
     ]
    }
   ],
   "source": [
    "# 04 october FROM MUMBAI TO  gwalior , economy class\n",
    "\n",
    "fli = driver.find_elements(By.XPATH,'//p[@class= \"boldFont blackText airlineName\"]')\n",
    "for i in fli:\n",
    "    flight.append(i.text)\n",
    "f_code = driver.find_elements(By.XPATH,'//p[@class= \"fliCode\"]')\n",
    "for i in f_code:\n",
    "    flight_code.append(i.text)\n",
    "To = driver.find_elements(By.XPATH,'//div[@class= \"flexOne timeInfoRight\"]/p[2]')\n",
    "for i in To:\n",
    "    TO.append(i.text)\n",
    "\n",
    "From = driver.find_elements(By.XPATH,'//div[@class= \"flexOne timeInfoLeft\"]/p[2]')\n",
    "for i in From:\n",
    "    FROM.append(i.text)\n",
    "time.sleep(1)\n",
    "dep = driver.find_elements(By.XPATH,'//div[@class= \"makeFlex fontSize12 flexOne gap-x-10\"]/div[1]/p/span')\n",
    "for i in dep:\n",
    "    departure.append(i.text)   \n",
    "ariv = driver.find_elements(By.XPATH,'//div[@class= \"makeFlex fontSize12 flexOne gap-x-10\"]/div[3]/p/span[1]')\n",
    "for i in ariv:\n",
    "    arival.append(i.text)  \n",
    "    \n",
    "pric = driver.find_elements(By.XPATH,'//div[@class= \"textRight flexOne\"]/p')\n",
    "for i in pric:\n",
    "    price.append(i.text)\n",
    "dur = driver.find_elements(By.XPATH,'//div[@class= \"stop-info flexOne\"]/p')\n",
    "for i in dur:\n",
    "    duration.append(i.text)\n",
    "    \n",
    "time.sleep(2)\n",
    "for i in dur:\n",
    "    CLASS.append('economy')\n",
    "    DATE.append('24-09-2022')\n",
    "print(len(FROM)) \n",
    "print(len(flight)) "
   ]
  },
  {
   "cell_type": "code",
   "execution_count": 86,
   "id": "e396287c",
   "metadata": {},
   "outputs": [
    {
     "name": "stdout",
     "output_type": "stream",
     "text": [
      "831\n",
      "831\n"
     ]
    }
   ],
   "source": [
    "# 04 october FROM MUMBAI TO  JAIPUR , economy class\n",
    "\n",
    "fli = driver.find_elements(By.XPATH,'//p[@class= \"boldFont blackText airlineName\"]')\n",
    "for i in fli:\n",
    "    flight.append(i.text)\n",
    "f_code = driver.find_elements(By.XPATH,'//p[@class= \"fliCode\"]')\n",
    "for i in f_code:\n",
    "    flight_code.append(i.text)\n",
    "To = driver.find_elements(By.XPATH,'//div[@class= \"flexOne timeInfoRight\"]/p[2]')\n",
    "for i in To:\n",
    "    TO.append(i.text)\n",
    "\n",
    "From = driver.find_elements(By.XPATH,'//div[@class= \"flexOne timeInfoLeft\"]/p[2]')\n",
    "for i in From:\n",
    "    FROM.append(i.text)\n",
    "time.sleep(1)\n",
    "dep = driver.find_elements(By.XPATH,'//div[@class= \"makeFlex fontSize12 flexOne gap-x-10\"]/div[1]/p/span')\n",
    "for i in dep:\n",
    "    departure.append(i.text)   \n",
    "ariv = driver.find_elements(By.XPATH,'//div[@class= \"makeFlex fontSize12 flexOne gap-x-10\"]/div[3]/p/span[1]')\n",
    "for i in ariv:\n",
    "    arival.append(i.text)  \n",
    "    \n",
    "pric = driver.find_elements(By.XPATH,'//div[@class= \"textRight flexOne\"]/p')\n",
    "for i in pric:\n",
    "    price.append(i.text)\n",
    "dur = driver.find_elements(By.XPATH,'//div[@class= \"stop-info flexOne\"]/p')\n",
    "for i in dur:\n",
    "    duration.append(i.text)\n",
    "    \n",
    "time.sleep(2)\n",
    "for i in dur:\n",
    "    CLASS.append('premium')\n",
    "    DATE.append('24-09-2022')\n",
    "print(len(FROM)) \n",
    "print(len(flight)) "
   ]
  },
  {
   "cell_type": "code",
   "execution_count": 94,
   "id": "db1676f7",
   "metadata": {},
   "outputs": [
    {
     "name": "stdout",
     "output_type": "stream",
     "text": [
      "939\n",
      "939\n"
     ]
    }
   ],
   "source": [
    "# 04 october FROM HYDERABAD TO  NEW-DELHI , economy class\n",
    "\n",
    "fli = driver.find_elements(By.XPATH,'//p[@class= \"boldFont blackText airlineName\"]')\n",
    "for i in fli:\n",
    "    flight.append(i.text)\n",
    "f_code = driver.find_elements(By.XPATH,'//p[@class= \"fliCode\"]')\n",
    "for i in f_code:\n",
    "    flight_code.append(i.text)\n",
    "To = driver.find_elements(By.XPATH,'//div[@class= \"flexOne timeInfoRight\"]/p[2]')\n",
    "for i in To:\n",
    "    TO.append(i.text)\n",
    "\n",
    "From = driver.find_elements(By.XPATH,'//div[@class= \"flexOne timeInfoLeft\"]/p[2]')\n",
    "for i in From:\n",
    "    FROM.append(i.text)\n",
    "time.sleep(1)\n",
    "dep = driver.find_elements(By.XPATH,'//div[@class= \"makeFlex fontSize12 flexOne gap-x-10\"]/div[1]/p/span')\n",
    "for i in dep:\n",
    "    departure.append(i.text)   \n",
    "ariv = driver.find_elements(By.XPATH,'//div[@class= \"makeFlex fontSize12 flexOne gap-x-10\"]/div[3]/p/span[1]')\n",
    "for i in ariv:\n",
    "    arival.append(i.text)  \n",
    "    \n",
    "pric = driver.find_elements(By.XPATH,'//div[@class= \"textRight flexOne\"]/p')\n",
    "for i in pric:\n",
    "    price.append(i.text)\n",
    "dur = driver.find_elements(By.XPATH,'//div[@class= \"stop-info flexOne\"]/p')\n",
    "for i in dur:\n",
    "    duration.append(i.text)\n",
    "    \n",
    "time.sleep(2)\n",
    "for i in dur:\n",
    "    CLASS.append('business')\n",
    "    DATE.append('24-09-2022')\n",
    "print(len(FROM)) \n",
    "print(len(flight))"
   ]
  },
  {
   "cell_type": "code",
   "execution_count": 99,
   "id": "56d1e6c2",
   "metadata": {},
   "outputs": [
    {
     "name": "stdout",
     "output_type": "stream",
     "text": [
      "1012\n",
      "1012\n"
     ]
    }
   ],
   "source": [
    "# 04 october FROM HYDERABAD TO  JAMMU , economy class\n",
    "\n",
    "fli = driver.find_elements(By.XPATH,'//p[@class= \"boldFont blackText airlineName\"]')\n",
    "for i in fli:\n",
    "    flight.append(i.text)\n",
    "f_code = driver.find_elements(By.XPATH,'//p[@class= \"fliCode\"]')\n",
    "for i in f_code:\n",
    "    flight_code.append(i.text)\n",
    "To = driver.find_elements(By.XPATH,'//div[@class= \"flexOne timeInfoRight\"]/p[2]')\n",
    "for i in To:\n",
    "    TO.append(i.text)\n",
    "\n",
    "From = driver.find_elements(By.XPATH,'//div[@class= \"flexOne timeInfoLeft\"]/p[2]')\n",
    "for i in From:\n",
    "    FROM.append(i.text)\n",
    "time.sleep(1)\n",
    "dep = driver.find_elements(By.XPATH,'//div[@class= \"makeFlex fontSize12 flexOne gap-x-10\"]/div[1]/p/span')\n",
    "for i in dep:\n",
    "    departure.append(i.text)   \n",
    "ariv = driver.find_elements(By.XPATH,'//div[@class= \"makeFlex fontSize12 flexOne gap-x-10\"]/div[3]/p/span[1]')\n",
    "for i in ariv:\n",
    "    arival.append(i.text)  \n",
    "    \n",
    "pric = driver.find_elements(By.XPATH,'//div[@class= \"textRight flexOne\"]/p')\n",
    "for i in pric:\n",
    "    price.append(i.text)\n",
    "dur = driver.find_elements(By.XPATH,'//div[@class= \"stop-info flexOne\"]/p')\n",
    "for i in dur:\n",
    "    duration.append(i.text)\n",
    "    \n",
    "time.sleep(2)\n",
    "for i in dur:\n",
    "    CLASS.append('premium')\n",
    "    DATE.append('04-10-2022')\n",
    "print(len(FROM)) \n",
    "print(len(flight))"
   ]
  },
  {
   "cell_type": "code",
   "execution_count": 101,
   "id": "ba24bbf8",
   "metadata": {},
   "outputs": [
    {
     "name": "stdout",
     "output_type": "stream",
     "text": [
      "1048\n",
      "1048\n"
     ]
    }
   ],
   "source": [
    "# 04 october FROM HYDERABAD TO  kolkata , economy class\n",
    "\n",
    "fli = driver.find_elements(By.XPATH,'//p[@class= \"boldFont blackText airlineName\"]')\n",
    "for i in fli:\n",
    "    flight.append(i.text)\n",
    "f_code = driver.find_elements(By.XPATH,'//p[@class= \"fliCode\"]')\n",
    "for i in f_code:\n",
    "    flight_code.append(i.text)\n",
    "To = driver.find_elements(By.XPATH,'//div[@class= \"flexOne timeInfoRight\"]/p[2]')\n",
    "for i in To:\n",
    "    TO.append(i.text)\n",
    "\n",
    "From = driver.find_elements(By.XPATH,'//div[@class= \"flexOne timeInfoLeft\"]/p[2]')\n",
    "for i in From:\n",
    "    FROM.append(i.text)\n",
    "time.sleep(1)\n",
    "dep = driver.find_elements(By.XPATH,'//div[@class= \"makeFlex fontSize12 flexOne gap-x-10\"]/div[1]/p/span')\n",
    "for i in dep:\n",
    "    departure.append(i.text)   \n",
    "ariv = driver.find_elements(By.XPATH,'//div[@class= \"makeFlex fontSize12 flexOne gap-x-10\"]/div[3]/p/span[1]')\n",
    "for i in ariv:\n",
    "    arival.append(i.text)  \n",
    "    \n",
    "pric = driver.find_elements(By.XPATH,'//div[@class= \"textRight flexOne\"]/p')\n",
    "for i in pric:\n",
    "    price.append(i.text)\n",
    "dur = driver.find_elements(By.XPATH,'//div[@class= \"stop-info flexOne\"]/p')\n",
    "for i in dur:\n",
    "    duration.append(i.text)\n",
    "    \n",
    "time.sleep(2)\n",
    "for i in dur:\n",
    "    CLASS.append('economy')\n",
    "    DATE.append('04-10-2022')\n",
    "print(len(FROM)) \n",
    "print(len(flight))"
   ]
  },
  {
   "cell_type": "code",
   "execution_count": 112,
   "id": "6482a95e",
   "metadata": {},
   "outputs": [
    {
     "name": "stdout",
     "output_type": "stream",
     "text": [
      "1251\n",
      "1251\n"
     ]
    }
   ],
   "source": [
    "# 04 october FROM AHEMADABD TO  KOLKATA , economy class\n",
    "\n",
    "fli = driver.find_elements(By.XPATH,'//p[@class= \"boldFont blackText airlineName\"]')\n",
    "for i in fli:\n",
    "    flight.append(i.text)\n",
    "f_code = driver.find_elements(By.XPATH,'//p[@class= \"fliCode\"]')\n",
    "for i in f_code:\n",
    "    flight_code.append(i.text)\n",
    "To = driver.find_elements(By.XPATH,'//div[@class= \"flexOne timeInfoRight\"]/p[2]')\n",
    "for i in To:\n",
    "    TO.append(i.text)\n",
    "\n",
    "From = driver.find_elements(By.XPATH,'//div[@class= \"flexOne timeInfoLeft\"]/p[2]')\n",
    "for i in From:\n",
    "    FROM.append(i.text)\n",
    "time.sleep(1)\n",
    "dep = driver.find_elements(By.XPATH,'//div[@class= \"makeFlex fontSize12 flexOne gap-x-10\"]/div[1]/p/span')\n",
    "for i in dep:\n",
    "    departure.append(i.text)   \n",
    "ariv = driver.find_elements(By.XPATH,'//div[@class= \"makeFlex fontSize12 flexOne gap-x-10\"]/div[3]/p/span[1]')\n",
    "for i in ariv:\n",
    "    arival.append(i.text)  \n",
    "    \n",
    "pric = driver.find_elements(By.XPATH,'//div[@class= \"textRight flexOne\"]/p')\n",
    "for i in pric:\n",
    "    price.append(i.text)\n",
    "dur = driver.find_elements(By.XPATH,'//div[@class= \"stop-info flexOne\"]/p')\n",
    "for i in dur:\n",
    "    duration.append(i.text)\n",
    "    \n",
    "time.sleep(2)\n",
    "for i in dur:\n",
    "    CLASS.append('economy')\n",
    "    DATE.append('24-09-2022')\n",
    "print(len(FROM)) \n",
    "print(len(flight))"
   ]
  },
  {
   "cell_type": "code",
   "execution_count": 126,
   "id": "9afe4b86",
   "metadata": {},
   "outputs": [
    {
     "name": "stdout",
     "output_type": "stream",
     "text": [
      "1464\n",
      "1464\n"
     ]
    }
   ],
   "source": [
    "# 04 october FROM BENGALURU TO  SRINAGAR,PUNE, AMRITSAR ,LUCKNOW, economy class\n",
    "# WE MANUALLY CHANGED THE FLIGHT LOCATION AND DATE , DON'T USE WEBSCRAPPING METHOD\n",
    "\n",
    "fli = driver.find_elements(By.XPATH,'//p[@class= \"boldFont blackText airlineName\"]')\n",
    "for i in fli:\n",
    "    flight.append(i.text)\n",
    "f_code = driver.find_elements(By.XPATH,'//p[@class= \"fliCode\"]')\n",
    "for i in f_code:\n",
    "    flight_code.append(i.text)\n",
    "To = driver.find_elements(By.XPATH,'//div[@class= \"flexOne timeInfoRight\"]/p[2]')\n",
    "for i in To:\n",
    "    TO.append(i.text)\n",
    "\n",
    "From = driver.find_elements(By.XPATH,'//div[@class= \"flexOne timeInfoLeft\"]/p[2]')\n",
    "for i in From:\n",
    "    FROM.append(i.text)\n",
    "time.sleep(1)\n",
    "dep = driver.find_elements(By.XPATH,'//div[@class= \"makeFlex fontSize12 flexOne gap-x-10\"]/div[1]/p/span')\n",
    "for i in dep:\n",
    "    departure.append(i.text)   \n",
    "ariv = driver.find_elements(By.XPATH,'//div[@class= \"makeFlex fontSize12 flexOne gap-x-10\"]/div[3]/p/span[1]')\n",
    "for i in ariv:\n",
    "    arival.append(i.text)  \n",
    "    \n",
    "pric = driver.find_elements(By.XPATH,'//div[@class= \"textRight flexOne\"]/p')\n",
    "for i in pric:\n",
    "    price.append(i.text)\n",
    "dur = driver.find_elements(By.XPATH,'//div[@class= \"stop-info flexOne\"]/p')\n",
    "for i in dur:\n",
    "    duration.append(i.text)\n",
    "    \n",
    "time.sleep(2)\n",
    "for i in dur:\n",
    "    CLASS.append('economy')\n",
    "    DATE.append('04-10-2022')\n",
    "print(len(FROM)) \n",
    "print(len(flight))"
   ]
  },
  {
   "cell_type": "code",
   "execution_count": 143,
   "id": "7a5cb412",
   "metadata": {},
   "outputs": [
    {
     "name": "stdout",
     "output_type": "stream",
     "text": [
      "1678\n",
      "1678\n"
     ]
    }
   ],
   "source": [
    "# 04 october FROM LUCKNOW TO  KOLKATA,PUNE, AMRITSAR,HYDERABAD,SRINAGAR,MUMBAI , economy class\n",
    "# WE MANUALLY CHANGED THE FLIGHT LOCATION AND DATE , DON'T USE WEBSCRAPPING METHOD\n",
    "\n",
    "fli = driver.find_elements(By.XPATH,'//p[@class= \"boldFont blackText airlineName\"]')\n",
    "for i in fli:\n",
    "    flight.append(i.text)\n",
    "f_code = driver.find_elements(By.XPATH,'//p[@class= \"fliCode\"]')\n",
    "for i in f_code:\n",
    "    flight_code.append(i.text)\n",
    "To = driver.find_elements(By.XPATH,'//div[@class= \"flexOne timeInfoRight\"]/p[2]')\n",
    "for i in To:\n",
    "    TO.append(i.text)\n",
    "\n",
    "From = driver.find_elements(By.XPATH,'//div[@class= \"flexOne timeInfoLeft\"]/p[2]')\n",
    "for i in From:\n",
    "    FROM.append(i.text)\n",
    "time.sleep(1)\n",
    "dep = driver.find_elements(By.XPATH,'//div[@class= \"makeFlex fontSize12 flexOne gap-x-10\"]/div[1]/p/span')\n",
    "for i in dep:\n",
    "    departure.append(i.text)   \n",
    "ariv = driver.find_elements(By.XPATH,'//div[@class= \"makeFlex fontSize12 flexOne gap-x-10\"]/div[3]/p/span[1]')\n",
    "for i in ariv:\n",
    "    arival.append(i.text)  \n",
    "    \n",
    "pric = driver.find_elements(By.XPATH,'//div[@class= \"textRight flexOne\"]/p')\n",
    "for i in pric:\n",
    "    price.append(i.text)\n",
    "dur = driver.find_elements(By.XPATH,'//div[@class= \"stop-info flexOne\"]/p')\n",
    "for i in dur:\n",
    "    duration.append(i.text)\n",
    "    \n",
    "time.sleep(2)\n",
    "for i in dur:\n",
    "    CLASS.append('economy')\n",
    "    DATE.append('24-09-2022')\n",
    "print(len(FROM)) \n",
    "print(len(flight))"
   ]
  },
  {
   "cell_type": "code",
   "execution_count": 171,
   "id": "cd7971a9",
   "metadata": {},
   "outputs": [
    {
     "name": "stdout",
     "output_type": "stream",
     "text": [
      "2134\n",
      "2134\n"
     ]
    }
   ],
   "source": [
    "# 04 october FROM KOLKATA TO VADODARA,CHENNAI,amritsar , economy class\n",
    "# WE MANUALLY CHANGED THE FLIGHT LOCATION AND DATE , DON'T USE WEBSCRAPPING METHOD\n",
    "\n",
    "fli = driver.find_elements(By.XPATH,'//p[@class= \"boldFont blackText airlineName\"]')\n",
    "for i in fli:\n",
    "    flight.append(i.text)\n",
    "f_code = driver.find_elements(By.XPATH,'//p[@class= \"fliCode\"]')\n",
    "for i in f_code:\n",
    "    flight_code.append(i.text)\n",
    "To = driver.find_elements(By.XPATH,'//div[@class= \"flexOne timeInfoRight\"]/p[2]')\n",
    "for i in To:\n",
    "    TO.append(i.text)\n",
    "\n",
    "From = driver.find_elements(By.XPATH,'//div[@class= \"flexOne timeInfoLeft\"]/p[2]')\n",
    "for i in From:\n",
    "    FROM.append(i.text)\n",
    "time.sleep(1)\n",
    "dep = driver.find_elements(By.XPATH,'//div[@class= \"makeFlex fontSize12 flexOne gap-x-10\"]/div[1]/p/span')\n",
    "for i in dep:\n",
    "    departure.append(i.text)   \n",
    "ariv = driver.find_elements(By.XPATH,'//div[@class= \"makeFlex fontSize12 flexOne gap-x-10\"]/div[3]/p/span[1]')\n",
    "for i in ariv:\n",
    "    arival.append(i.text)  \n",
    "    \n",
    "pric = driver.find_elements(By.XPATH,'//div[@class= \"textRight flexOne\"]/p')\n",
    "for i in pric:\n",
    "    price.append(i.text)\n",
    "dur = driver.find_elements(By.XPATH,'//div[@class= \"stop-info flexOne\"]/p')\n",
    "for i in dur:\n",
    "    duration.append(i.text)\n",
    "    \n",
    "time.sleep(2)\n",
    "for i in dur:\n",
    "    CLASS.append('economy')\n",
    "    DATE.append('24-09-2022')\n",
    "print(len(FROM)) \n",
    "print(len(flight))"
   ]
  },
  {
   "cell_type": "code",
   "execution_count": null,
   "id": "b56eeb17",
   "metadata": {},
   "outputs": [],
   "source": []
  },
  {
   "cell_type": "code",
   "execution_count": 173,
   "id": "de6cad0e",
   "metadata": {},
   "outputs": [],
   "source": [
    "import pandas as pd"
   ]
  },
  {
   "cell_type": "code",
   "execution_count": 194,
   "id": "58c54efe",
   "metadata": {},
   "outputs": [],
   "source": [
    "flight_price= pd.DataFrame({'flight':flight,'flight_code':flight_code,'FROM':FROM,'TO':TO,'departure':departure,\n",
    "                           'duration':duration,'arival':arival,'Date':DATE,'CLASS':CLASS,'price':price})"
   ]
  },
  {
   "cell_type": "code",
   "execution_count": 195,
   "id": "255a90a3",
   "metadata": {},
   "outputs": [],
   "source": [
    "flight_price.to_csv('flight_price.csv',index=False)"
   ]
  },
  {
   "cell_type": "code",
   "execution_count": 118,
   "id": "022d0982",
   "metadata": {},
   "outputs": [
    {
     "data": {
      "text/plain": [
       "['24-09-2022']"
      ]
     },
     "execution_count": 118,
     "metadata": {},
     "output_type": "execute_result"
    }
   ],
   "source": [
    "flight= []    ##    FLIGHT COMPANY NAME\n",
    "departure = []      ##     DEPARTURE TIME\n",
    "arival =[]      ##     ARIVAL TIME\n",
    "price =[]      #     FLIGHT FARE PRICE\n",
    "duration = []       #     TRAVEL DURATION TIME\n",
    "FROM = []             #  DERARTURE FROM \n",
    "TO= []                      # \n",
    "CLASS= []                   #  \n",
    "DATE=[]                    # DEPARTURE DATE\n",
    "flight_code= []      # FLIGHT-CODE\n"
   ]
  },
  {
   "cell_type": "code",
   "execution_count": null,
   "id": "53387662",
   "metadata": {},
   "outputs": [],
   "source": []
  },
  {
   "cell_type": "code",
   "execution_count": null,
   "id": "0704966e",
   "metadata": {},
   "outputs": [],
   "source": []
  },
  {
   "cell_type": "code",
   "execution_count": null,
   "id": "3e630b5f",
   "metadata": {},
   "outputs": [],
   "source": []
  },
  {
   "cell_type": "code",
   "execution_count": 322,
   "id": "822ec5de",
   "metadata": {},
   "outputs": [],
   "source": []
  },
  {
   "cell_type": "code",
   "execution_count": null,
   "id": "f074865e",
   "metadata": {},
   "outputs": [],
   "source": []
  },
  {
   "cell_type": "code",
   "execution_count": null,
   "id": "1a1ce5e7",
   "metadata": {},
   "outputs": [],
   "source": []
  }
 ],
 "metadata": {
  "kernelspec": {
   "display_name": "Python 3 (ipykernel)",
   "language": "python",
   "name": "python3"
  },
  "language_info": {
   "codemirror_mode": {
    "name": "ipython",
    "version": 3
   },
   "file_extension": ".py",
   "mimetype": "text/x-python",
   "name": "python",
   "nbconvert_exporter": "python",
   "pygments_lexer": "ipython3",
   "version": "3.10.2"
  }
 },
 "nbformat": 4,
 "nbformat_minor": 5
}
