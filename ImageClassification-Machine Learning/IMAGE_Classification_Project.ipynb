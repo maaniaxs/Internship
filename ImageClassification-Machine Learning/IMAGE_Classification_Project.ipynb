{
  "nbformat": 4,
  "nbformat_minor": 0,
  "metadata": {
    "colab": {
      "provenance": [],
      "collapsed_sections": []
    },
    "kernelspec": {
      "name": "python3",
      "display_name": "Python 3"
    },
    "language_info": {
      "name": "python"
    },
    "accelerator": "GPU",
    "gpuClass": "standard"
  },
  "cells": [
    {
      "cell_type": "code",
      "execution_count": null,
      "metadata": {
        "id": "1MUt2fOlXLhE"
      },
      "outputs": [],
      "source": [
        "# INTRODUCTION\n",
        "This is data collected by web-scrapping from amazon.in\n",
        "This Image-data has three category( JEANS, SAREES, TROUSERS)\n",
        ". jeans = 0\n",
        ". saree = 1\n",
        ". trouser = 2"
      ]
    },
    {
      "cell_type": "code",
      "source": [
        "import numpy as np\n",
        "import matplotlib.pyplot as plt\n",
        "from skimage.io import imread\n",
        "from skimage.transform import resize\n",
        "import os\n",
        "\n",
        "from IPython.display import Image"
      ],
      "metadata": {
        "id": "VJc3UegEXUu5"
      },
      "execution_count": 1,
      "outputs": []
    },
    {
      "cell_type": "code",
      "source": [
        "TEST_DIR= '/content/drive/MyDrive/Test'\n",
        "TRAIN_DIR= '/content/drive/MyDrive/Train'"
      ],
      "metadata": {
        "id": "_bj5dDQrXUxP"
      },
      "execution_count": 2,
      "outputs": []
    },
    {
      "cell_type": "code",
      "source": [
        "Image('/content/drive/MyDrive/Train/Jeans/Image_19.jpg') ##  JEANS IMAGE"
      ],
      "metadata": {
        "colab": {
          "base_uri": "https://localhost:8080/",
          "height": 167
        },
        "id": "qEAGIN57XU0j",
        "outputId": "77a1d17a-58d2-46e7-a8f9-fa46730fccdc"
      },
      "execution_count": 3,
      "outputs": [
        {
          "output_type": "execute_result",
          "data": {
            "image/jpeg": "[encoded data removed]",
            "text/plain": [
              "<IPython.core.display.Image object>"
            ]
          },
          "metadata": {},
          "execution_count": 3
        }
      ]
    },
    {
      "cell_type": "code",
      "source": [
        "Image('/content/drive/MyDrive/Train/Sarees/SAREE1.jpg') ##  SAREE IMAGE"
      ],
      "metadata": {
        "colab": {
          "base_uri": "https://localhost:8080/",
          "height": 167
        },
        "id": "LK8k8-nLYGF7",
        "outputId": "a1280f5b-ab7e-4cd3-b388-3ab9dd3c68fb"
      },
      "execution_count": 4,
      "outputs": [
        {
          "output_type": "execute_result",
          "data": {
            "image/jpeg": "[encoded data removed]",
            "text/plain": [
              "<IPython.core.display.Image object>"
            ]
          },
          "metadata": {},
          "execution_count": 4
        }
      ]
    },
    {
      "cell_type": "code",
      "source": [
        "Image('/content/drive/MyDrive/Train/Trouser/TROUSER109.jpg') ## TROUSER IMAGE"
      ],
      "metadata": {
        "colab": {
          "base_uri": "https://localhost:8080/",
          "height": 167
        },
        "id": "XAMek5J_kD-c",
        "outputId": "faee27b4-b612-427d-80de-39f4375daace"
      },
      "execution_count": 5,
      "outputs": [
        {
          "output_type": "execute_result",
          "data": {
            "image/jpeg": "[encoded data removed]",
            "text/plain": [
              "<IPython.core.display.Image object>"
            ]
          },
          "metadata": {},
          "execution_count": 5
        }
      ]
    },
    {
      "cell_type": "code",
      "source": [
        "##\n",
        "Train_dir = '/content/drive/MyDrive/Train'       ## train data directory\n",
        "category = ['Jeans', 'Sarees', 'Trouser']\n",
        "train_data= []\n",
        "train_label= []\n",
        "\n",
        "for items in category:\n",
        "    class_num = category.index(items)\n",
        "    path= os.path.join(Train_dir, items)\n",
        "    for img_dir in os.listdir(path):\n",
        "        img = imread(os.path.join(path,img_dir))\n",
        "        resize_img = resize(img, (150,150,3))\n",
        "        train_data.append(resize_img.flatten())\n",
        "        train_label.append(class_num)\n",
        "        \n",
        "train_data = np.array(train_data)   # when we apply imread function of skimage, we get normalised array\n",
        "train_label = np.array(train_label)\n"
      ],
      "metadata": {
        "id": "rl3OlquoYGIF"
      },
      "execution_count": 6,
      "outputs": []
    },
    {
      "cell_type": "code",
      "source": [
        "print(len(train_data))\n",
        "print(len(train_label))\n",
        "\n",
        "print(len(train_data[0]))\n",
        "train_label[800:846]"
      ],
      "metadata": {
        "colab": {
          "base_uri": "https://localhost:8080/"
        },
        "id": "QWI7qfIqYGMx",
        "outputId": "7df11bc3-05b7-4bf9-e986-63683e6c0cb5"
      },
      "execution_count": 7,
      "outputs": [
        {
          "output_type": "stream",
          "name": "stdout",
          "text": [
            "905\n",
            "905\n",
            "67500\n"
          ]
        },
        {
          "output_type": "execute_result",
          "data": {
            "text/plain": [
              "array([2, 2, 2, 2, 2, 2, 2, 2, 2, 2, 2, 2, 2, 2, 2, 2, 2, 2, 2, 2, 2, 2,\n",
              "       2, 2, 2, 2, 2, 2, 2, 2, 2, 2, 2, 2, 2, 2, 2, 2, 2, 2, 2, 2, 2, 2,\n",
              "       2, 2])"
            ]
          },
          "metadata": {},
          "execution_count": 7
        }
      ]
    },
    {
      "cell_type": "code",
      "source": [],
      "metadata": {
        "id": "0RlI1zyDlZ4c"
      },
      "execution_count": null,
      "outputs": []
    },
    {
      "cell_type": "code",
      "source": [
        "##\n",
        "Test_dir = '/content/drive/MyDrive/Test'\n",
        "category = ['Jeans', 'Sarees', 'Trouser']\n",
        "test_data = []                           # creating empty test_data list\n",
        "test_label = []                           #  create empty test label list\n",
        "\n",
        "for items in category:\n",
        "    class_num = category.index(items)   # creating labels \n",
        "    path= os.path.join(Test_dir, items)\n",
        "    for img_dir in os.listdir(path):\n",
        "        img = imread(os.path.join(path,img_dir))\n",
        "        resize_img = resize(img, (150,150,3))     # resizing images\n",
        "        test_data.append(resize_img.flatten())   # flattening numpy array and appending into variable\n",
        "        test_label.append(class_num)             # \n",
        "        \n",
        "test_data = np.array(test_data)                 # convert into numpy array of test_data\n",
        "test_label = np.array(test_label)               # test label"
      ],
      "metadata": {
        "id": "XklTkY1cYGPH"
      },
      "execution_count": 8,
      "outputs": []
    },
    {
      "cell_type": "code",
      "source": [
        "print(len(test_data))\n",
        "print(len(test_label))"
      ],
      "metadata": {
        "colab": {
          "base_uri": "https://localhost:8080/"
        },
        "id": "XO_Q_1S6YGTn",
        "outputId": "4712e62b-b68c-40b9-e0e3-d977cdfb8236"
      },
      "execution_count": 9,
      "outputs": [
        {
          "output_type": "stream",
          "name": "stdout",
          "text": [
            "151\n",
            "151\n"
          ]
        }
      ]
    },
    {
      "cell_type": "code",
      "source": [
        "from sklearn.svm import SVC\n",
        "from sklearn.ensemble import ExtraTreesClassifier\n",
        "from sklearn.neighbors import KNeighborsClassifier\n",
        "from sklearn.metrics import *\n",
        "from sklearn.model_selection import *"
      ],
      "metadata": {
        "id": "7PHAugXRYctQ"
      },
      "execution_count": 12,
      "outputs": []
    },
    {
      "cell_type": "code",
      "source": [
        "##\n",
        "x_train = train_data      # training the model \n",
        "y_train = train_label    # \n",
        "x_test = test_data      # test the model on this data\n",
        "y_test = test_label     # checking test accuracy on this data"
      ],
      "metadata": {
        "id": "xtMCTXT9Ygtq"
      },
      "execution_count": 13,
      "outputs": []
    },
    {
      "cell_type": "code",
      "source": [
        "##\n",
        "# FIRST, WE USED CROSS VALIDATION FOR CHECKING WHICH ALGORITHM PERFORMED BETTER ON THIS DATA \n",
        "# AND THAT ALGORITHM GET MORE CROSS-VALIDATION SCORE THEN APPLY HYPER PARAMTER TUNING WITH GRIDSEARCHCV ON THAT ALGORITHM"
      ],
      "metadata": {
        "id": "jHeXvju8YtJj"
      },
      "execution_count": null,
      "outputs": []
    },
    {
      "cell_type": "code",
      "source": [
        "##  LET'S USE CROSS-VALIDATION WITH   SVM\n",
        "kfold = KFold(n_splits=10,shuffle=True)\n",
        "cross_val_score(SVC(), x_train,y_train, cv=kfold, n_jobs=-1).mean()"
      ],
      "metadata": {
        "colab": {
          "base_uri": "https://localhost:8080/"
        },
        "id": "OkIjEi1RYgwB",
        "outputId": "ee62eeb5-eba0-4bb0-e5b6-c36f4ff0c0e7"
      },
      "execution_count": 19,
      "outputs": [
        {
          "output_type": "execute_result",
          "data": {
            "text/plain": [
              "0.8695482295482295"
            ]
          },
          "metadata": {},
          "execution_count": 19
        }
      ]
    },
    {
      "cell_type": "code",
      "source": [
        "##     LET'S USE CROSS-VALIDATION WITH     KNN\n",
        "from sklearn.neighbors import KNeighborsClassifier\n",
        "cross_val_score(KNeighborsClassifier(), x_train,y_train, cv=kfold, n_jobs=-1).mean()"
      ],
      "metadata": {
        "colab": {
          "base_uri": "https://localhost:8080/"
        },
        "id": "Ej6zkEhcYg03",
        "outputId": "aec41cb9-1116-45ce-dccf-160e5e045e60"
      },
      "execution_count": 20,
      "outputs": [
        {
          "output_type": "execute_result",
          "data": {
            "text/plain": [
              "0.8033211233211235"
            ]
          },
          "metadata": {},
          "execution_count": 20
        }
      ]
    },
    {
      "cell_type": "code",
      "source": [
        "##   LET'S UUSE CROSS-VALIDATION WITH  ExtraTressClassifier\n",
        "\n",
        "cross_val_score(ExtraTreesClassifier(), x_train,y_train, cv=kfold, n_jobs=-1).mean()"
      ],
      "metadata": {
        "colab": {
          "base_uri": "https://localhost:8080/"
        },
        "id": "Q7Bi1NiQYg3O",
        "outputId": "8bb37e75-d9f2-429c-bc8a-cccd98f74308"
      },
      "execution_count": 21,
      "outputs": [
        {
          "output_type": "execute_result",
          "data": {
            "text/plain": [
              "0.8926984126984129"
            ]
          },
          "metadata": {},
          "execution_count": 21
        }
      ]
    },
    {
      "cell_type": "code",
      "source": [],
      "metadata": {
        "id": "n5dzS4wYPngo"
      },
      "execution_count": null,
      "outputs": []
    },
    {
      "cell_type": "code",
      "source": [
        "## SVM CLASSIFIER  MODEL\n",
        "svm= SVC(C=80,probability=True,degree=7)\n",
        "svm.fit(x_train, y_train)\n",
        "svm_pred = svm.predict(x_test)\n",
        "print('accuracy_score=',accuracy_score(y_test, svm_pred))\n",
        "print('classification_report \\n',classification_report(y_test, svm_pred))\n",
        "\n",
        "# PLOT CONFUSION MATRIX  of SVM MODEL\n",
        "cm= confusion_matrix(y_test, svm_pred, labels= svm.classes_)\n",
        "disp= ConfusionMatrixDisplay(confusion_matrix=cm, display_labels=svm.classes_)\n",
        "disp.plot()\n",
        "plt.show()"
      ],
      "metadata": {
        "colab": {
          "base_uri": "https://localhost:8080/",
          "height": 498
        },
        "id": "4EL4K_ZlM76h",
        "outputId": "fdbc204f-6fdc-432a-a044-f008c7fe9db4"
      },
      "execution_count": 15,
      "outputs": [
        {
          "output_type": "stream",
          "name": "stdout",
          "text": [
            "accuracy_score= 0.8807947019867549\n",
            "classification_report \n",
            "               precision    recall  f1-score   support\n",
            "\n",
            "           0       0.88      0.85      0.87        54\n",
            "           1       0.93      0.96      0.94        53\n",
            "           2       0.82      0.82      0.82        44\n",
            "\n",
            "    accuracy                           0.88       151\n",
            "   macro avg       0.88      0.88      0.88       151\n",
            "weighted avg       0.88      0.88      0.88       151\n",
            "\n"
          ]
        },
        {
          "output_type": "display_data",
          "data": {
            "text/plain": [
              "<Figure size 432x288 with 2 Axes>"
            ],
            "image/png": "[encoded data removed]"
          },
          "metadata": {
            "needs_background": "light"
          }
        }
      ]
    },
    {
      "cell_type": "code",
      "source": [
        "##    extraTreeClassifier\n",
        "et_c = ExtraTreesClassifier()\n",
        "et_c.fit(x_train, y_train)\n",
        "et_pred = et_c.predict(x_test)\n",
        "print('accuracy_score=',accuracy_score(y_test, et_pred))\n",
        "print('classification_report \\n',classification_report(y_test, et_pred))\n",
        "\n",
        "# PLOT CONFUSION MATRIX  of KNN MODEL\n",
        "cm= confusion_matrix(y_test, et_pred, labels= et_c.classes_)\n",
        "disp= ConfusionMatrixDisplay(confusion_matrix=cm, display_labels=et_c.classes_)\n",
        "disp.plot()\n",
        "plt.show()"
      ],
      "metadata": {
        "colab": {
          "base_uri": "https://localhost:8080/",
          "height": 498
        },
        "id": "8obkYpiAqKGF",
        "outputId": "a8d526d2-26e9-4ef5-fa88-96ac602c168e"
      },
      "execution_count": 16,
      "outputs": [
        {
          "output_type": "stream",
          "name": "stdout",
          "text": [
            "accuracy_score= 0.8609271523178808\n",
            "classification_report \n",
            "               precision    recall  f1-score   support\n",
            "\n",
            "           0       0.91      0.78      0.84        54\n",
            "           1       0.85      0.98      0.91        53\n",
            "           2       0.82      0.82      0.82        44\n",
            "\n",
            "    accuracy                           0.86       151\n",
            "   macro avg       0.86      0.86      0.86       151\n",
            "weighted avg       0.86      0.86      0.86       151\n",
            "\n"
          ]
        },
        {
          "output_type": "display_data",
          "data": {
            "text/plain": [
              "<Figure size 432x288 with 2 Axes>"
            ],
            "image/png": "[encoded data removed]"
          },
          "metadata": {
            "needs_background": "light"
          }
        }
      ]
    },
    {
      "cell_type": "code",
      "source": [
        "##  KNN MODEL\n",
        "knn = KNeighborsClassifier(n_neighbors=6)\n",
        "knn.fit(x_train, y_train)\n",
        "knn_pred = knn.predict(x_test)\n",
        "print('accuracy_score=',accuracy_score(y_test, knn_pred))\n",
        "print('classification_report \\n',classification_report(y_test, knn_pred))\n",
        "\n",
        "# PLOT CONFUSION MATRIX  of KNN MODEL\n",
        "cm= confusion_matrix(y_test, knn_pred, labels= knn.classes_)\n",
        "disp= ConfusionMatrixDisplay(confusion_matrix=cm, display_labels=knn.classes_)\n",
        "disp.plot() \n",
        "plt.show()"
      ],
      "metadata": {
        "colab": {
          "base_uri": "https://localhost:8080/",
          "height": 498
        },
        "id": "Xgoqpj01NydC",
        "outputId": "f4154a09-2287-4162-edfc-3c8865767d01"
      },
      "execution_count": 17,
      "outputs": [
        {
          "output_type": "stream",
          "name": "stdout",
          "text": [
            "accuracy_score= 0.8278145695364238\n",
            "classification_report \n",
            "               precision    recall  f1-score   support\n",
            "\n",
            "           0       0.78      0.80      0.79        54\n",
            "           1       0.88      0.96      0.92        53\n",
            "           2       0.82      0.70      0.76        44\n",
            "\n",
            "    accuracy                           0.83       151\n",
            "   macro avg       0.83      0.82      0.82       151\n",
            "weighted avg       0.83      0.83      0.83       151\n",
            "\n"
          ]
        },
        {
          "output_type": "display_data",
          "data": {
            "text/plain": [
              "<Figure size 432x288 with 2 Axes>"
            ],
            "image/png": "[encoded data removed]"
          },
          "metadata": {
            "needs_background": "light"
          }
        }
      ]
    },
    {
      "cell_type": "code",
      "source": [],
      "metadata": {
        "id": "UbjvPHFRNyfY"
      },
      "execution_count": null,
      "outputs": []
    },
    {
      "cell_type": "code",
      "source": [],
      "metadata": {
        "id": "a9ljk4D-MB2n"
      },
      "execution_count": null,
      "outputs": []
    },
    {
      "cell_type": "code",
      "source": [
        "##     \n",
        "ET_C= ExtraTreesClassifier(n_jobs= -1)\n",
        "param = {'n_estimators':[220,600,1200,],'min_samples_split':[3,7,14,23],'min_samples_leaf':[1,6,13], 'bootstrap':[True, False],'oob_score':[True,False]}\n",
        "grid= GridSearchCV(ET_C, param_grid=param, cv=kfold, n_jobs= -1)\n",
        "grid.fit(x_train, y_train)\n",
        "grid.best_params_"
      ],
      "metadata": {
        "id": "rqKFgAibYg_O"
      },
      "execution_count": null,
      "outputs": []
    },
    {
      "cell_type": "code",
      "source": [
        "\n"
      ],
      "metadata": {
        "id": "zllopAF3qK4x"
      },
      "execution_count": null,
      "outputs": []
    },
    {
      "cell_type": "code",
      "source": [],
      "metadata": {
        "id": "CkssegV_6NtD"
      },
      "execution_count": null,
      "outputs": []
    },
    {
      "cell_type": "code",
      "source": [
        "##  CNN MODEL"
      ],
      "metadata": {
        "id": "JAsDq3IR6Nwl"
      },
      "execution_count": null,
      "outputs": []
    },
    {
      "cell_type": "code",
      "source": [
        "import tensorflow as tf\n",
        "from tensorflow import keras\n",
        "from keras import Sequential\n",
        "from keras.layers import Dense, Conv2D, MaxPooling2D, Flatten, Dropout\n",
        "from keras.regularizers import l1, l2"
      ],
      "metadata": {
        "id": "mHmTHENpqK7L"
      },
      "execution_count": 1,
      "outputs": []
    },
    {
      "cell_type": "code",
      "source": [
        "# loading image data \n",
        "train_data= keras.utils.image_dataset_from_directory(\n",
        "    directory= '/content/drive/MyDrive/Train',\n",
        "    labels= 'inferred',\n",
        "    label_mode= 'int',\n",
        "    batch_size= 5,\n",
        "    image_size= (150,150)\n",
        ")\n",
        "\n",
        "test_data= keras.utils.image_dataset_from_directory(\n",
        "    directory= '/content/drive/MyDrive/Test',\n",
        "    labels= 'inferred',\n",
        "    label_mode= 'int',\n",
        "    batch_size= 5,\n",
        "    image_size= (150,150)\n",
        ")"
      ],
      "metadata": {
        "id": "pleDRkTtFEpw",
        "colab": {
          "base_uri": "https://localhost:8080/"
        },
        "outputId": "4927857d-79f4-4a4a-885e-a7aac9ef6bd0"
      },
      "execution_count": 2,
      "outputs": [
        {
          "output_type": "stream",
          "name": "stdout",
          "text": [
            "Found 905 files belonging to 3 classes.\n",
            "Found 151 files belonging to 3 classes.\n"
          ]
        }
      ]
    },
    {
      "cell_type": "code",
      "source": [
        "## NORMALIzation\n",
        "def process (image,label):\n",
        "  image= tf.cast(image/255. ,tf.float32)\n",
        "  return image, label\n",
        "\n",
        "train_data= train_data.map(process)\n",
        "test_data= test_data.map(process)\n",
        "#kernel_regularizer=l2(0.01), bias_regularizer=l2(0.01)"
      ],
      "metadata": {
        "id": "ni8WDFHWFEsI"
      },
      "execution_count": 3,
      "outputs": []
    },
    {
      "cell_type": "code",
      "source": [
        "## CREATE CNN MODEL\n",
        "model= Sequential()\n",
        "\n",
        "model.add(Conv2D(filters=56,kernel_size=(3,3), padding= 'valid', activation='relu',input_shape=(150,150,3), kernel_regularizer=l1()))\n",
        "model.add(Dropout(0.2))\n",
        "model.add(MaxPooling2D(pool_size=(2,2), strides=2, padding= 'valid'))\n",
        "\n",
        "model.add(Conv2D(filters=32,kernel_size=(3,3), activation='relu', kernel_regularizer=l1()))\n",
        "model.add(MaxPooling2D(pool_size=(2,2), padding= 'valid'))\n",
        "model.add(Conv2D(filters=16,kernel_size=(3,3), activation='relu'))\n",
        "model.add(MaxPooling2D(pool_size=(2,2), padding= 'valid'))\n",
        "\n",
        "model.add(Flatten())\n",
        "model.add(Dense(112,activation='LeakyReLU'))\n",
        "model.add(Dropout((0.2)))\n",
        "model.add(Dense(16,activation='LeakyReLU'))\n",
        "model.add(Dense(3, activation= 'softmax'))  #LeakyReLU"
      ],
      "metadata": {
        "id": "vV_JLjmnYhBj"
      },
      "execution_count": 4,
      "outputs": []
    },
    {
      "cell_type": "code",
      "source": [
        "# COMPILE MODEL\n",
        "model.compile(loss='sparse_categorical_crossentropy',optimizer= 'adam' ,metrics=['accuracy'])"
      ],
      "metadata": {
        "id": "CAzHFeMwYcw-"
      },
      "execution_count": 5,
      "outputs": []
    },
    {
      "cell_type": "code",
      "source": [
        "history= model.fit(train_data,epochs=13,validation_data=test_data)"
      ],
      "metadata": {
        "id": "NW1_vsV0ixnB",
        "colab": {
          "base_uri": "https://localhost:8080/"
        },
        "outputId": "5cc28d6c-926c-4c2f-c0b0-5a9ee3ef3c87"
      },
      "execution_count": 6,
      "outputs": [
        {
          "output_type": "stream",
          "name": "stdout",
          "text": [
            "Epoch 1/13\n",
            "181/181 [==============================] - 6s 13ms/step - loss: 3.2536 - accuracy: 0.6729 - val_loss: 1.5172 - val_accuracy: 0.7086\n",
            "Epoch 2/13\n",
            "181/181 [==============================] - 2s 12ms/step - loss: 1.0664 - accuracy: 0.8254 - val_loss: 0.9198 - val_accuracy: 0.8146\n",
            "Epoch 3/13\n",
            "181/181 [==============================] - 3s 17ms/step - loss: 0.7069 - accuracy: 0.8608 - val_loss: 0.9369 - val_accuracy: 0.6689\n",
            "Epoch 4/13\n",
            "181/181 [==============================] - 2s 11ms/step - loss: 0.5796 - accuracy: 0.8641 - val_loss: 0.7371 - val_accuracy: 0.7748\n",
            "Epoch 5/13\n",
            "181/181 [==============================] - 3s 18ms/step - loss: 0.4581 - accuracy: 0.8829 - val_loss: 0.6356 - val_accuracy: 0.8079\n",
            "Epoch 6/13\n",
            "181/181 [==============================] - 2s 12ms/step - loss: 0.3943 - accuracy: 0.8983 - val_loss: 0.5786 - val_accuracy: 0.8278\n",
            "Epoch 7/13\n",
            "181/181 [==============================] - 2s 11ms/step - loss: 0.3565 - accuracy: 0.9050 - val_loss: 0.6064 - val_accuracy: 0.8477\n",
            "Epoch 8/13\n",
            "181/181 [==============================] - 2s 12ms/step - loss: 0.3264 - accuracy: 0.9116 - val_loss: 0.4819 - val_accuracy: 0.8742\n",
            "Epoch 9/13\n",
            "181/181 [==============================] - 2s 11ms/step - loss: 0.2621 - accuracy: 0.9348 - val_loss: 0.6013 - val_accuracy: 0.8344\n",
            "Epoch 10/13\n",
            "181/181 [==============================] - 2s 12ms/step - loss: 0.2631 - accuracy: 0.9193 - val_loss: 0.6074 - val_accuracy: 0.8742\n",
            "Epoch 11/13\n",
            "181/181 [==============================] - 2s 11ms/step - loss: 0.2197 - accuracy: 0.9481 - val_loss: 0.5801 - val_accuracy: 0.8609\n",
            "Epoch 12/13\n",
            "181/181 [==============================] - 2s 11ms/step - loss: 0.2084 - accuracy: 0.9492 - val_loss: 0.5997 - val_accuracy: 0.8609\n",
            "Epoch 13/13\n",
            "181/181 [==============================] - 2s 11ms/step - loss: 0.1785 - accuracy: 0.9602 - val_loss: 0.6564 - val_accuracy: 0.8742\n"
          ]
        }
      ]
    },
    {
      "cell_type": "code",
      "source": [
        "##\n",
        "import matplotlib.pyplot as plt\n",
        "plt.plot(history.history['accuracy'], color= 'red', label= 'training')\n",
        "plt.plot(history.history['val_accuracy'], color= 'k', label= 'test_score')\n",
        "plt.legend()\n",
        "plt.show()"
      ],
      "metadata": {
        "id": "SiTEyOMgYGV_",
        "colab": {
          "base_uri": "https://localhost:8080/",
          "height": 265
        },
        "outputId": "537016b0-a8b3-481c-dc87-a2585709c3c6"
      },
      "execution_count": 8,
      "outputs": [
        {
          "output_type": "display_data",
          "data": {
            "text/plain": [
              "<Figure size 432x288 with 1 Axes>"
            ],
            "image/png": "[encoded data removed]"
          },
          "metadata": {
            "needs_background": "light"
          }
        }
      ]
    },
    {
      "cell_type": "code",
      "source": [],
      "metadata": {
        "id": "81cAeV5LZ9zi"
      },
      "execution_count": null,
      "outputs": []
    }
  ]
}