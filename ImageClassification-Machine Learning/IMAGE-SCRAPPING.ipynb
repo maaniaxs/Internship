{
 "cells": [
  {
   "cell_type": "markdown",
   "id": "69d624cc",
   "metadata": {},
   "source": [
    "\n",
    "# Image scrapping from amazon.in"
   ]
  },
  {
   "cell_type": "code",
   "execution_count": 1,
   "id": "3fb860ea",
   "metadata": {},
   "outputs": [],
   "source": [
    "\n",
    "import selenium\n",
    "import pandas as pd\n",
    "from selenium import webdriver\n",
    "import warnings\n",
    "warnings.filterwarnings('ignore')\n",
    "from selenium.webdriver.common.by import By\n",
    "from selenium.webdriver.common.keys import Keys\n",
    " \n",
    "import urllib.request\n",
    "import os\n",
    "import requests\n",
    "import time\n",
    "from selenium.common.exceptions import NoSuchElementException"
   ]
  },
  {
   "cell_type": "code",
   "execution_count": null,
   "id": "88c240d7",
   "metadata": {},
   "outputs": [],
   "source": []
  },
  {
   "cell_type": "code",
   "execution_count": 2,
   "id": "fb908075",
   "metadata": {},
   "outputs": [],
   "source": [
    "# CHROME DRIVER\n",
    "driver = webdriver.Chrome(r'C:\\Users\\acer\\INTERNSHIP_WORSHEET\\chromedriver.exe')"
   ]
  },
  {
   "cell_type": "code",
   "execution_count": 3,
   "id": "0a229607",
   "metadata": {},
   "outputs": [],
   "source": [
    "driver.get('https://www.amazon.in/')"
   ]
  },
  {
   "cell_type": "code",
   "execution_count": 25,
   "id": "af613551",
   "metadata": {},
   "outputs": [],
   "source": [
    "# creating empty list for storing url list\n",
    "trouser_img= []\n",
    "saree_img= []\n",
    "jeans_img= []"
   ]
  },
  {
   "cell_type": "code",
   "execution_count": null,
   "id": "9ab4075c",
   "metadata": {},
   "outputs": [],
   "source": [
    "## MAKE A FUNCTION FOR IMAGE-URL SCRAPPING FROM AMAZON.IN \n",
    "\n",
    "def scrap_image(cloths, category):\n",
    "    \n",
    "    search= driver.find_element(By.XPATH, '/html/body/div[1]/header/div/div[1]/div[2]/div/form/div[2]/div[1]/input')\n",
    "    search.send_keys(cloths)\n",
    "    search.send_keys(Keys.ENTER)\n",
    "    \n",
    "    for i in range(1):\n",
    "        tr= driver.find_elements(By.XPATH, '//img[@class= \"s-image\"]')\n",
    "        for i in tr:\n",
    "            category.append(i.get_attribute('src'))\n",
    "    \n",
    "        nex=driver.find_element(By.XPATH, '//a[@class= \"s-pagination-item s-pagination-next s-pagination-button s-pagination-separator\"]')\n",
    "        nex.click()\n",
    "        driver.execute_script('window.scrollTo(0,document.body.scrollHeight);')\n",
    "        time.sleep(5)\n"
   ]
  },
  {
   "cell_type": "code",
   "execution_count": 49,
   "id": "01ce5a0c",
   "metadata": {},
   "outputs": [],
   "source": [
    "scrap_image('Trouser for men',trouser_img)"
   ]
  },
  {
   "cell_type": "code",
   "execution_count": 31,
   "id": "c9d1b84e",
   "metadata": {},
   "outputs": [],
   "source": [
    "scrap_image('Jeans for men', jeans_img)"
   ]
  },
  {
   "cell_type": "code",
   "execution_count": 48,
   "id": "52598287",
   "metadata": {},
   "outputs": [],
   "source": [
    "scrap_image('Saree for women', saree_img)"
   ]
  },
  {
   "cell_type": "code",
   "execution_count": 50,
   "id": "09bb90cc",
   "metadata": {},
   "outputs": [
    {
     "name": "stdout",
     "output_type": "stream",
     "text": [
      "finished\n"
     ]
    }
   ],
   "source": [
    "## scrapping Trouser image from URL\n",
    "for i in range(len(trouser_img)):\n",
    "    \n",
    "    urllib.request.urlretrieve(str(trouser_img[i]), 'E:\\download\\INTERNSHIP\\images\\TROUSER{}.jpg'.format(i))\n",
    "print('finished')"
   ]
  },
  {
   "cell_type": "code",
   "execution_count": 51,
   "id": "fb162e08",
   "metadata": {},
   "outputs": [
    {
     "name": "stdout",
     "output_type": "stream",
     "text": [
      "finished\n"
     ]
    }
   ],
   "source": [
    "## scrapping Jeans image from URL\n",
    "for i in range(len(jeans_img)):\n",
    "    \n",
    "    urllib.request.urlretrieve(str(jeans_img[i]), 'E:\\download\\INTERNSHIP\\images\\JEANS{}.jpg'.format(i))\n",
    "print('finished')"
   ]
  },
  {
   "cell_type": "code",
   "execution_count": 52,
   "id": "7744b241",
   "metadata": {},
   "outputs": [
    {
     "name": "stdout",
     "output_type": "stream",
     "text": [
      "finished\n"
     ]
    }
   ],
   "source": [
    "## scrapping Saree images from URL\n",
    "for i in range(len(saree_img)):\n",
    "    \n",
    "    urllib.request.urlretrieve(str(jeans_img[i]), 'E:\\download\\INTERNSHIP\\images\\SAREE{}.jpg'.format(i))\n",
    "print('finished')"
   ]
  },
  {
   "cell_type": "code",
   "execution_count": null,
   "id": "38fe2ed9",
   "metadata": {},
   "outputs": [],
   "source": []
  },
  {
   "cell_type": "code",
   "execution_count": null,
   "id": "5ec3af78",
   "metadata": {},
   "outputs": [],
   "source": []
  },
  {
   "cell_type": "code",
   "execution_count": null,
   "id": "60fa4ff4",
   "metadata": {},
   "outputs": [],
   "source": []
  },
  {
   "cell_type": "code",
   "execution_count": null,
   "id": "48d1624d",
   "metadata": {},
   "outputs": [],
   "source": []
  },
  {
   "cell_type": "code",
   "execution_count": null,
   "id": "c29d1e69",
   "metadata": {},
   "outputs": [],
   "source": []
  }
 ],
 "metadata": {
  "kernelspec": {
   "display_name": "Python 3 (ipykernel)",
   "language": "python",
   "name": "python3"
  },
  "language_info": {
   "codemirror_mode": {
    "name": "ipython",
    "version": 3
   },
   "file_extension": ".py",
   "mimetype": "text/x-python",
   "name": "python",
   "nbconvert_exporter": "python",
   "pygments_lexer": "ipython3",
   "version": "3.9.12"
  }
 },
 "nbformat": 4,
 "nbformat_minor": 5
}
